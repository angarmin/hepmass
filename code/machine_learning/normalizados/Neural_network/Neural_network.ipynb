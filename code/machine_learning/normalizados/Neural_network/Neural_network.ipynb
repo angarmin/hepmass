{
 "cells": [
  {
   "cell_type": "markdown",
   "metadata": {},
   "source": [
    "**Libraries**"
   ]
  },
  {
   "cell_type": "code",
   "execution_count": 1,
   "metadata": {},
   "outputs": [],
   "source": [
    "import pandas as pd\n",
    "import numpy as np\n",
    "\n",
    "import warnings\n",
    "\n",
    "import matplotlib as mpl\n",
    "import matplotlib.pyplot as plt\n",
    "import seaborn as sns\n",
    "from plotnine import *\n",
    "import joypy #el de las densidades guays\n",
    "\n",
    "from sklearn import manifold  \n",
    "\n",
    "\n",
    "from sklearn.model_selection import train_test_split\n",
    "from sklearn.model_selection import cross_val_score\n",
    "from sklearn.model_selection import GridSearchCV\n",
    "import os \n",
    "cwd = os.getcwd() + \"/\"\n",
    "cwd=\"/home/angela/Notebook/machine_learning/normalizados/NN_simple_param/\"\n",
    "from sklearn import metrics\n",
    "\n",
    "from sklearn.neural_network import MLPClassifier\n",
    "\n",
    "\n",
    "warnings.filterwarnings('ignore') #ATENCION QUE ESTO CREO QUE FUNCIONA PARA TODO EL NOTEBOOK\n",
    "\n",
    "import random\n",
    "random.seed(1)\n",
    "np.random.seed(1)\n",
    "np.random.RandomState(1)\n",
    "\n",
    "from sklearn.preprocessing import MinMaxScaler\n",
    "\n",
    "from IPython.display import display\n",
    "\n",
    "\n"
   ]
  },
  {
   "cell_type": "markdown",
   "metadata": {},
   "source": [
    "**LOAD**"
   ]
  },
  {
   "cell_type": "code",
   "execution_count": 2,
   "metadata": {},
   "outputs": [],
   "source": [
    "#ALL THE DATASET\n",
    "\n",
    "df=pd.read_pickle(\"/home/angela/Notebook/data/normalizados/trainpickle\")\n",
    "df_originaltest=pd.read_pickle(\"/home/angela/Notebook/data/normalizados/testpickle\")"
   ]
  },
  {
   "cell_type": "code",
   "execution_count": 3,
   "metadata": {},
   "outputs": [],
   "source": [
    "#SIMPLe DATASET\n",
    "#df=pd.read_pickle(\"/home/angela/Notebook/data/normalizados/trainsimplepickle\")\n",
    "#df_originaltest=pd.read_pickle(\"/home/angela/Notebook/data/normalizados/testsimplepickle\")\n"
   ]
  },
  {
   "cell_type": "markdown",
   "metadata": {},
   "source": [
    "# Machine learning"
   ]
  },
  {
   "cell_type": "markdown",
   "metadata": {},
   "source": [
    "**We will follow the scikit-learn schema to train and validate the model**\n",
    "\n",
    "\n",
    "https://scikit-learn.org/stable/modules/cross_validation.html\n"
   ]
  },
  {
   "cell_type": "markdown",
   "metadata": {},
   "source": [
    "## SVM"
   ]
  },
  {
   "cell_type": "code",
   "execution_count": 4,
   "metadata": {},
   "outputs": [],
   "source": [
    "#Scores\n",
    "\n",
    "\n",
    "def Scores(y_true,y_pred):\n",
    "    \n",
    "    tn, fp, fn, tp = metrics.confusion_matrix(y_true, y_pred).ravel()\n",
    "    prec=tp / (tp + fp)\n",
    "    recall= tp / (tp + fn)\n",
    "    F1_score= 2 * (prec * recall) / (prec + recall)\n",
    "    acc=metrics.accuracy_score(y_true,y_pred)\n",
    "    kappa_cohen=metrics.cohen_kappa_score(y_true,y_pred)\n",
    "        \n",
    "    return(tn, fp, fn, tp, acc, prec,recall, F1_score,kappa_cohen)\n",
    "\n",
    "\n",
    "def model(X_train,y_train,X_test):\n",
    "    \n",
    "    scaler = MinMaxScaler()\n",
    "    scaler=scaler.fit(X_train)\n",
    "    \n",
    "    \n",
    "    X_train = scaler.transform(X_train)\n",
    "    X_test = scaler.transform(X_test)\n",
    "    \n",
    "    \n",
    "    model = MLPClassifier() \n",
    "    \n",
    "    #grid search, copy of kaggle: https://www.kaggle.com/hatone/mlpclassifier-with-gridsearchcv#L72\n",
    "    #defalult (scikit learn) :  best_model = MLPClassifier(solver='lbfgs', alpha=1e-5, hidden_layer_sizes=(5, 2)))\n",
    "\n",
    "    #params = {'solver': ['lbfgs'], 'max_iter': [1000,1100,1200,1300,1400,1500,1600,1700,1800,1900,2000 ], 'alpha': 10.0 ** -np.arange(1, 10), 'hidden_layer_sizes':np.arange(10, 15), 'random_state':[0,1,2,3,4,5,6,7,8,9]}    #model = SVC(probability=True) \n",
    "    #reduced: \n",
    "    #params = {'solver': ['lbfgs','adam', 'sgd'], 'max_iter': [200,600,1000,1400,1800], 'alpha': 10.0 ** -np.arange(4, 6), 'hidden_layer_sizes':np.arange(10, 15), 'random_state':[0]}    #model = SVC(probability=True) \n",
    " \n",
    "    params = {'solver': ['lbfgs'], 'max_iter': [1000,1500,2000], 'alpha': [10.0 ** -5,10.0 ** -4], 'hidden_layer_sizes':[15,25,35,50], 'random_state':[0],\n",
    "             'learning_rate':['constant'],'activation':[ 'tanh']}\n",
    "             #he pprobado y el solver sale siepre mejor lgbs\n",
    "            #he pprobado y el learning_rate sale siepre mejor constant\n",
    "            #he pprobado y el learning_rate sale siepre mejor tanh\n",
    "\n",
    "\n",
    "        \n",
    "        #'learning_rate':['constant', 'invscaling', 'adaptive'],'activation':['identity', 'logistic', 'tanh', 'relu']}    \n",
    "\n",
    "\n",
    "    grid = GridSearchCV(estimator=model, param_grid=params,cv=5,verbose=1, n_jobs=-1)\n",
    "\n",
    "    grid.fit(X_train,y_train)\n",
    "    best_model = grid.best_estimator_\n",
    "    \n",
    "    best_model.fit(X_train,y_train)\n",
    "    # Predict test set labels\n",
    "    y_pred = best_model.predict(X_test)    \n",
    "    y_pred_proba = best_model.predict_proba(X_test)[::,1] #Neccesary to make the ROC curve \n",
    "\n",
    "    return(grid,best_model,y_pred,y_pred_proba)"
   ]
  },
  {
   "cell_type": "code",
   "execution_count": 5,
   "metadata": {},
   "outputs": [
    {
     "name": "stdout",
     "output_type": "stream",
     "text": [
      "mass= 500\n",
      "train mass   0.0    500.0\n",
      "label              \n",
      "0      50168      0\n",
      "1          0  49832\n",
      "test mass     0      500\n",
      "label              \n",
      "0      24949      0\n",
      "1          0  25051\n",
      "Fitting 5 folds for each of 24 candidates, totalling 120 fits\n"
     ]
    },
    {
     "name": "stderr",
     "output_type": "stream",
     "text": [
      "[Parallel(n_jobs=-1)]: Done  18 tasks      | elapsed: 17.0min\n",
      "[Parallel(n_jobs=-1)]: Done 120 out of 120 | elapsed: 123.1min finished\n"
     ]
    },
    {
     "name": "stdout",
     "output_type": "stream",
     "text": [
      "MLPClassifier(activation='tanh', alpha=1e-05, batch_size='auto', beta_1=0.9,\n",
      "       beta_2=0.999, early_stopping=False, epsilon=1e-08,\n",
      "       hidden_layer_sizes=35, learning_rate='constant',\n",
      "       learning_rate_init=0.001, max_iter=2000, momentum=0.9,\n",
      "       nesterovs_momentum=True, power_t=0.5, random_state=0, shuffle=True,\n",
      "       solver='lbfgs', tol=0.0001, validation_fraction=0.1, verbose=False,\n",
      "       warm_start=False)\n"
     ]
    },
    {
     "data": {
      "image/png": "[encoded data removed]",
      "text/plain": [
       "<Figure size 432x288 with 1 Axes>"
      ]
     },
     "metadata": {},
     "output_type": "display_data"
    },
    {
     "name": "stdout",
     "output_type": "stream",
     "text": [
      "mass= 750\n",
      "train mass   0.0    750.0\n",
      "label              \n",
      "0      49776      0\n",
      "1          0  50224\n",
      "test mass     0      750\n",
      "label              \n",
      "0      24826      0\n",
      "1          0  25174\n",
      "Fitting 5 folds for each of 24 candidates, totalling 120 fits\n"
     ]
    },
    {
     "name": "stderr",
     "output_type": "stream",
     "text": [
      "[Parallel(n_jobs=-1)]: Done  18 tasks      | elapsed: 16.8min\n",
      "[Parallel(n_jobs=-1)]: Done 120 out of 120 | elapsed: 121.8min finished\n"
     ]
    },
    {
     "name": "stdout",
     "output_type": "stream",
     "text": [
      "MLPClassifier(activation='tanh', alpha=0.0001, batch_size='auto', beta_1=0.9,\n",
      "       beta_2=0.999, early_stopping=False, epsilon=1e-08,\n",
      "       hidden_layer_sizes=35, learning_rate='constant',\n",
      "       learning_rate_init=0.001, max_iter=1500, momentum=0.9,\n",
      "       nesterovs_momentum=True, power_t=0.5, random_state=0, shuffle=True,\n",
      "       solver='lbfgs', tol=0.0001, validation_fraction=0.1, verbose=False,\n",
      "       warm_start=False)\n"
     ]
    },
    {
     "data": {
      "image/png": "[encoded data removed]",
      "text/plain": [
       "<Figure size 432x288 with 1 Axes>"
      ]
     },
     "metadata": {},
     "output_type": "display_data"
    },
    {
     "name": "stdout",
     "output_type": "stream",
     "text": [
      "mass= 1000\n",
      "train mass   0.0     1000.0\n",
      "label                \n",
      "0       50061       0\n",
      "1           0   49939\n",
      "test mass    0      1000\n",
      "label              \n",
      "0      25131      0\n",
      "1          0  24869\n",
      "Fitting 5 folds for each of 24 candidates, totalling 120 fits\n"
     ]
    },
    {
     "name": "stderr",
     "output_type": "stream",
     "text": [
      "[Parallel(n_jobs=-1)]: Done  18 tasks      | elapsed: 12.1min\n",
      "[Parallel(n_jobs=-1)]: Done 120 out of 120 | elapsed: 103.3min finished\n"
     ]
    },
    {
     "name": "stdout",
     "output_type": "stream",
     "text": [
      "MLPClassifier(activation='tanh', alpha=0.0001, batch_size='auto', beta_1=0.9,\n",
      "       beta_2=0.999, early_stopping=False, epsilon=1e-08,\n",
      "       hidden_layer_sizes=35, learning_rate='constant',\n",
      "       learning_rate_init=0.001, max_iter=1500, momentum=0.9,\n",
      "       nesterovs_momentum=True, power_t=0.5, random_state=0, shuffle=True,\n",
      "       solver='lbfgs', tol=0.0001, validation_fraction=0.1, verbose=False,\n",
      "       warm_start=False)\n"
     ]
    },
    {
     "data": {
      "image/png": "[encoded data removed]",
      "text/plain": [
       "<Figure size 432x288 with 1 Axes>"
      ]
     },
     "metadata": {},
     "output_type": "display_data"
    },
    {
     "name": "stdout",
     "output_type": "stream",
     "text": [
      "mass= 1250\n",
      "train mass   0.0     1250.0\n",
      "label                \n",
      "0       50002       0\n",
      "1           0   49998\n",
      "test mass    0      1250\n",
      "label              \n",
      "0      25061      0\n",
      "1          0  24939\n",
      "Fitting 5 folds for each of 24 candidates, totalling 120 fits\n"
     ]
    },
    {
     "name": "stderr",
     "output_type": "stream",
     "text": [
      "[Parallel(n_jobs=-1)]: Done  18 tasks      | elapsed:  9.0min\n",
      "[Parallel(n_jobs=-1)]: Done 120 out of 120 | elapsed: 63.7min finished\n"
     ]
    },
    {
     "name": "stdout",
     "output_type": "stream",
     "text": [
      "MLPClassifier(activation='tanh', alpha=0.0001, batch_size='auto', beta_1=0.9,\n",
      "       beta_2=0.999, early_stopping=False, epsilon=1e-08,\n",
      "       hidden_layer_sizes=35, learning_rate='constant',\n",
      "       learning_rate_init=0.001, max_iter=1500, momentum=0.9,\n",
      "       nesterovs_momentum=True, power_t=0.5, random_state=0, shuffle=True,\n",
      "       solver='lbfgs', tol=0.0001, validation_fraction=0.1, verbose=False,\n",
      "       warm_start=False)\n"
     ]
    },
    {
     "data": {
      "image/png": "[encoded data removed]",
      "text/plain": [
       "<Figure size 432x288 with 1 Axes>"
      ]
     },
     "metadata": {},
     "output_type": "display_data"
    },
    {
     "name": "stdout",
     "output_type": "stream",
     "text": [
      "mass= 1500\n",
      "train mass   0.0     1500.0\n",
      "label                \n",
      "0       50149       0\n",
      "1           0   49851\n",
      "test mass    0      1500\n",
      "label              \n",
      "0      25050      0\n",
      "1          0  24950\n",
      "Fitting 5 folds for each of 24 candidates, totalling 120 fits\n"
     ]
    },
    {
     "name": "stderr",
     "output_type": "stream",
     "text": [
      "[Parallel(n_jobs=-1)]: Done  18 tasks      | elapsed:  7.4min\n",
      "[Parallel(n_jobs=-1)]: Done 120 out of 120 | elapsed: 56.8min finished\n"
     ]
    },
    {
     "name": "stdout",
     "output_type": "stream",
     "text": [
      "MLPClassifier(activation='tanh', alpha=1e-05, batch_size='auto', beta_1=0.9,\n",
      "       beta_2=0.999, early_stopping=False, epsilon=1e-08,\n",
      "       hidden_layer_sizes=15, learning_rate='constant',\n",
      "       learning_rate_init=0.001, max_iter=1000, momentum=0.9,\n",
      "       nesterovs_momentum=True, power_t=0.5, random_state=0, shuffle=True,\n",
      "       solver='lbfgs', tol=0.0001, validation_fraction=0.1, verbose=False,\n",
      "       warm_start=False)\n"
     ]
    },
    {
     "data": {
      "image/png": "[encoded data removed]",
      "text/plain": [
       "<Figure size 432x288 with 1 Axes>"
      ]
     },
     "metadata": {},
     "output_type": "display_data"
    },
    {
     "name": "stdout",
     "output_type": "stream",
     "text": [
      "X_train_shape (100000, 11)\n",
      "X_test_shape (50000, 11)\n"
     ]
    },
    {
     "data": {
      "text/html": [
       "<div>\n",
       "<style scoped>\n",
       "    .dataframe tbody tr th:only-of-type {\n",
       "        vertical-align: middle;\n",
       "    }\n",
       "\n",
       "    .dataframe tbody tr th {\n",
       "        vertical-align: top;\n",
       "    }\n",
       "\n",
       "    .dataframe thead th {\n",
       "        text-align: right;\n",
       "    }\n",
       "</style>\n",
       "<table border=\"1\" class=\"dataframe\">\n",
       "  <thead>\n",
       "    <tr style=\"text-align: right;\">\n",
       "      <th></th>\n",
       "      <th>tn</th>\n",
       "      <th>fp</th>\n",
       "      <th>fn</th>\n",
       "      <th>tp</th>\n",
       "      <th>acc</th>\n",
       "      <th>prec</th>\n",
       "      <th>recall</th>\n",
       "      <th>F1_score</th>\n",
       "      <th>kappa_cohen</th>\n",
       "      <th>auc</th>\n",
       "    </tr>\n",
       "  </thead>\n",
       "  <tbody>\n",
       "    <tr>\n",
       "      <th>500</th>\n",
       "      <td>15299</td>\n",
       "      <td>9650</td>\n",
       "      <td>7179</td>\n",
       "      <td>17872</td>\n",
       "      <td>0.66342</td>\n",
       "      <td>0.649371</td>\n",
       "      <td>0.713425</td>\n",
       "      <td>0.679893</td>\n",
       "      <td>0.326701</td>\n",
       "      <td>0.723436</td>\n",
       "    </tr>\n",
       "    <tr>\n",
       "      <th>750</th>\n",
       "      <td>20258</td>\n",
       "      <td>4568</td>\n",
       "      <td>2929</td>\n",
       "      <td>22245</td>\n",
       "      <td>0.85006</td>\n",
       "      <td>0.829635</td>\n",
       "      <td>0.88365</td>\n",
       "      <td>0.855791</td>\n",
       "      <td>0.699969</td>\n",
       "      <td>0.916264</td>\n",
       "    </tr>\n",
       "    <tr>\n",
       "      <th>1000</th>\n",
       "      <td>22685</td>\n",
       "      <td>2446</td>\n",
       "      <td>1806</td>\n",
       "      <td>23063</td>\n",
       "      <td>0.91496</td>\n",
       "      <td>0.904112</td>\n",
       "      <td>0.927379</td>\n",
       "      <td>0.915598</td>\n",
       "      <td>0.829938</td>\n",
       "      <td>0.968866</td>\n",
       "    </tr>\n",
       "    <tr>\n",
       "      <th>1250</th>\n",
       "      <td>23335</td>\n",
       "      <td>1726</td>\n",
       "      <td>1210</td>\n",
       "      <td>23729</td>\n",
       "      <td>0.94128</td>\n",
       "      <td>0.932194</td>\n",
       "      <td>0.951482</td>\n",
       "      <td>0.941739</td>\n",
       "      <td>0.882565</td>\n",
       "      <td>0.984731</td>\n",
       "    </tr>\n",
       "    <tr>\n",
       "      <th>1500</th>\n",
       "      <td>23813</td>\n",
       "      <td>1237</td>\n",
       "      <td>841</td>\n",
       "      <td>24109</td>\n",
       "      <td>0.95844</td>\n",
       "      <td>0.951195</td>\n",
       "      <td>0.966293</td>\n",
       "      <td>0.958685</td>\n",
       "      <td>0.916882</td>\n",
       "      <td>0.991703</td>\n",
       "    </tr>\n",
       "  </tbody>\n",
       "</table>\n",
       "</div>"
      ],
      "text/plain": [
       "         tn    fp    fn     tp      acc      prec    recall  F1_score  \\\n",
       "500   15299  9650  7179  17872  0.66342  0.649371  0.713425  0.679893   \n",
       "750   20258  4568  2929  22245  0.85006  0.829635   0.88365  0.855791   \n",
       "1000  22685  2446  1806  23063  0.91496  0.904112  0.927379  0.915598   \n",
       "1250  23335  1726  1210  23729  0.94128  0.932194  0.951482  0.941739   \n",
       "1500  23813  1237   841  24109  0.95844  0.951195  0.966293  0.958685   \n",
       "\n",
       "     kappa_cohen       auc  \n",
       "500     0.326701  0.723436  \n",
       "750     0.699969  0.916264  \n",
       "1000    0.829938  0.968866  \n",
       "1250    0.882565  0.984731  \n",
       "1500    0.916882  0.991703  "
      ]
     },
     "metadata": {},
     "output_type": "display_data"
    },
    {
     "data": {
      "text/plain": [
       "<Figure size 432x288 with 0 Axes>"
      ]
     },
     "metadata": {},
     "output_type": "display_data"
    }
   ],
   "source": [
    "#Metric df: \n",
    "df_metrics =  pd.DataFrame(index=[500,750,1000,1250,1500], columns=[\"tn\", \"fp\", \"fn\", \"tp\", \"acc\", \"prec\",\"recall\",\"F1_score\",\"kappa_cohen\",\"auc\"])\n",
    "\n",
    "\n",
    "\n",
    "for i in (500,750,1000,1250,1500):\n",
    "#for i in (1250,1500):\n",
    "\n",
    "    print('mass=', i )\n",
    "\n",
    "    #train\n",
    "      #0 same size of dfmass1000 #TENER EN CUENTA QUE AQUI QUE LA DE 0 SEA MAYOR SIZE ES CASUALIDAD\n",
    "    #EN OTRO PICKE PODRIA SER AL REVES, ESTO SE DEBERIA DE ARREGLAR\n",
    "    np.random.seed(1)\n",
    "    #dfmass0['mass'] = np.random.choice([500,750,1000,1250,1500], dfmass0.shape[0])#las cambio para queno sean 0 porque entonces sabría el label\n",
    "    dfmass1000=df.loc[df['mass'] ==i]        \n",
    "    dfmass0=df.loc[df['mass'] == 0].sample(random_state=1,n=dfmass1000.shape[0])   #cojo todos!!!!!!!!!!!!!! \n",
    "    dfmass1000=pd.concat([dfmass1000, dfmass0]).sample(random_state=1,frac=1).reset_index(drop=True)    #concatenating and shuffling\n",
    "    dfmass1000['mass']=dfmass1000['mass'].astype(float)\n",
    "    dfmass1000=dfmass1000.sample(random_state=1,n=20000*5)\n",
    "    print(\"train\", pd.crosstab(dfmass1000['label'],dfmass1000['mass']))\n",
    "    dfmass1000=dfmass1000.drop('mass', axis=1)        #la masa es una caracterísitca\n",
    "    \n",
    "    \n",
    "    #test\n",
    "    dfmass1000test=df_originaltest.loc[df_originaltest['mass'] == i]\n",
    "    dfmass0test=df_originaltest.loc[df_originaltest['mass'] == 0].sample(random_state=1,n=dfmass1000test.shape[0])\n",
    "    dfmass1000test=pd.concat([dfmass1000test, dfmass0test]).sample(frac=1).reset_index(drop=True)\n",
    "    dfmass1000test=dfmass1000test.sample(random_state=1,n=10000*5)\n",
    "\n",
    "    print(\"test\", pd.crosstab(dfmass1000test['label'],dfmass1000test['mass']))  \n",
    "    \n",
    "    dfmass1000test=dfmass1000test.drop('mass', axis=1)  \n",
    "    \n",
    "    \n",
    "\n",
    "    drop=['lep_eta', 'lep_phi',  'met_phi', 'jets_no', 'jet1_eta', 'jet1_phi', 'jet1_btag', \n",
    "       'jet2_eta', 'jet2_phi', 'jet2_btag',  'jet3_eta', 'jet3_phi',\n",
    "       'jet3_btag', 'jet4_eta', 'jet4_phi', 'jet4_btag']\n",
    "\n",
    "    X_train=dfmass1000.drop(['label'], axis=1)\n",
    "    X_train=X_train.drop(drop, axis=1)\n",
    "    y_train=dfmass1000.label\n",
    "    \n",
    "    X_test=dfmass1000test.drop(['label'], axis=1)\n",
    "    X_test=X_test.drop(drop, axis=1)\n",
    "    y_test=dfmass1000test.label\n",
    "        \n",
    "   # print(X_train)\n",
    "   # print(y_test)\n",
    "\n",
    "    grid,best_model,y_pred,y_pred_proba = model(X_train,y_train,X_test)\n",
    "    print(best_model)\n",
    "\n",
    "#Roc curve construction\n",
    "\n",
    "    fpr, tpr, _ = metrics.roc_curve(y_test,  y_pred_proba)\n",
    "    auc = metrics.roc_auc_score(y_test, y_pred_proba)\n",
    "    plt.plot(fpr,tpr,label=\"data 1, auc=\"+str(auc))\n",
    "    plt.legend(loc=4)\n",
    "    #plt.savefig(cwd2+'MASS=' + str(i) + 'ROC.png')\n",
    "    plt.show()\n",
    "    plt.clf() \n",
    "\n",
    "#METRICS \n",
    "\n",
    "    tn, fp, fn, tp, acc, prec,recall, F1_score,kappa_cohen=Scores(y_test,y_pred)\n",
    "\n",
    "    df_metrics.tn[i]=tn\n",
    "    df_metrics.fp[i]=fp\n",
    "    df_metrics.fn[i]=fn\n",
    "    df_metrics.tp[i]=tp\n",
    "    df_metrics.acc[i]=acc\n",
    "    df_metrics.prec[i]=prec\n",
    "    df_metrics.recall[i]=recall\n",
    "    df_metrics.F1_score[i]=F1_score\n",
    "    df_metrics.kappa_cohen[i]=kappa_cohen\n",
    "    df_metrics.auc[i]=auc\n",
    "    \n",
    "    df_metrics.to_pickle('df_metrics')\n",
    "\n",
    "\n",
    "print(\"X_train_shape\",X_train.shape)\n",
    "print(\"X_test_shape\",X_test.shape)\n",
    "\n",
    "\n",
    "display(df_metrics)"
   ]
  },
  {
   "cell_type": "code",
   "execution_count": 6,
   "metadata": {},
   "outputs": [
    {
     "data": {
      "text/html": [
       "<div>\n",
       "<style scoped>\n",
       "    .dataframe tbody tr th:only-of-type {\n",
       "        vertical-align: middle;\n",
       "    }\n",
       "\n",
       "    .dataframe tbody tr th {\n",
       "        vertical-align: top;\n",
       "    }\n",
       "\n",
       "    .dataframe thead th {\n",
       "        text-align: right;\n",
       "    }\n",
       "</style>\n",
       "<table border=\"1\" class=\"dataframe\">\n",
       "  <thead>\n",
       "    <tr style=\"text-align: right;\">\n",
       "      <th></th>\n",
       "      <th>tn</th>\n",
       "      <th>fp</th>\n",
       "      <th>fn</th>\n",
       "      <th>tp</th>\n",
       "      <th>acc</th>\n",
       "      <th>prec</th>\n",
       "      <th>recall</th>\n",
       "      <th>F1_score</th>\n",
       "      <th>kappa_cohen</th>\n",
       "      <th>auc</th>\n",
       "    </tr>\n",
       "  </thead>\n",
       "  <tbody>\n",
       "    <tr>\n",
       "      <th>500</th>\n",
       "      <td>15299</td>\n",
       "      <td>9650</td>\n",
       "      <td>7179</td>\n",
       "      <td>17872</td>\n",
       "      <td>0.66342</td>\n",
       "      <td>0.649371</td>\n",
       "      <td>0.713425</td>\n",
       "      <td>0.679893</td>\n",
       "      <td>0.326701</td>\n",
       "      <td>0.723436</td>\n",
       "    </tr>\n",
       "    <tr>\n",
       "      <th>750</th>\n",
       "      <td>20258</td>\n",
       "      <td>4568</td>\n",
       "      <td>2929</td>\n",
       "      <td>22245</td>\n",
       "      <td>0.85006</td>\n",
       "      <td>0.829635</td>\n",
       "      <td>0.88365</td>\n",
       "      <td>0.855791</td>\n",
       "      <td>0.699969</td>\n",
       "      <td>0.916264</td>\n",
       "    </tr>\n",
       "    <tr>\n",
       "      <th>1000</th>\n",
       "      <td>22685</td>\n",
       "      <td>2446</td>\n",
       "      <td>1806</td>\n",
       "      <td>23063</td>\n",
       "      <td>0.91496</td>\n",
       "      <td>0.904112</td>\n",
       "      <td>0.927379</td>\n",
       "      <td>0.915598</td>\n",
       "      <td>0.829938</td>\n",
       "      <td>0.968866</td>\n",
       "    </tr>\n",
       "    <tr>\n",
       "      <th>1250</th>\n",
       "      <td>23335</td>\n",
       "      <td>1726</td>\n",
       "      <td>1210</td>\n",
       "      <td>23729</td>\n",
       "      <td>0.94128</td>\n",
       "      <td>0.932194</td>\n",
       "      <td>0.951482</td>\n",
       "      <td>0.941739</td>\n",
       "      <td>0.882565</td>\n",
       "      <td>0.984731</td>\n",
       "    </tr>\n",
       "    <tr>\n",
       "      <th>1500</th>\n",
       "      <td>23813</td>\n",
       "      <td>1237</td>\n",
       "      <td>841</td>\n",
       "      <td>24109</td>\n",
       "      <td>0.95844</td>\n",
       "      <td>0.951195</td>\n",
       "      <td>0.966293</td>\n",
       "      <td>0.958685</td>\n",
       "      <td>0.916882</td>\n",
       "      <td>0.991703</td>\n",
       "    </tr>\n",
       "  </tbody>\n",
       "</table>\n",
       "</div>"
      ],
      "text/plain": [
       "         tn    fp    fn     tp      acc      prec    recall  F1_score  \\\n",
       "500   15299  9650  7179  17872  0.66342  0.649371  0.713425  0.679893   \n",
       "750   20258  4568  2929  22245  0.85006  0.829635   0.88365  0.855791   \n",
       "1000  22685  2446  1806  23063  0.91496  0.904112  0.927379  0.915598   \n",
       "1250  23335  1726  1210  23729  0.94128  0.932194  0.951482  0.941739   \n",
       "1500  23813  1237   841  24109  0.95844  0.951195  0.966293  0.958685   \n",
       "\n",
       "     kappa_cohen       auc  \n",
       "500     0.326701  0.723436  \n",
       "750     0.699969  0.916264  \n",
       "1000    0.829938  0.968866  \n",
       "1250    0.882565  0.984731  \n",
       "1500    0.916882  0.991703  "
      ]
     },
     "execution_count": 6,
     "metadata": {},
     "output_type": "execute_result"
    }
   ],
   "source": [
    "df_metrics"
   ]
  },
  {
   "cell_type": "code",
   "execution_count": 7,
   "metadata": {},
   "outputs": [],
   "source": [
    "df_metrics.to_pickle('g2')"
   ]
  },
  {
   "cell_type": "code",
   "execution_count": 8,
   "metadata": {},
   "outputs": [
    {
     "name": "stdout",
     "output_type": "stream",
     "text": [
      "(100000, 11)\n",
      "(50000, 11)\n"
     ]
    },
    {
     "data": {
      "text/plain": [
       "0    25050\n",
       "1    24950\n",
       "Name: label, dtype: int64"
      ]
     },
     "execution_count": 8,
     "metadata": {},
     "output_type": "execute_result"
    }
   ],
   "source": [
    "print(X_train.shape)\n",
    "print(X_test.shape)\n",
    "y_test.value_counts()"
   ]
  },
  {
   "cell_type": "code",
   "execution_count": 9,
   "metadata": {},
   "outputs": [
    {
     "data": {
      "image/png": "[encoded data removed]",
      "text/plain": [
       "<Figure size 432x288 with 1 Axes>"
      ]
     },
     "metadata": {},
     "output_type": "display_data"
    },
    {
     "data": {
      "text/plain": [
       "<Figure size 432x288 with 0 Axes>"
      ]
     },
     "metadata": {},
     "output_type": "display_data"
    }
   ],
   "source": [
    "fig, ax = plt.subplots()\n",
    "ax.plot([\"500\",\"750\",\"1000\",\"1250\",\"1500\"], df_metrics[\"acc\"], label=\"accuracy\")\n",
    "ax.plot([\"500\",\"750\",\"1000\",\"1250\",\"1500\"], df_metrics[\"F1_score\"], label=\"F1_score\")\n",
    "ax.plot([\"500\",\"750\",\"1000\",\"1250\",\"1500\"], df_metrics[\"kappa_cohen\"], label=\"kappa\")\n",
    "\n",
    "ax.set_xlabel('mass')\n",
    "ax.set_ylabel('Metric')\n",
    "legend = ax.legend(fontsize='x-large')\n",
    "plt.show()\n",
    "plt.savefig(cwd+ 'metrics_comparation.png')"
   ]
  },
  {
   "cell_type": "markdown",
   "metadata": {},
   "source": [
    "# Entrenando con todas las masas"
   ]
  },
  {
   "cell_type": "code",
   "execution_count": 10,
   "metadata": {},
   "outputs": [
    {
     "name": "stdout",
     "output_type": "stream",
     "text": [
      "mass= 500\n",
      "train mass   0.0     500.0   750.0   1000.0  1250.0  1500.0\n",
      "label                                                \n",
      "0       49825       0       0       0       0       0\n",
      "1           0   10002   10045   10199    9912   10017\n",
      "test mass     0      500\n",
      "label              \n",
      "0      24949      0\n",
      "1          0  25051\n",
      "Fitting 5 folds for each of 24 candidates, totalling 120 fits\n"
     ]
    },
    {
     "name": "stderr",
     "output_type": "stream",
     "text": [
      "[Parallel(n_jobs=-1)]: Done  18 tasks      | elapsed: 17.8min\n"
     ]
    },
    {
     "ename": "KeyboardInterrupt",
     "evalue": "",
     "output_type": "error",
     "traceback": [
      "\u001b[0;31m---------------------------------------------------------------------------\u001b[0m",
      "\u001b[0;31mKeyboardInterrupt\u001b[0m                         Traceback (most recent call last)",
      "\u001b[0;32m<ipython-input-10-3653c8e85395>\u001b[0m in \u001b[0;36m<module>\u001b[0;34m()\u001b[0m\n\u001b[1;32m     39\u001b[0m     \u001b[0my_test\u001b[0m\u001b[0;34m=\u001b[0m\u001b[0mdfmass1000test\u001b[0m\u001b[0;34m.\u001b[0m\u001b[0mlabel\u001b[0m\u001b[0;34m\u001b[0m\u001b[0m\n\u001b[1;32m     40\u001b[0m \u001b[0;34m\u001b[0m\u001b[0m\n\u001b[0;32m---> 41\u001b[0;31m     \u001b[0mgrid\u001b[0m\u001b[0;34m,\u001b[0m\u001b[0mbest_model\u001b[0m\u001b[0;34m,\u001b[0m\u001b[0my_pred\u001b[0m\u001b[0;34m,\u001b[0m\u001b[0my_pred_proba\u001b[0m \u001b[0;34m=\u001b[0m \u001b[0mmodel\u001b[0m\u001b[0;34m(\u001b[0m\u001b[0mX_train\u001b[0m\u001b[0;34m,\u001b[0m\u001b[0my_train\u001b[0m\u001b[0;34m,\u001b[0m\u001b[0mX_test\u001b[0m\u001b[0;34m)\u001b[0m\u001b[0;34m\u001b[0m\u001b[0m\n\u001b[0m\u001b[1;32m     42\u001b[0m     \u001b[0mprint\u001b[0m\u001b[0;34m(\u001b[0m\u001b[0mbest_model\u001b[0m\u001b[0;34m)\u001b[0m\u001b[0;34m\u001b[0m\u001b[0m\n\u001b[1;32m     43\u001b[0m \u001b[0;34m\u001b[0m\u001b[0m\n",
      "\u001b[0;32m<ipython-input-4-f06d2ff31e24>\u001b[0m in \u001b[0;36mmodel\u001b[0;34m(X_train, y_train, X_test)\u001b[0m\n\u001b[1;32m     46\u001b[0m     \u001b[0mgrid\u001b[0m \u001b[0;34m=\u001b[0m \u001b[0mGridSearchCV\u001b[0m\u001b[0;34m(\u001b[0m\u001b[0mestimator\u001b[0m\u001b[0;34m=\u001b[0m\u001b[0mmodel\u001b[0m\u001b[0;34m,\u001b[0m \u001b[0mparam_grid\u001b[0m\u001b[0;34m=\u001b[0m\u001b[0mparams\u001b[0m\u001b[0;34m,\u001b[0m\u001b[0mcv\u001b[0m\u001b[0;34m=\u001b[0m\u001b[0;36m5\u001b[0m\u001b[0;34m,\u001b[0m\u001b[0mverbose\u001b[0m\u001b[0;34m=\u001b[0m\u001b[0;36m1\u001b[0m\u001b[0;34m,\u001b[0m \u001b[0mn_jobs\u001b[0m\u001b[0;34m=\u001b[0m\u001b[0;34m-\u001b[0m\u001b[0;36m1\u001b[0m\u001b[0;34m)\u001b[0m\u001b[0;34m\u001b[0m\u001b[0m\n\u001b[1;32m     47\u001b[0m \u001b[0;34m\u001b[0m\u001b[0m\n\u001b[0;32m---> 48\u001b[0;31m     \u001b[0mgrid\u001b[0m\u001b[0;34m.\u001b[0m\u001b[0mfit\u001b[0m\u001b[0;34m(\u001b[0m\u001b[0mX_train\u001b[0m\u001b[0;34m,\u001b[0m\u001b[0my_train\u001b[0m\u001b[0;34m)\u001b[0m\u001b[0;34m\u001b[0m\u001b[0m\n\u001b[0m\u001b[1;32m     49\u001b[0m     \u001b[0mbest_model\u001b[0m \u001b[0;34m=\u001b[0m \u001b[0mgrid\u001b[0m\u001b[0;34m.\u001b[0m\u001b[0mbest_estimator_\u001b[0m\u001b[0;34m\u001b[0m\u001b[0m\n\u001b[1;32m     50\u001b[0m \u001b[0;34m\u001b[0m\u001b[0m\n",
      "\u001b[0;32m/usr/local/lib/python3.5/dist-packages/sklearn/model_selection/_search.py\u001b[0m in \u001b[0;36mfit\u001b[0;34m(self, X, y, groups, **fit_params)\u001b[0m\n\u001b[1;32m    637\u001b[0m                                   error_score=self.error_score)\n\u001b[1;32m    638\u001b[0m           for parameters, (train, test) in product(candidate_params,\n\u001b[0;32m--> 639\u001b[0;31m                                                    cv.split(X, y, groups)))\n\u001b[0m\u001b[1;32m    640\u001b[0m \u001b[0;34m\u001b[0m\u001b[0m\n\u001b[1;32m    641\u001b[0m         \u001b[0;31m# if one choose to see train score, \"out\" will contain train score info\u001b[0m\u001b[0;34m\u001b[0m\u001b[0;34m\u001b[0m\u001b[0m\n",
      "\u001b[0;32m/usr/local/lib/python3.5/dist-packages/sklearn/externals/joblib/parallel.py\u001b[0m in \u001b[0;36m__call__\u001b[0;34m(self, iterable)\u001b[0m\n\u001b[1;32m    787\u001b[0m                 \u001b[0;31m# consumption.\u001b[0m\u001b[0;34m\u001b[0m\u001b[0;34m\u001b[0m\u001b[0m\n\u001b[1;32m    788\u001b[0m                 \u001b[0mself\u001b[0m\u001b[0;34m.\u001b[0m\u001b[0m_iterating\u001b[0m \u001b[0;34m=\u001b[0m \u001b[0;32mFalse\u001b[0m\u001b[0;34m\u001b[0m\u001b[0m\n\u001b[0;32m--> 789\u001b[0;31m             \u001b[0mself\u001b[0m\u001b[0;34m.\u001b[0m\u001b[0mretrieve\u001b[0m\u001b[0;34m(\u001b[0m\u001b[0;34m)\u001b[0m\u001b[0;34m\u001b[0m\u001b[0m\n\u001b[0m\u001b[1;32m    790\u001b[0m             \u001b[0;31m# Make sure that we get a last message telling us we are done\u001b[0m\u001b[0;34m\u001b[0m\u001b[0;34m\u001b[0m\u001b[0m\n\u001b[1;32m    791\u001b[0m             \u001b[0melapsed_time\u001b[0m \u001b[0;34m=\u001b[0m \u001b[0mtime\u001b[0m\u001b[0;34m.\u001b[0m\u001b[0mtime\u001b[0m\u001b[0;34m(\u001b[0m\u001b[0;34m)\u001b[0m \u001b[0;34m-\u001b[0m \u001b[0mself\u001b[0m\u001b[0;34m.\u001b[0m\u001b[0m_start_time\u001b[0m\u001b[0;34m\u001b[0m\u001b[0m\n",
      "\u001b[0;32m/usr/local/lib/python3.5/dist-packages/sklearn/externals/joblib/parallel.py\u001b[0m in \u001b[0;36mretrieve\u001b[0;34m(self)\u001b[0m\n\u001b[1;32m    697\u001b[0m             \u001b[0;32mtry\u001b[0m\u001b[0;34m:\u001b[0m\u001b[0;34m\u001b[0m\u001b[0m\n\u001b[1;32m    698\u001b[0m                 \u001b[0;32mif\u001b[0m \u001b[0mgetattr\u001b[0m\u001b[0;34m(\u001b[0m\u001b[0mself\u001b[0m\u001b[0;34m.\u001b[0m\u001b[0m_backend\u001b[0m\u001b[0;34m,\u001b[0m \u001b[0;34m'supports_timeout'\u001b[0m\u001b[0;34m,\u001b[0m \u001b[0;32mFalse\u001b[0m\u001b[0;34m)\u001b[0m\u001b[0;34m:\u001b[0m\u001b[0;34m\u001b[0m\u001b[0m\n\u001b[0;32m--> 699\u001b[0;31m                     \u001b[0mself\u001b[0m\u001b[0;34m.\u001b[0m\u001b[0m_output\u001b[0m\u001b[0;34m.\u001b[0m\u001b[0mextend\u001b[0m\u001b[0;34m(\u001b[0m\u001b[0mjob\u001b[0m\u001b[0;34m.\u001b[0m\u001b[0mget\u001b[0m\u001b[0;34m(\u001b[0m\u001b[0mtimeout\u001b[0m\u001b[0;34m=\u001b[0m\u001b[0mself\u001b[0m\u001b[0;34m.\u001b[0m\u001b[0mtimeout\u001b[0m\u001b[0;34m)\u001b[0m\u001b[0;34m)\u001b[0m\u001b[0;34m\u001b[0m\u001b[0m\n\u001b[0m\u001b[1;32m    700\u001b[0m                 \u001b[0;32melse\u001b[0m\u001b[0;34m:\u001b[0m\u001b[0;34m\u001b[0m\u001b[0m\n\u001b[1;32m    701\u001b[0m                     \u001b[0mself\u001b[0m\u001b[0;34m.\u001b[0m\u001b[0m_output\u001b[0m\u001b[0;34m.\u001b[0m\u001b[0mextend\u001b[0m\u001b[0;34m(\u001b[0m\u001b[0mjob\u001b[0m\u001b[0;34m.\u001b[0m\u001b[0mget\u001b[0m\u001b[0;34m(\u001b[0m\u001b[0;34m)\u001b[0m\u001b[0;34m)\u001b[0m\u001b[0;34m\u001b[0m\u001b[0m\n",
      "\u001b[0;32m/usr/lib/python3.5/multiprocessing/pool.py\u001b[0m in \u001b[0;36mget\u001b[0;34m(self, timeout)\u001b[0m\n\u001b[1;32m    600\u001b[0m \u001b[0;34m\u001b[0m\u001b[0m\n\u001b[1;32m    601\u001b[0m     \u001b[0;32mdef\u001b[0m \u001b[0mget\u001b[0m\u001b[0;34m(\u001b[0m\u001b[0mself\u001b[0m\u001b[0;34m,\u001b[0m \u001b[0mtimeout\u001b[0m\u001b[0;34m=\u001b[0m\u001b[0;32mNone\u001b[0m\u001b[0;34m)\u001b[0m\u001b[0;34m:\u001b[0m\u001b[0;34m\u001b[0m\u001b[0m\n\u001b[0;32m--> 602\u001b[0;31m         \u001b[0mself\u001b[0m\u001b[0;34m.\u001b[0m\u001b[0mwait\u001b[0m\u001b[0;34m(\u001b[0m\u001b[0mtimeout\u001b[0m\u001b[0;34m)\u001b[0m\u001b[0;34m\u001b[0m\u001b[0m\n\u001b[0m\u001b[1;32m    603\u001b[0m         \u001b[0;32mif\u001b[0m \u001b[0;32mnot\u001b[0m \u001b[0mself\u001b[0m\u001b[0;34m.\u001b[0m\u001b[0mready\u001b[0m\u001b[0;34m(\u001b[0m\u001b[0;34m)\u001b[0m\u001b[0;34m:\u001b[0m\u001b[0;34m\u001b[0m\u001b[0m\n\u001b[1;32m    604\u001b[0m             \u001b[0;32mraise\u001b[0m \u001b[0mTimeoutError\u001b[0m\u001b[0;34m\u001b[0m\u001b[0m\n",
      "\u001b[0;32m/usr/lib/python3.5/multiprocessing/pool.py\u001b[0m in \u001b[0;36mwait\u001b[0;34m(self, timeout)\u001b[0m\n\u001b[1;32m    597\u001b[0m \u001b[0;34m\u001b[0m\u001b[0m\n\u001b[1;32m    598\u001b[0m     \u001b[0;32mdef\u001b[0m \u001b[0mwait\u001b[0m\u001b[0;34m(\u001b[0m\u001b[0mself\u001b[0m\u001b[0;34m,\u001b[0m \u001b[0mtimeout\u001b[0m\u001b[0;34m=\u001b[0m\u001b[0;32mNone\u001b[0m\u001b[0;34m)\u001b[0m\u001b[0;34m:\u001b[0m\u001b[0;34m\u001b[0m\u001b[0m\n\u001b[0;32m--> 599\u001b[0;31m         \u001b[0mself\u001b[0m\u001b[0;34m.\u001b[0m\u001b[0m_event\u001b[0m\u001b[0;34m.\u001b[0m\u001b[0mwait\u001b[0m\u001b[0;34m(\u001b[0m\u001b[0mtimeout\u001b[0m\u001b[0;34m)\u001b[0m\u001b[0;34m\u001b[0m\u001b[0m\n\u001b[0m\u001b[1;32m    600\u001b[0m \u001b[0;34m\u001b[0m\u001b[0m\n\u001b[1;32m    601\u001b[0m     \u001b[0;32mdef\u001b[0m \u001b[0mget\u001b[0m\u001b[0;34m(\u001b[0m\u001b[0mself\u001b[0m\u001b[0;34m,\u001b[0m \u001b[0mtimeout\u001b[0m\u001b[0;34m=\u001b[0m\u001b[0;32mNone\u001b[0m\u001b[0;34m)\u001b[0m\u001b[0;34m:\u001b[0m\u001b[0;34m\u001b[0m\u001b[0m\n",
      "\u001b[0;32m/usr/lib/python3.5/threading.py\u001b[0m in \u001b[0;36mwait\u001b[0;34m(self, timeout)\u001b[0m\n\u001b[1;32m    547\u001b[0m             \u001b[0msignaled\u001b[0m \u001b[0;34m=\u001b[0m \u001b[0mself\u001b[0m\u001b[0;34m.\u001b[0m\u001b[0m_flag\u001b[0m\u001b[0;34m\u001b[0m\u001b[0m\n\u001b[1;32m    548\u001b[0m             \u001b[0;32mif\u001b[0m \u001b[0;32mnot\u001b[0m \u001b[0msignaled\u001b[0m\u001b[0;34m:\u001b[0m\u001b[0;34m\u001b[0m\u001b[0m\n\u001b[0;32m--> 549\u001b[0;31m                 \u001b[0msignaled\u001b[0m \u001b[0;34m=\u001b[0m \u001b[0mself\u001b[0m\u001b[0;34m.\u001b[0m\u001b[0m_cond\u001b[0m\u001b[0;34m.\u001b[0m\u001b[0mwait\u001b[0m\u001b[0;34m(\u001b[0m\u001b[0mtimeout\u001b[0m\u001b[0;34m)\u001b[0m\u001b[0;34m\u001b[0m\u001b[0m\n\u001b[0m\u001b[1;32m    550\u001b[0m             \u001b[0;32mreturn\u001b[0m \u001b[0msignaled\u001b[0m\u001b[0;34m\u001b[0m\u001b[0m\n\u001b[1;32m    551\u001b[0m \u001b[0;34m\u001b[0m\u001b[0m\n",
      "\u001b[0;32m/usr/lib/python3.5/threading.py\u001b[0m in \u001b[0;36mwait\u001b[0;34m(self, timeout)\u001b[0m\n\u001b[1;32m    291\u001b[0m         \u001b[0;32mtry\u001b[0m\u001b[0;34m:\u001b[0m    \u001b[0;31m# restore state no matter what (e.g., KeyboardInterrupt)\u001b[0m\u001b[0;34m\u001b[0m\u001b[0m\n\u001b[1;32m    292\u001b[0m             \u001b[0;32mif\u001b[0m \u001b[0mtimeout\u001b[0m \u001b[0;32mis\u001b[0m \u001b[0;32mNone\u001b[0m\u001b[0;34m:\u001b[0m\u001b[0;34m\u001b[0m\u001b[0m\n\u001b[0;32m--> 293\u001b[0;31m                 \u001b[0mwaiter\u001b[0m\u001b[0;34m.\u001b[0m\u001b[0macquire\u001b[0m\u001b[0;34m(\u001b[0m\u001b[0;34m)\u001b[0m\u001b[0;34m\u001b[0m\u001b[0m\n\u001b[0m\u001b[1;32m    294\u001b[0m                 \u001b[0mgotit\u001b[0m \u001b[0;34m=\u001b[0m \u001b[0;32mTrue\u001b[0m\u001b[0;34m\u001b[0m\u001b[0m\n\u001b[1;32m    295\u001b[0m             \u001b[0;32melse\u001b[0m\u001b[0;34m:\u001b[0m\u001b[0;34m\u001b[0m\u001b[0m\n",
      "\u001b[0;31mKeyboardInterrupt\u001b[0m: "
     ]
    }
   ],
   "source": [
    "#Metric df: \n",
    "df_metrics =  pd.DataFrame(index=[500,750,1000,1250,1500], columns=[\"tn\", \"fp\", \"fn\", \"tp\", \"acc\", \"prec\",\"recall\",\"F1_score\",\"kappa_cohen\",\"auc\"])\n",
    "\n",
    "\n",
    "for i in (500,750,1000,1250,1500):\n",
    "\n",
    "    print('mass=', i )\n",
    "\n",
    "    #train\n",
    "      #0 same size of dfmass1000 #TENER EN CUENTA QUE AQUI QUE LA DE 0 SEA MAYOR SIZE ES CASUALIDAD\n",
    "    #EN OTRO PICKE PODRIA SER AL REVES, ESTO SE DEBERIA DE ARREGLAR\n",
    "    np.random.seed(1)\n",
    "    #dfmass0['mass'] = np.random.choice([500,750,1000,1250,1500], dfmass0.shape[0])#las cambio para queno sean 0 porque entonces sabría el label\n",
    "    dfmass0=df.loc[df['mass'] == 0]\n",
    "    dfmass1000=df.loc[df['mass'] !=0].sample(random_state=1,n=dfmass0.shape[0])      \n",
    "    \n",
    "    dfmass1000=pd.concat([dfmass1000, dfmass0]).sample(random_state=1,frac=1).reset_index(drop=True)    #concatenating and shuffling\n",
    "    dfmass1000['mass']=dfmass1000['mass'].astype(float)\n",
    "    dfmass1000=dfmass1000.sample(random_state=1,n=20000*5)\n",
    "    print(\"train\", pd.crosstab(dfmass1000['label'],dfmass1000['mass']))\n",
    "    dfmass1000=dfmass1000.drop('mass', axis=1)        #la masa es una caracterísitca\n",
    "    \n",
    "    \n",
    "    #test\n",
    "    dfmass1000test=df_originaltest.loc[df_originaltest['mass'] == i]\n",
    "    dfmass0test=df_originaltest.loc[df_originaltest['mass'] == 0].sample(random_state=1,n=dfmass1000test.shape[0])\n",
    "    dfmass1000test=pd.concat([dfmass1000test, dfmass0test]).sample(frac=1).reset_index(drop=True)\n",
    "    dfmass1000test=dfmass1000test.sample(random_state=1,n=10000*5)\n",
    "\n",
    "    print(\"test\", pd.crosstab(dfmass1000test['label'],dfmass1000test['mass']))  \n",
    "    \n",
    "    dfmass1000test=dfmass1000test.drop('mass', axis=1)  \n",
    "    \n",
    "\n",
    "    X_train=dfmass1000.drop(['label'], axis=1)\n",
    "    y_train=dfmass1000.label\n",
    "    \n",
    "    X_test=dfmass1000test.drop(['label'], axis=1)\n",
    "    y_test=dfmass1000test.label\n",
    "        \n",
    "    grid,best_model,y_pred,y_pred_proba = model(X_train,y_train,X_test)\n",
    "    print(best_model)\n",
    "\n",
    "\n",
    "#Roc curve construction\n",
    "\n",
    "    fpr, tpr, _ = metrics.roc_curve(y_test,  y_pred_proba)\n",
    "    auc = metrics.roc_auc_score(y_test, y_pred_proba)\n",
    "    plt.plot(fpr,tpr,label=\"data 1, auc=\"+str(auc))\n",
    "    plt.legend(loc=4)\n",
    "    #plt.savefig(cwd2+'MASS=' + str(i) + 'ROC.png')\n",
    "    plt.show()\n",
    "    plt.clf() \n",
    "\n",
    "#METRICS \n",
    "    tn, fp, fn, tp, acc, prec,recall, F1_score,kappa_cohen=Scores(y_test,y_pred)\n",
    "\n",
    "    df_metrics.tn[i]=tn\n",
    "    df_metrics.fp[i]=fp\n",
    "    df_metrics.fn[i]=fn\n",
    "    df_metrics.tp[i]=tp\n",
    "    df_metrics.acc[i]=acc\n",
    "    df_metrics.prec[i]=prec\n",
    "    df_metrics.recall[i]=recall\n",
    "    df_metrics.F1_score[i]=F1_score\n",
    "    df_metrics.kappa_cohen[i]=kappa_cohen\n",
    "    df_metrics.auc[i]=auc\n",
    "\n",
    "\n",
    "print(\"X_train_shape\",X_train.shape)\n",
    "print(\"X_test_shape\",X_test.shape)\n",
    "\n",
    "display(df_metrics)"
   ]
  },
  {
   "cell_type": "code",
   "execution_count": null,
   "metadata": {},
   "outputs": [],
   "source": [
    "print(X_train.shape)\n",
    "print(X_test.shape)\n",
    "y_test.value_counts()"
   ]
  },
  {
   "cell_type": "code",
   "execution_count": null,
   "metadata": {},
   "outputs": [],
   "source": [
    "fig, ax = plt.subplots()\n",
    "ax.plot([\"500\",\"750\",\"1000\",\"1250\",\"1500\"], df_metrics[\"acc\"], label=\"accuracy\")\n",
    "ax.plot([\"500\",\"750\",\"1000\",\"1250\",\"1500\"], df_metrics[\"F1_score\"], label=\"F1_score\")\n",
    "ax.plot([\"500\",\"750\",\"1000\",\"1250\",\"1500\"], df_metrics[\"kappa_cohen\"], label=\"kappa\")\n",
    "\n",
    "ax.set_xlabel('mass')\n",
    "ax.set_ylabel('Metric')\n",
    "legend = ax.legend(fontsize='x-large')\n",
    "plt.show()\n",
    "plt.savefig(cwd+ 'metrics_comparation.png')"
   ]
  },
  {
   "cell_type": "markdown",
   "metadata": {},
   "source": [
    "## Una masa y datos reducidos"
   ]
  },
  {
   "cell_type": "code",
   "execution_count": null,
   "metadata": {},
   "outputs": [],
   "source": [
    "#Metric df: \n",
    "df_metrics =  pd.DataFrame(index=[500,750,1000,1250,1500], columns=[\"tn\", \"fp\", \"fn\", \"tp\", \"acc\", \"prec\",\"recall\",\"F1_score\",\"kappa_cohen\",\"auc\"])\n",
    "\n",
    "\n",
    "\n",
    "for i in (500,750,1000,1250,1500):\n",
    "\n",
    "    print('mass=', i )\n",
    "\n",
    "    #train\n",
    "    dfmass0=df.loc[df['mass'] == 0]     #0 same size of dfmass1000 #TENER EN CUENTA QUE AQUI QUE LA DE 0 SEA MAYOR SIZE ES CASUALIDAD\n",
    "    #EN OTRO PICKE PODRIA SER AL REVES, ESTO SE DEBERIA DE ARREGLAR\n",
    "    np.random.seed(1)\n",
    "    dfmass0['mass'] = np.random.choice([500,750,1000,1250,1500], dfmass0.shape[0])#las cambio para queno sean 0 porque entonces sabría el label\n",
    "    dfmass1000=df.loc[df['mass'] !=0].sample(random_state=1,n=dfmass0.shape[0])                                                      #cojo todos!!!!!!!!!!!!!! \n",
    "    dfmass1000=pd.concat([dfmass1000, dfmass0]).sample(random_state=1,frac=1).reset_index(drop=True)    #concatenating and shuffling\n",
    "    dfmass1000['mass']=dfmass1000['mass'].astype(float)\n",
    "    dfmass1000=dfmass1000.sample(random_state=1,n=20000*5)         #la masa es una caracterísitca\n",
    "    dfmass1000=dfmass1000[dfmass1000.mass==i]\n",
    "    print(\"train\", pd.crosstab(dfmass1000['label'],dfmass1000['mass']))  \n",
    "\n",
    "    dfmass1000=dfmass1000.drop('mass', axis=1)  \n",
    "\n",
    "    \n",
    "    #test\n",
    "    dfmass1000test=df_originaltest.loc[df_originaltest['mass'] == i]\n",
    "    dfmass0test=df_originaltest.loc[df_originaltest['mass'] == 0].sample(random_state=1,n=dfmass1000test.shape[0])\n",
    "    dfmass1000test=pd.concat([dfmass1000test, dfmass0test]).sample(frac=1).reset_index(drop=True)\n",
    "    dfmass1000test=dfmass1000test.sample(random_state=1,n=10000*5)\n",
    "\n",
    "    print(\"test\", pd.crosstab(dfmass1000test['label'],dfmass1000test['mass']))  \n",
    "    \n",
    "    dfmass1000test=dfmass1000test.drop('mass', axis=1)  \n",
    "    \n",
    "    \n",
    "\n",
    "    \n",
    "\n",
    "    X_train=dfmass1000.drop(['label'], axis=1)\n",
    "    y_train=dfmass1000.label\n",
    "    \n",
    "    X_test=dfmass1000test.drop(['label'], axis=1)\n",
    "    y_test=dfmass1000test.label\n",
    "        \n",
    "   # print(X_train)\n",
    "   # print(y_test)\n",
    "\n",
    "    grid,best_model,y_pred,y_pred_proba = model(X_train,y_train,X_test)\n",
    "    print(best_model)\n",
    "\n",
    "#Roc curve construction\n",
    "\n",
    "    fpr, tpr, _ = metrics.roc_curve(y_test,  y_pred_proba)\n",
    "    auc = metrics.roc_auc_score(y_test, y_pred_proba)\n",
    "    plt.plot(fpr,tpr,label=\"data 1, auc=\"+str(auc))\n",
    "    plt.legend(loc=4)\n",
    "    #plt.savefig(cwd2+'MASS=' + str(i) + 'ROC.png')\n",
    "    plt.show()\n",
    "    plt.clf() \n",
    "\n",
    "#METRICS \n",
    "\n",
    "    tn, fp, fn, tp, acc, prec,recall, F1_score,kappa_cohen=Scores(y_test,y_pred)\n",
    "\n",
    "    df_metrics.tn[i]=tn\n",
    "    df_metrics.fp[i]=fp\n",
    "    df_metrics.fn[i]=fn\n",
    "    df_metrics.tp[i]=tp\n",
    "    df_metrics.acc[i]=acc\n",
    "    df_metrics.prec[i]=prec\n",
    "    df_metrics.recall[i]=recall\n",
    "    df_metrics.F1_score[i]=F1_score\n",
    "    df_metrics.kappa_cohen[i]=kappa_cohen\n",
    "    df_metrics.auc[i]=auc\n",
    "\n",
    "\n",
    "print(\"X_train_shape\",X_train.shape)\n",
    "print(\"X_test_shape\",X_test.shape)\n",
    "\n",
    "\n",
    "display(df_metrics)"
   ]
  },
  {
   "cell_type": "code",
   "execution_count": null,
   "metadata": {},
   "outputs": [],
   "source": [
    "print(X_train.shape)\n",
    "print(X_test.shape)\n",
    "y_test.value_counts()"
   ]
  },
  {
   "cell_type": "code",
   "execution_count": null,
   "metadata": {},
   "outputs": [],
   "source": [
    "fig, ax = plt.subplots()\n",
    "ax.plot([\"500\",\"750\",\"1000\",\"1250\",\"1500\"], df_metrics[\"acc\"], label=\"accuracy\")\n",
    "ax.plot([\"500\",\"750\",\"1000\",\"1250\",\"1500\"], df_metrics[\"F1_score\"], label=\"F1_score\")\n",
    "ax.plot([\"500\",\"750\",\"1000\",\"1250\",\"1500\"], df_metrics[\"kappa_cohen\"], label=\"kappa\")\n",
    "\n",
    "ax.set_xlabel('mass')\n",
    "ax.set_ylabel('Metric')\n",
    "legend = ax.legend(fontsize='x-large')\n",
    "plt.show()\n",
    "plt.savefig(cwd+ 'metrics_comparation.png')"
   ]
  },
  {
   "cell_type": "markdown",
   "metadata": {},
   "source": [
    "# REDUCIDO PARA COMPARAR CON SVM"
   ]
  },
  {
   "cell_type": "code",
   "execution_count": 12,
   "metadata": {},
   "outputs": [
    {
     "name": "stdout",
     "output_type": "stream",
     "text": [
      "mass= 500\n",
      "train mass   0.0    500.0\n",
      "label              \n",
      "0       5039      0\n",
      "1          0   4961\n",
      "test mass    0     500\n",
      "label            \n",
      "0      2500     0\n",
      "1         0  2500\n",
      "Fitting 5 folds for each of 24 candidates, totalling 120 fits\n"
     ]
    },
    {
     "name": "stderr",
     "output_type": "stream",
     "text": [
      "[Parallel(n_jobs=-1)]: Done  18 tasks      | elapsed:  6.0min\n",
      "[Parallel(n_jobs=-1)]: Done 120 out of 120 | elapsed: 36.6min finished\n"
     ]
    },
    {
     "name": "stdout",
     "output_type": "stream",
     "text": [
      "MLPClassifier(activation='tanh', alpha=0.0001, batch_size='auto', beta_1=0.9,\n",
      "       beta_2=0.999, early_stopping=False, epsilon=1e-08,\n",
      "       hidden_layer_sizes=25, learning_rate='constant',\n",
      "       learning_rate_init=0.001, max_iter=2000, momentum=0.9,\n",
      "       nesterovs_momentum=True, power_t=0.5, random_state=0, shuffle=True,\n",
      "       solver='lbfgs', tol=0.0001, validation_fraction=0.1, verbose=False,\n",
      "       warm_start=False)\n"
     ]
    },
    {
     "data": {
      "image/png": "[encoded data removed]",
      "text/plain": [
       "<Figure size 432x288 with 1 Axes>"
      ]
     },
     "metadata": {},
     "output_type": "display_data"
    },
    {
     "name": "stdout",
     "output_type": "stream",
     "text": [
      "mass= 750\n",
      "train mass   0.0    750.0\n",
      "label              \n",
      "0       4994      0\n",
      "1          0   5006\n",
      "test mass    0     750\n",
      "label            \n",
      "0      2521     0\n",
      "1         0  2479\n",
      "Fitting 5 folds for each of 24 candidates, totalling 120 fits\n"
     ]
    },
    {
     "name": "stderr",
     "output_type": "stream",
     "text": [
      "[Parallel(n_jobs=-1)]: Done  18 tasks      | elapsed:  6.1min\n",
      "[Parallel(n_jobs=-1)]: Done 120 out of 120 | elapsed: 36.6min finished\n"
     ]
    },
    {
     "name": "stdout",
     "output_type": "stream",
     "text": [
      "MLPClassifier(activation='tanh', alpha=0.0001, batch_size='auto', beta_1=0.9,\n",
      "       beta_2=0.999, early_stopping=False, epsilon=1e-08,\n",
      "       hidden_layer_sizes=15, learning_rate='constant',\n",
      "       learning_rate_init=0.001, max_iter=1000, momentum=0.9,\n",
      "       nesterovs_momentum=True, power_t=0.5, random_state=0, shuffle=True,\n",
      "       solver='lbfgs', tol=0.0001, validation_fraction=0.1, verbose=False,\n",
      "       warm_start=False)\n"
     ]
    },
    {
     "data": {
      "image/png": "[encoded data removed]",
      "text/plain": [
       "<Figure size 432x288 with 1 Axes>"
      ]
     },
     "metadata": {},
     "output_type": "display_data"
    },
    {
     "name": "stdout",
     "output_type": "stream",
     "text": [
      "mass= 1000\n",
      "train mass   0.0     1000.0\n",
      "label                \n",
      "0        5007       0\n",
      "1           0    4993\n",
      "test mass   0     1000\n",
      "label            \n",
      "0      2566     0\n",
      "1         0  2434\n",
      "Fitting 5 folds for each of 24 candidates, totalling 120 fits\n"
     ]
    },
    {
     "name": "stderr",
     "output_type": "stream",
     "text": [
      "[Parallel(n_jobs=-1)]: Done  18 tasks      | elapsed:  6.1min\n",
      "[Parallel(n_jobs=-1)]: Done 120 out of 120 | elapsed: 36.7min finished\n"
     ]
    },
    {
     "name": "stdout",
     "output_type": "stream",
     "text": [
      "MLPClassifier(activation='tanh', alpha=0.0001, batch_size='auto', beta_1=0.9,\n",
      "       beta_2=0.999, early_stopping=False, epsilon=1e-08,\n",
      "       hidden_layer_sizes=15, learning_rate='constant',\n",
      "       learning_rate_init=0.001, max_iter=1000, momentum=0.9,\n",
      "       nesterovs_momentum=True, power_t=0.5, random_state=0, shuffle=True,\n",
      "       solver='lbfgs', tol=0.0001, validation_fraction=0.1, verbose=False,\n",
      "       warm_start=False)\n"
     ]
    },
    {
     "data": {
      "image/png": "[encoded data removed]",
      "text/plain": [
       "<Figure size 432x288 with 1 Axes>"
      ]
     },
     "metadata": {},
     "output_type": "display_data"
    },
    {
     "name": "stdout",
     "output_type": "stream",
     "text": [
      "mass= 1250\n",
      "train mass   0.0     1250.0\n",
      "label                \n",
      "0        4992       0\n",
      "1           0    5008\n",
      "test mass   0     1250\n",
      "label            \n",
      "0      2461     0\n",
      "1         0  2539\n",
      "Fitting 5 folds for each of 24 candidates, totalling 120 fits\n"
     ]
    },
    {
     "name": "stderr",
     "output_type": "stream",
     "text": [
      "[Parallel(n_jobs=-1)]: Done  18 tasks      | elapsed:  6.0min\n",
      "[Parallel(n_jobs=-1)]: Done 120 out of 120 | elapsed: 36.3min finished\n"
     ]
    },
    {
     "name": "stdout",
     "output_type": "stream",
     "text": [
      "MLPClassifier(activation='tanh', alpha=1e-05, batch_size='auto', beta_1=0.9,\n",
      "       beta_2=0.999, early_stopping=False, epsilon=1e-08,\n",
      "       hidden_layer_sizes=15, learning_rate='constant',\n",
      "       learning_rate_init=0.001, max_iter=1000, momentum=0.9,\n",
      "       nesterovs_momentum=True, power_t=0.5, random_state=0, shuffle=True,\n",
      "       solver='lbfgs', tol=0.0001, validation_fraction=0.1, verbose=False,\n",
      "       warm_start=False)\n"
     ]
    },
    {
     "data": {
      "image/png": "[encoded data removed]",
      "text/plain": [
       "<Figure size 432x288 with 1 Axes>"
      ]
     },
     "metadata": {},
     "output_type": "display_data"
    },
    {
     "name": "stdout",
     "output_type": "stream",
     "text": [
      "mass= 1500\n",
      "train mass   0.0     1500.0\n",
      "label                \n",
      "0        5036       0\n",
      "1           0    4964\n",
      "test mass   0     1500\n",
      "label            \n",
      "0      2474     0\n",
      "1         0  2526\n",
      "Fitting 5 folds for each of 24 candidates, totalling 120 fits\n"
     ]
    },
    {
     "name": "stderr",
     "output_type": "stream",
     "text": [
      "[Parallel(n_jobs=-1)]: Done  18 tasks      | elapsed:  6.0min\n",
      "[Parallel(n_jobs=-1)]: Done 120 out of 120 | elapsed: 35.4min finished\n"
     ]
    },
    {
     "name": "stdout",
     "output_type": "stream",
     "text": [
      "MLPClassifier(activation='tanh', alpha=0.0001, batch_size='auto', beta_1=0.9,\n",
      "       beta_2=0.999, early_stopping=False, epsilon=1e-08,\n",
      "       hidden_layer_sizes=15, learning_rate='constant',\n",
      "       learning_rate_init=0.001, max_iter=1000, momentum=0.9,\n",
      "       nesterovs_momentum=True, power_t=0.5, random_state=0, shuffle=True,\n",
      "       solver='lbfgs', tol=0.0001, validation_fraction=0.1, verbose=False,\n",
      "       warm_start=False)\n"
     ]
    },
    {
     "data": {
      "image/png": "[encoded data removed]",
      "text/plain": [
       "<Figure size 432x288 with 1 Axes>"
      ]
     },
     "metadata": {},
     "output_type": "display_data"
    },
    {
     "name": "stdout",
     "output_type": "stream",
     "text": [
      "X_train_shape (10000, 11)\n",
      "X_test_shape (5000, 11)\n"
     ]
    },
    {
     "data": {
      "text/html": [
       "<div>\n",
       "<style scoped>\n",
       "    .dataframe tbody tr th:only-of-type {\n",
       "        vertical-align: middle;\n",
       "    }\n",
       "\n",
       "    .dataframe tbody tr th {\n",
       "        vertical-align: top;\n",
       "    }\n",
       "\n",
       "    .dataframe thead th {\n",
       "        text-align: right;\n",
       "    }\n",
       "</style>\n",
       "<table border=\"1\" class=\"dataframe\">\n",
       "  <thead>\n",
       "    <tr style=\"text-align: right;\">\n",
       "      <th></th>\n",
       "      <th>tn</th>\n",
       "      <th>fp</th>\n",
       "      <th>fn</th>\n",
       "      <th>tp</th>\n",
       "      <th>acc</th>\n",
       "      <th>prec</th>\n",
       "      <th>recall</th>\n",
       "      <th>F1_score</th>\n",
       "      <th>kappa_cohen</th>\n",
       "      <th>auc</th>\n",
       "    </tr>\n",
       "  </thead>\n",
       "  <tbody>\n",
       "    <tr>\n",
       "      <th>500</th>\n",
       "      <td>1584</td>\n",
       "      <td>916</td>\n",
       "      <td>849</td>\n",
       "      <td>1651</td>\n",
       "      <td>0.647</td>\n",
       "      <td>0.643163</td>\n",
       "      <td>0.6604</td>\n",
       "      <td>0.651668</td>\n",
       "      <td>0.294</td>\n",
       "      <td>0.701003</td>\n",
       "    </tr>\n",
       "    <tr>\n",
       "      <th>750</th>\n",
       "      <td>2066</td>\n",
       "      <td>455</td>\n",
       "      <td>309</td>\n",
       "      <td>2170</td>\n",
       "      <td>0.8472</td>\n",
       "      <td>0.826667</td>\n",
       "      <td>0.875353</td>\n",
       "      <td>0.850313</td>\n",
       "      <td>0.694528</td>\n",
       "      <td>0.912118</td>\n",
       "    </tr>\n",
       "    <tr>\n",
       "      <th>1000</th>\n",
       "      <td>2291</td>\n",
       "      <td>275</td>\n",
       "      <td>188</td>\n",
       "      <td>2246</td>\n",
       "      <td>0.9074</td>\n",
       "      <td>0.890916</td>\n",
       "      <td>0.922761</td>\n",
       "      <td>0.906559</td>\n",
       "      <td>0.814841</td>\n",
       "      <td>0.962598</td>\n",
       "    </tr>\n",
       "    <tr>\n",
       "      <th>1250</th>\n",
       "      <td>2258</td>\n",
       "      <td>203</td>\n",
       "      <td>133</td>\n",
       "      <td>2406</td>\n",
       "      <td>0.9328</td>\n",
       "      <td>0.922192</td>\n",
       "      <td>0.947617</td>\n",
       "      <td>0.934732</td>\n",
       "      <td>0.865509</td>\n",
       "      <td>0.977674</td>\n",
       "    </tr>\n",
       "    <tr>\n",
       "      <th>1500</th>\n",
       "      <td>2360</td>\n",
       "      <td>114</td>\n",
       "      <td>90</td>\n",
       "      <td>2436</td>\n",
       "      <td>0.9592</td>\n",
       "      <td>0.955294</td>\n",
       "      <td>0.964371</td>\n",
       "      <td>0.959811</td>\n",
       "      <td>0.918383</td>\n",
       "      <td>0.990256</td>\n",
       "    </tr>\n",
       "  </tbody>\n",
       "</table>\n",
       "</div>"
      ],
      "text/plain": [
       "        tn   fp   fn    tp     acc      prec    recall  F1_score kappa_cohen  \\\n",
       "500   1584  916  849  1651   0.647  0.643163    0.6604  0.651668       0.294   \n",
       "750   2066  455  309  2170  0.8472  0.826667  0.875353  0.850313    0.694528   \n",
       "1000  2291  275  188  2246  0.9074  0.890916  0.922761  0.906559    0.814841   \n",
       "1250  2258  203  133  2406  0.9328  0.922192  0.947617  0.934732    0.865509   \n",
       "1500  2360  114   90  2436  0.9592  0.955294  0.964371  0.959811    0.918383   \n",
       "\n",
       "           auc  \n",
       "500   0.701003  \n",
       "750   0.912118  \n",
       "1000  0.962598  \n",
       "1250  0.977674  \n",
       "1500  0.990256  "
      ]
     },
     "metadata": {},
     "output_type": "display_data"
    },
    {
     "data": {
      "text/plain": [
       "<Figure size 432x288 with 0 Axes>"
      ]
     },
     "metadata": {},
     "output_type": "display_data"
    }
   ],
   "source": [
    "#Metric df: \n",
    "df_metrics =  pd.DataFrame(index=[500,750,1000,1250,1500], columns=[\"tn\", \"fp\", \"fn\", \"tp\", \"acc\", \"prec\",\"recall\",\"F1_score\",\"kappa_cohen\",\"auc\"])\n",
    "\n",
    "\n",
    "\n",
    "for i in (500,750,1000,1250,1500):\n",
    "\n",
    "    print('mass=', i )\n",
    "\n",
    "    #train\n",
    "      #0 same size of dfmass1000 #TENER EN CUENTA QUE AQUI QUE LA DE 0 SEA MAYOR SIZE ES CASUALIDAD\n",
    "    #EN OTRO PICKE PODRIA SER AL REVES, ESTO SE DEBERIA DE ARREGLAR\n",
    "    np.random.seed(1)\n",
    "    #dfmass0['mass'] = np.random.choice([500,750,1000,1250,1500], dfmass0.shape[0])#las cambio para queno sean 0 porque entonces sabría el label\n",
    "    dfmass1000=df.loc[df['mass'] ==i]        \n",
    "    dfmass0=df.loc[df['mass'] == 0].sample(random_state=1,n=dfmass1000.shape[0])   #cojo todos!!!!!!!!!!!!!! \n",
    "    dfmass1000=pd.concat([dfmass1000, dfmass0]).sample(random_state=1,frac=1).reset_index(drop=True)    #concatenating and shuffling\n",
    "    dfmass1000['mass']=dfmass1000['mass'].astype(float)\n",
    "    dfmass1000=dfmass1000.sample(random_state=1,n=2000*5)\n",
    "    print(\"train\", pd.crosstab(dfmass1000['label'],dfmass1000['mass']))\n",
    "    dfmass1000=dfmass1000.drop('mass', axis=1)        #la masa es una caracterísitca\n",
    "    \n",
    "    \n",
    "    #test\n",
    "    dfmass1000test=df_originaltest.loc[df_originaltest['mass'] == i]\n",
    "    dfmass0test=df_originaltest.loc[df_originaltest['mass'] == 0].sample(random_state=1,n=dfmass1000test.shape[0])\n",
    "    dfmass1000test=pd.concat([dfmass1000test, dfmass0test]).sample(frac=1).reset_index(drop=True)\n",
    "    dfmass1000test=dfmass1000test.sample(random_state=1,n=1000*5)\n",
    "\n",
    "    print(\"test\", pd.crosstab(dfmass1000test['label'],dfmass1000test['mass']))  \n",
    "    \n",
    "    dfmass1000test=dfmass1000test.drop('mass', axis=1)  \n",
    "    \n",
    "    drop=['lep_eta', 'lep_phi',  'met_phi', 'jets_no', 'jet1_eta', 'jet1_phi', 'jet1_btag', \n",
    "       'jet2_eta', 'jet2_phi', 'jet2_btag',  'jet3_eta', 'jet3_phi',\n",
    "       'jet3_btag', 'jet4_eta', 'jet4_phi', 'jet4_btag']\n",
    "\n",
    "    X_train=dfmass1000.drop(['label'], axis=1)\n",
    "    X_train=X_train.drop(drop, axis=1)\n",
    "    y_train=dfmass1000.label\n",
    "    \n",
    "    X_test=dfmass1000test.drop(['label'], axis=1)\n",
    "    X_test=X_test.drop(drop, axis=1)\n",
    "    y_test=dfmass1000test.label\n",
    "        \n",
    "   # print(X_train)\n",
    "   # print(y_test)\n",
    "\n",
    "    grid,best_model,y_pred,y_pred_proba = model(X_train,y_train,X_test)\n",
    "    print(best_model)\n",
    "\n",
    "#Roc curve construction\n",
    "\n",
    "    fpr, tpr, _ = metrics.roc_curve(y_test,  y_pred_proba)\n",
    "    auc = metrics.roc_auc_score(y_test, y_pred_proba)\n",
    "    plt.plot(fpr,tpr,label=\"data 1, auc=\"+str(auc))\n",
    "    plt.legend(loc=4)\n",
    "    #plt.savefig(cwd2+'MASS=' + str(i) + 'ROC.png')\n",
    "    plt.show()\n",
    "    plt.clf() \n",
    "\n",
    "#METRICS \n",
    "\n",
    "    tn, fp, fn, tp, acc, prec,recall, F1_score,kappa_cohen=Scores(y_test,y_pred)\n",
    "\n",
    "    df_metrics.tn[i]=tn\n",
    "    df_metrics.fp[i]=fp\n",
    "    df_metrics.fn[i]=fn\n",
    "    df_metrics.tp[i]=tp\n",
    "    df_metrics.acc[i]=acc\n",
    "    df_metrics.prec[i]=prec\n",
    "    df_metrics.recall[i]=recall\n",
    "    df_metrics.F1_score[i]=F1_score\n",
    "    df_metrics.kappa_cohen[i]=kappa_cohen\n",
    "    df_metrics.auc[i]=auc\n",
    "\n",
    "\n",
    "print(\"X_train_shape\",X_train.shape)\n",
    "print(\"X_test_shape\",X_test.shape)\n",
    "\n",
    "\n",
    "display(df_metrics)"
   ]
  },
  {
   "cell_type": "code",
   "execution_count": 13,
   "metadata": {},
   "outputs": [],
   "source": [
    "df_metrics.to_pickle('g2_redu')"
   ]
  },
  {
   "cell_type": "code",
   "execution_count": null,
   "metadata": {},
   "outputs": [],
   "source": [
    "print(X_train.shape)\n",
    "print(X_test.shape)\n",
    "y_test.value_counts()"
   ]
  },
  {
   "cell_type": "code",
   "execution_count": null,
   "metadata": {},
   "outputs": [],
   "source": [
    "\n",
    "\n",
    "fig, ax = plt.subplots()\n",
    "ax.plot([\"500\",\"750\",\"1000\",\"1250\",\"1500\"], df_metrics[\"acc\"], label=\"accuracy\")\n",
    "ax.plot([\"500\",\"750\",\"1000\",\"1250\",\"1500\"], df_metrics[\"F1_score\"], label=\"F1_score\")\n",
    "ax.plot([\"500\",\"750\",\"1000\",\"1250\",\"1500\"], df_metrics[\"kappa_cohen\"], label=\"kappa\")\n",
    "\n",
    "ax.set_xlabel('mass')\n",
    "ax.set_ylabel('Metric')\n",
    "legend = ax.legend(fontsize='x-large')\n",
    "plt.show()\n",
    "#plt.savefig(cwd+ 'metrics_comparation.png')\n",
    "\n",
    "# REDUCIDO PARA COMPARAR CON SVM"
   ]
  },
  {
   "cell_type": "markdown",
   "metadata": {},
   "source": [
    "# Comparativa modelos clásicos "
   ]
  },
  {
   "cell_type": "code",
   "execution_count": 9,
   "metadata": {},
   "outputs": [],
   "source": [
    "lr=[0.617727,0.838647,0.905506,0.936106,0.955204]\n",
    "RF=[0.678,0.853,0.914,0.942,0.960]\n",
    "rn1=[0.679,0.855,0.915944,0.942561,0.960839]\n",
    "rn2=[0.651 ,0.850,0.906,0.935 ,0.959]\n",
    "deepl=[0.698,0.866]\n",
    "SVM=[0.624,0.837,0.899,0.932 ,0.959 ]\n",
    "\n",
    "\n",
    "prec=[0.649,0.829,0.904,0.932,0.951]\n",
    "recall=[0.713,0.883,0.927,0.951,0.966]\n",
    "f1=[0.679,0.855,0.915944,0.942561,0.960839]"
   ]
  },
  {
   "cell_type": "code",
   "execution_count": 10,
   "metadata": {},
   "outputs": [
    {
     "data": {
      "image/png": "[encoded data removed]",
      "text/plain": [
       "<Figure size 720x360 with 1 Axes>"
      ]
     },
     "metadata": {},
     "output_type": "display_data"
    }
   ],
   "source": [
    "fig, ax = plt.subplots(figsize=(10,5))\n",
    "\n",
    "ax.plot([\"500\",\"750\",\"1000\",\"1250\",\"1500\"], lr, label=\"Regresión logística (datos: 100000 tr 50000 ts)\")\n",
    "ax.plot([\"500\",\"750\",\"1000\",\"1250\",\"1500\"], RF, label=\"Random Forest (datos: 100000 tr 50000 ts)\")\n",
    "ax.plot([\"500\",\"750\",\"1000\",\"1250\",\"1500\"], rn1, label=\"Red neuronal simple (datos: 100000 tr 50000 ts)\")\n",
    "ax.plot([\"500\",\"750\"], deepl, label=\"Red neuronal compleja (datos: 100000 tr 50000 ts)\")\n",
    "ax.plot([\"500\",\"750\",\"1000\",\"1250\",\"1500\"], rn2, label=\"Red neuronal simple (datos: 10000 tr 5000 ts)\")\n",
    "ax.plot([\"500\",\"750\",\"1000\",\"1250\",\"1500\"], SVM, label=\"SVM (datos: 10000 tr 5000 ts)\")\n",
    "\n",
    "\n",
    "\n",
    "ax.set_xlabel('Masa de test', fontsize=11)\n",
    "ax.set_ylabel('F1-score', fontsize=11)\n",
    "ax.legend(fontsize='large',loc='center left', bbox_to_anchor=(1, 0.5))\n",
    "fig.suptitle('Comparación de F1-score para los diferentes modelos' , fontsize=14)\n",
    "plt.show()"
   ]
  },
  {
   "cell_type": "code",
   "execution_count": 11,
   "metadata": {},
   "outputs": [
    {
     "data": {
      "image/png": "[encoded data removed]",
      "text/plain": [
       "<Figure size 720x360 with 1 Axes>"
      ]
     },
     "metadata": {},
     "output_type": "display_data"
    }
   ],
   "source": [
    "fig, ax = plt.subplots(figsize=(10,5))\n",
    "\n",
    "ax.plot([\"500\",\"750\",\"1000\",\"1250\",\"1500\"], prec, label=\"Precisión\")\n",
    "ax.plot([\"500\",\"750\",\"1000\",\"1250\",\"1500\"], recall, label=\"Recall\")\n",
    "ax.plot([\"500\",\"750\",\"1000\",\"1250\",\"1500\"], f1, label=\"F1-score\")\n",
    "\n",
    "\n",
    "ax.set_xlabel('Masa de test', fontsize=11)\n",
    "ax.set_ylabel('F1-score', fontsize=11)\n",
    "ax.legend(fontsize='large',loc='center left', bbox_to_anchor=(1, 0.5))\n",
    "fig.suptitle('Comparación métricas para la red neuronal simple' , fontsize=14)\n",
    "plt.show()"
   ]
  },
  {
   "cell_type": "code",
   "execution_count": null,
   "metadata": {},
   "outputs": [],
   "source": []
  },
  {
   "cell_type": "code",
   "execution_count": null,
   "metadata": {},
   "outputs": [],
   "source": []
  },
  {
   "cell_type": "code",
   "execution_count": null,
   "metadata": {},
   "outputs": [],
   "source": []
  },
  {
   "cell_type": "code",
   "execution_count": null,
   "metadata": {},
   "outputs": [],
   "source": []
  }
 ],
 "metadata": {
  "kernelspec": {
   "display_name": "Python 3",
   "language": "python",
   "name": "python3"
  },
  "language_info": {
   "codemirror_mode": {
    "name": "ipython",
    "version": 3
   },
   "file_extension": ".py",
   "mimetype": "text/x-python",
   "name": "python",
   "nbconvert_exporter": "python",
   "pygments_lexer": "ipython3",
   "version": "3.5.2"
  }
 },
 "nbformat": 4,
 "nbformat_minor": 2
}
