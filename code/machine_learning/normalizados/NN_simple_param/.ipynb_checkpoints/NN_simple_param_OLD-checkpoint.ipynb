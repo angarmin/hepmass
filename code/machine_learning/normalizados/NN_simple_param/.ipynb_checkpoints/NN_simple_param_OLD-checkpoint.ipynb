{
 "cells": [
  {
   "cell_type": "markdown",
   "metadata": {},
   "source": [
    "**Libraries**"
   ]
  },
  {
   "cell_type": "code",
   "execution_count": 1,
   "metadata": {},
   "outputs": [
    {
     "data": {
      "text/plain": [
       "<mtrand.RandomState at 0x7f5a93b0bee8>"
      ]
     },
     "execution_count": 1,
     "metadata": {},
     "output_type": "execute_result"
    }
   ],
   "source": [
    "import pandas as pd\n",
    "import numpy as np\n",
    "\n",
    "import warnings\n",
    "\n",
    "import matplotlib as mpl\n",
    "import matplotlib.pyplot as plt\n",
    "import seaborn as sns\n",
    "from plotnine import *\n",
    "import joypy #el de las densidades guays\n",
    "\n",
    "from sklearn import manifold  \n",
    "\n",
    "\n",
    "from sklearn.model_selection import train_test_split\n",
    "from sklearn.model_selection import cross_val_score\n",
    "from sklearn.model_selection import GridSearchCV\n",
    "import os \n",
    "cwd = os.getcwd() + \"/\"\n",
    "cwd=\"/home/angela/Notebook/machine_learning/normalizados/NN_simple_param/\"\n",
    "from sklearn import metrics\n",
    "\n",
    "from sklearn.neural_network import MLPClassifier\n",
    "\n",
    "\n",
    "warnings.filterwarnings('ignore') #ATENCION QUE ESTO CREO QUE FUNCIONA PARA TODO EL NOTEBOOK\n",
    "\n",
    "import random\n",
    "random.seed(1)\n",
    "np.random.seed(1)\n",
    "np.random.RandomState(1)\n",
    "\n"
   ]
  },
  {
   "cell_type": "markdown",
   "metadata": {},
   "source": [
    "**LOAD**"
   ]
  },
  {
   "cell_type": "code",
   "execution_count": 2,
   "metadata": {},
   "outputs": [],
   "source": [
    "#ALL THE DATASET\n",
    "\n",
    "df=pd.read_pickle(\"/home/angela/Notebook/data/normalizados/trainpickle\")\n",
    "df_originaltest=pd.read_pickle(\"/home/angela/Notebook/data/normalizados/testpickle\")"
   ]
  },
  {
   "cell_type": "code",
   "execution_count": 3,
   "metadata": {},
   "outputs": [],
   "source": [
    "#SIMPLe DATASET\n",
    "#df=pd.read_pickle(\"/home/angela/Notebook/data/normalizados/trainsimplepickle\")\n",
    "#df_originaltest=pd.read_pickle(\"/home/angela/Notebook/data/normalizados/testsimplepickle\")\n"
   ]
  },
  {
   "cell_type": "markdown",
   "metadata": {},
   "source": [
    "# Machine learning"
   ]
  },
  {
   "cell_type": "markdown",
   "metadata": {},
   "source": [
    "**We will follow the scikit-learn schema to train and validate the model**\n",
    "\n",
    "\n",
    "https://scikit-learn.org/stable/modules/cross_validation.html\n"
   ]
  },
  {
   "cell_type": "markdown",
   "metadata": {},
   "source": [
    "## SVM"
   ]
  },
  {
   "cell_type": "code",
   "execution_count": 4,
   "metadata": {},
   "outputs": [],
   "source": [
    "#Scores\n",
    "\n",
    "\n",
    "def Scores(y_true,y_pred):\n",
    "    \n",
    "    tn, fp, fn, tp = metrics.confusion_matrix(y_true, y_pred).ravel()\n",
    "    prec=tp / (tp + fp)\n",
    "    recall= tp / (tp + fn)\n",
    "    F1_score= 2 * (prec * recall) / (prec + recall)\n",
    "    acc=metrics.accuracy_score(y_true,y_pred)\n",
    "    kappa_cohen=metrics.cohen_kappa_score(y_true,y_pred)\n",
    "        \n",
    "    return(tn, fp, fn, tp, acc, prec,recall, F1_score,kappa_cohen)\n",
    "\n",
    "\n",
    "def model(X_train,y_train,X_test):\n",
    "    \n",
    "    model = MLPClassifier() \n",
    "    \n",
    "    #grid search, copy of kaggle: https://www.kaggle.com/hatone/mlpclassifier-with-gridsearchcv#L72\n",
    "    #defalult (scikit learn) :  best_model = MLPClassifier(solver='lbfgs', alpha=1e-5, hidden_layer_sizes=(5, 2)))\n",
    "\n",
    "    #params = {'solver': ['lbfgs'], 'max_iter': [1000,1100,1200,1300,1400,1500,1600,1700,1800,1900,2000 ], 'alpha': 10.0 ** -np.arange(1, 10), 'hidden_layer_sizes':np.arange(10, 15), 'random_state':[0,1,2,3,4,5,6,7,8,9]}    #model = SVC(probability=True) \n",
    "    #reduced: \n",
    "    params = {'solver': ['lbfgs'], 'max_iter': [200,600,1000,1400,1800], 'alpha': 10.0 ** -np.arange(4, 6), 'hidden_layer_sizes':np.arange(10, 15), 'random_state':[0]}    #model = SVC(probability=True) \n",
    "\n",
    "    grid = GridSearchCV(estimator=model, param_grid=params,cv=5,verbose=1, n_jobs=2)\n",
    "\n",
    "    grid.fit(X_train,y_train)\n",
    "    best_model = grid.best_estimator_\n",
    "    \n",
    "    best_model.fit(X_train,y_train)\n",
    "    # Predict test set labels\n",
    "    y_pred = best_model.predict(X_test)    \n",
    "    y_pred_proba = best_model.predict_proba(X_test)[::,1] #Neccesary to make the ROC curve \n",
    "\n",
    "    return(grid,best_model,y_pred,y_pred_proba)"
   ]
  },
  {
   "cell_type": "markdown",
   "metadata": {},
   "source": [
    "## Entrenando y testeando con la masa"
   ]
  },
  {
   "cell_type": "code",
   "execution_count": 5,
   "metadata": {},
   "outputs": [],
   "source": [
    "cwd1=cwd+\"con1000\"\n"
   ]
  },
  {
   "cell_type": "code",
   "execution_count": 6,
   "metadata": {
    "scrolled": false
   },
   "outputs": [
    {
     "name": "stdout",
     "output_type": "stream",
     "text": [
      "mass= 500\n",
      "train mass   500.0   750.0   1000.0  1250.0  1500.0\n",
      "label                                        \n",
      "0       10009    9903    9963   10015    9935\n",
      "1       10002   10045   10199    9912   10017\n",
      "test mass   500.0\n",
      "label       \n",
      "0      24949\n",
      "1      25051\n",
      "Fitting 5 folds for each of 50 candidates, totalling 250 fits\n"
     ]
    },
    {
     "name": "stderr",
     "output_type": "stream",
     "text": [
      "[Parallel(n_jobs=2)]: Done  46 tasks      | elapsed:  1.1min\n",
      "[Parallel(n_jobs=2)]: Done 196 tasks      | elapsed: 71.3min\n",
      "[Parallel(n_jobs=2)]: Done 250 out of 250 | elapsed: 104.4min finished\n"
     ]
    },
    {
     "name": "stdout",
     "output_type": "stream",
     "text": [
      "MLPClassifier(activation='relu', alpha=0.0001, batch_size='auto', beta_1=0.9,\n",
      "       beta_2=0.999, early_stopping=False, epsilon=1e-08,\n",
      "       hidden_layer_sizes=13, learning_rate='constant',\n",
      "       learning_rate_init=0.001, max_iter=1800, momentum=0.9,\n",
      "       nesterovs_momentum=True, power_t=0.5, random_state=0, shuffle=True,\n",
      "       solver='lbfgs', tol=0.0001, validation_fraction=0.1, verbose=False,\n",
      "       warm_start=False)\n"
     ]
    },
    {
     "data": {
      "image/png": "[encoded data removed]",
      "text/plain": [
       "<Figure size 432x288 with 1 Axes>"
      ]
     },
     "metadata": {},
     "output_type": "display_data"
    },
    {
     "name": "stdout",
     "output_type": "stream",
     "text": [
      "mass= 750\n",
      "train mass   500.0   750.0   1000.0  1250.0  1500.0\n",
      "label                                        \n",
      "0       10009    9903    9963   10015    9935\n",
      "1       10002   10045   10199    9912   10017\n",
      "test mass   750.0\n",
      "label       \n",
      "0      24826\n",
      "1      25174\n",
      "Fitting 5 folds for each of 50 candidates, totalling 250 fits\n"
     ]
    },
    {
     "name": "stderr",
     "output_type": "stream",
     "text": [
      "[Parallel(n_jobs=2)]: Done  46 tasks      | elapsed:  1.1min\n",
      "[Parallel(n_jobs=2)]: Done 196 tasks      | elapsed: 72.1min\n",
      "[Parallel(n_jobs=2)]: Done 250 out of 250 | elapsed: 104.9min finished\n"
     ]
    },
    {
     "name": "stdout",
     "output_type": "stream",
     "text": [
      "MLPClassifier(activation='relu', alpha=0.0001, batch_size='auto', beta_1=0.9,\n",
      "       beta_2=0.999, early_stopping=False, epsilon=1e-08,\n",
      "       hidden_layer_sizes=13, learning_rate='constant',\n",
      "       learning_rate_init=0.001, max_iter=1800, momentum=0.9,\n",
      "       nesterovs_momentum=True, power_t=0.5, random_state=0, shuffle=True,\n",
      "       solver='lbfgs', tol=0.0001, validation_fraction=0.1, verbose=False,\n",
      "       warm_start=False)\n"
     ]
    },
    {
     "data": {
      "image/png": "[encoded data removed]",
      "text/plain": [
       "<Figure size 432x288 with 1 Axes>"
      ]
     },
     "metadata": {},
     "output_type": "display_data"
    },
    {
     "name": "stdout",
     "output_type": "stream",
     "text": [
      "mass= 1000\n",
      "train mass   500.0   750.0   1000.0  1250.0  1500.0\n",
      "label                                        \n",
      "0       10009    9903    9963   10015    9935\n",
      "1       10002   10045   10199    9912   10017\n",
      "test mass   1000.0\n",
      "label        \n",
      "0       25131\n",
      "1       24869\n",
      "Fitting 5 folds for each of 50 candidates, totalling 250 fits\n"
     ]
    },
    {
     "name": "stderr",
     "output_type": "stream",
     "text": [
      "[Parallel(n_jobs=2)]: Done  46 tasks      | elapsed:  1.2min\n",
      "[Parallel(n_jobs=2)]: Done 196 tasks      | elapsed: 72.0min\n",
      "[Parallel(n_jobs=2)]: Done 250 out of 250 | elapsed: 105.1min finished\n"
     ]
    },
    {
     "name": "stdout",
     "output_type": "stream",
     "text": [
      "MLPClassifier(activation='relu', alpha=0.0001, batch_size='auto', beta_1=0.9,\n",
      "       beta_2=0.999, early_stopping=False, epsilon=1e-08,\n",
      "       hidden_layer_sizes=13, learning_rate='constant',\n",
      "       learning_rate_init=0.001, max_iter=1800, momentum=0.9,\n",
      "       nesterovs_momentum=True, power_t=0.5, random_state=0, shuffle=True,\n",
      "       solver='lbfgs', tol=0.0001, validation_fraction=0.1, verbose=False,\n",
      "       warm_start=False)\n"
     ]
    },
    {
     "data": {
      "image/png": "[encoded data removed]",
      "text/plain": [
       "<Figure size 432x288 with 1 Axes>"
      ]
     },
     "metadata": {},
     "output_type": "display_data"
    },
    {
     "name": "stdout",
     "output_type": "stream",
     "text": [
      "mass= 1250\n",
      "train mass   500.0   750.0   1000.0  1250.0  1500.0\n",
      "label                                        \n",
      "0       10009    9903    9963   10015    9935\n",
      "1       10002   10045   10199    9912   10017\n",
      "test mass   1250.0\n",
      "label        \n",
      "0       25061\n",
      "1       24939\n",
      "Fitting 5 folds for each of 50 candidates, totalling 250 fits\n"
     ]
    },
    {
     "name": "stderr",
     "output_type": "stream",
     "text": [
      "[Parallel(n_jobs=2)]: Done  46 tasks      | elapsed:  1.2min\n",
      "[Parallel(n_jobs=2)]: Done 196 tasks      | elapsed: 73.3min\n",
      "[Parallel(n_jobs=2)]: Done 250 out of 250 | elapsed: 105.9min finished\n"
     ]
    },
    {
     "name": "stdout",
     "output_type": "stream",
     "text": [
      "MLPClassifier(activation='relu', alpha=0.0001, batch_size='auto', beta_1=0.9,\n",
      "       beta_2=0.999, early_stopping=False, epsilon=1e-08,\n",
      "       hidden_layer_sizes=13, learning_rate='constant',\n",
      "       learning_rate_init=0.001, max_iter=1800, momentum=0.9,\n",
      "       nesterovs_momentum=True, power_t=0.5, random_state=0, shuffle=True,\n",
      "       solver='lbfgs', tol=0.0001, validation_fraction=0.1, verbose=False,\n",
      "       warm_start=False)\n"
     ]
    },
    {
     "data": {
      "image/png": "[encoded data removed]",
      "text/plain": [
       "<Figure size 432x288 with 1 Axes>"
      ]
     },
     "metadata": {},
     "output_type": "display_data"
    },
    {
     "name": "stdout",
     "output_type": "stream",
     "text": [
      "mass= 1500\n",
      "train mass   500.0   750.0   1000.0  1250.0  1500.0\n",
      "label                                        \n",
      "0       10009    9903    9963   10015    9935\n",
      "1       10002   10045   10199    9912   10017\n",
      "test mass   1500.0\n",
      "label        \n",
      "0       25050\n",
      "1       24950\n",
      "Fitting 5 folds for each of 50 candidates, totalling 250 fits\n"
     ]
    },
    {
     "name": "stderr",
     "output_type": "stream",
     "text": [
      "[Parallel(n_jobs=2)]: Done  46 tasks      | elapsed:  1.2min\n",
      "[Parallel(n_jobs=2)]: Done 196 tasks      | elapsed: 70.6min\n",
      "[Parallel(n_jobs=2)]: Done 250 out of 250 | elapsed: 104.0min finished\n"
     ]
    },
    {
     "name": "stdout",
     "output_type": "stream",
     "text": [
      "MLPClassifier(activation='relu', alpha=0.0001, batch_size='auto', beta_1=0.9,\n",
      "       beta_2=0.999, early_stopping=False, epsilon=1e-08,\n",
      "       hidden_layer_sizes=13, learning_rate='constant',\n",
      "       learning_rate_init=0.001, max_iter=1800, momentum=0.9,\n",
      "       nesterovs_momentum=True, power_t=0.5, random_state=0, shuffle=True,\n",
      "       solver='lbfgs', tol=0.0001, validation_fraction=0.1, verbose=False,\n",
      "       warm_start=False)\n"
     ]
    },
    {
     "data": {
      "image/png": "[encoded data removed]",
      "text/plain": [
       "<Figure size 432x288 with 1 Axes>"
      ]
     },
     "metadata": {},
     "output_type": "display_data"
    },
    {
     "name": "stdout",
     "output_type": "stream",
     "text": [
      "X_train_shape (100000, 28)\n",
      "X_test_shape (50000, 28)\n"
     ]
    },
    {
     "data": {
      "text/html": [
       "<div>\n",
       "<style scoped>\n",
       "    .dataframe tbody tr th:only-of-type {\n",
       "        vertical-align: middle;\n",
       "    }\n",
       "\n",
       "    .dataframe tbody tr th {\n",
       "        vertical-align: top;\n",
       "    }\n",
       "\n",
       "    .dataframe thead th {\n",
       "        text-align: right;\n",
       "    }\n",
       "</style>\n",
       "<table border=\"1\" class=\"dataframe\">\n",
       "  <thead>\n",
       "    <tr style=\"text-align: right;\">\n",
       "      <th></th>\n",
       "      <th>tn</th>\n",
       "      <th>fp</th>\n",
       "      <th>fn</th>\n",
       "      <th>tp</th>\n",
       "      <th>acc</th>\n",
       "      <th>prec</th>\n",
       "      <th>recall</th>\n",
       "      <th>F1_score</th>\n",
       "      <th>kappa_cohen</th>\n",
       "      <th>auc</th>\n",
       "    </tr>\n",
       "  </thead>\n",
       "  <tbody>\n",
       "    <tr>\n",
       "      <th>500</th>\n",
       "      <td>16972</td>\n",
       "      <td>7977</td>\n",
       "      <td>14021</td>\n",
       "      <td>11030</td>\n",
       "      <td>0.56004</td>\n",
       "      <td>0.580313</td>\n",
       "      <td>0.440302</td>\n",
       "      <td>0.500704</td>\n",
       "      <td>0.12051</td>\n",
       "      <td>0.625307</td>\n",
       "    </tr>\n",
       "    <tr>\n",
       "      <th>750</th>\n",
       "      <td>20040</td>\n",
       "      <td>4786</td>\n",
       "      <td>3803</td>\n",
       "      <td>21371</td>\n",
       "      <td>0.82822</td>\n",
       "      <td>0.817028</td>\n",
       "      <td>0.848931</td>\n",
       "      <td>0.832674</td>\n",
       "      <td>0.656329</td>\n",
       "      <td>0.890869</td>\n",
       "    </tr>\n",
       "    <tr>\n",
       "      <th>1000</th>\n",
       "      <td>22057</td>\n",
       "      <td>3074</td>\n",
       "      <td>1839</td>\n",
       "      <td>23030</td>\n",
       "      <td>0.90174</td>\n",
       "      <td>0.88224</td>\n",
       "      <td>0.926053</td>\n",
       "      <td>0.903616</td>\n",
       "      <td>0.803525</td>\n",
       "      <td>0.958524</td>\n",
       "    </tr>\n",
       "    <tr>\n",
       "      <th>1250</th>\n",
       "      <td>23062</td>\n",
       "      <td>1999</td>\n",
       "      <td>1517</td>\n",
       "      <td>23422</td>\n",
       "      <td>0.92968</td>\n",
       "      <td>0.921364</td>\n",
       "      <td>0.939172</td>\n",
       "      <td>0.930183</td>\n",
       "      <td>0.859366</td>\n",
       "      <td>0.977735</td>\n",
       "    </tr>\n",
       "    <tr>\n",
       "      <th>1500</th>\n",
       "      <td>23930</td>\n",
       "      <td>1120</td>\n",
       "      <td>1711</td>\n",
       "      <td>23239</td>\n",
       "      <td>0.94338</td>\n",
       "      <td>0.954021</td>\n",
       "      <td>0.931423</td>\n",
       "      <td>0.942587</td>\n",
       "      <td>0.886754</td>\n",
       "      <td>0.985173</td>\n",
       "    </tr>\n",
       "  </tbody>\n",
       "</table>\n",
       "</div>"
      ],
      "text/plain": [
       "         tn    fp     fn     tp      acc      prec    recall  F1_score  \\\n",
       "500   16972  7977  14021  11030  0.56004  0.580313  0.440302  0.500704   \n",
       "750   20040  4786   3803  21371  0.82822  0.817028  0.848931  0.832674   \n",
       "1000  22057  3074   1839  23030  0.90174   0.88224  0.926053  0.903616   \n",
       "1250  23062  1999   1517  23422  0.92968  0.921364  0.939172  0.930183   \n",
       "1500  23930  1120   1711  23239  0.94338  0.954021  0.931423  0.942587   \n",
       "\n",
       "     kappa_cohen       auc  \n",
       "500      0.12051  0.625307  \n",
       "750     0.656329  0.890869  \n",
       "1000    0.803525  0.958524  \n",
       "1250    0.859366  0.977735  \n",
       "1500    0.886754  0.985173  "
      ]
     },
     "metadata": {},
     "output_type": "display_data"
    },
    {
     "data": {
      "text/plain": [
       "<Figure size 432x288 with 0 Axes>"
      ]
     },
     "metadata": {},
     "output_type": "display_data"
    }
   ],
   "source": [
    "#Metric df: \n",
    "df_metrics =  pd.DataFrame(index=[500,750,1000,1250,1500], columns=[\"tn\", \"fp\", \"fn\", \"tp\", \"acc\", \"prec\",\"recall\",\"F1_score\",\"kappa_cohen\",\"auc\"])\n",
    "\n",
    "\n",
    "\n",
    "for i in (500,750,1000,1250,1500):\n",
    "\n",
    "    print('mass=', i )\n",
    "\n",
    "    #train\n",
    "    dfmass0=df.loc[df['mass'] == 0]     #0 same size of dfmass1000 #TENER EN CUENTA QUE AQUI QUE LA DE 0 SEA MAYOR SIZE ES CASUALIDAD\n",
    "    #EN OTRO PICKE PODRIA SER AL REVES, ESTO SE DEBERIA DE ARREGLAR\n",
    "    np.random.seed(1)\n",
    "    dfmass0['mass'] = np.random.choice([500,750,1000,1250,1500], dfmass0.shape[0])#las cambio para queno sean 0 porque entonces sabría el label\n",
    "    dfmass1000=df.loc[df['mass'] !=0].sample(random_state=1,n=dfmass0.shape[0])                                                      #cojo todos!!!!!!!!!!!!!! \n",
    "    dfmass1000=pd.concat([dfmass1000, dfmass0]).sample(random_state=1,frac=1).reset_index(drop=True)    #concatenating and shuffling\n",
    "    dfmass1000['mass']=dfmass1000['mass'].astype(float)\n",
    "    dfmass1000=dfmass1000.sample(random_state=1,n=20000*5)         #la masa es una caracterísitca\n",
    "    \n",
    "    \n",
    "    #test\n",
    "    dfmass1000test=df_originaltest.loc[df_originaltest['mass'] == i]\n",
    "    dfmass0test=df_originaltest.loc[df_originaltest['mass'] == 0].sample(random_state=1,n=dfmass1000test.shape[0])\n",
    "    np.random.seed(1)\n",
    "    dfmass0test['mass'] = np.random.choice([i], dfmass0test.shape[0])#las cambio para queno sean 0 porque entonces sabría el label\n",
    "    dfmass1000test=pd.concat([dfmass1000test, dfmass0test]).sample(frac=1).reset_index(drop=True)\n",
    "    dfmass1000test['mass']=dfmass1000test['mass'].astype(float)\n",
    "    dfmass1000test=dfmass1000test.sample(random_state=1,n=10000*5)\n",
    "    print(\"train\", pd.crosstab(dfmass1000['label'],dfmass1000['mass']))\n",
    "    print(\"test\", pd.crosstab(dfmass1000test['label'],dfmass1000test['mass']))  \n",
    "\n",
    "\n",
    "    \n",
    "\n",
    "    X_train=dfmass1000.drop(['label'], axis=1)\n",
    "    y_train=dfmass1000.label\n",
    "    \n",
    "    X_test=dfmass1000test.drop(['label'], axis=1)\n",
    "    y_test=dfmass1000test.label\n",
    "        \n",
    "   # print(X_train)\n",
    "   # print(y_test)\n",
    "\n",
    "    grid,best_model,y_pred,y_pred_proba = model(X_train,y_train,X_test)\n",
    "    print(best_model)\n",
    "\n",
    "#Roc curve construction\n",
    "\n",
    "    fpr, tpr, _ = metrics.roc_curve(y_test,  y_pred_proba)\n",
    "    auc = metrics.roc_auc_score(y_test, y_pred_proba)\n",
    "    plt.plot(fpr,tpr,label=\"data 1, auc=\"+str(auc))\n",
    "    plt.legend(loc=4)\n",
    "    #plt.savefig(cwd2+'MASS=' + str(i) + 'ROC.png')\n",
    "    plt.show()\n",
    "    plt.clf() \n",
    "\n",
    "#METRICS \n",
    "\n",
    "    tn, fp, fn, tp, acc, prec,recall, F1_score,kappa_cohen=Scores(y_test,y_pred)\n",
    "\n",
    "    df_metrics.tn[i]=tn\n",
    "    df_metrics.fp[i]=fp\n",
    "    df_metrics.fn[i]=fn\n",
    "    df_metrics.tp[i]=tp\n",
    "    df_metrics.acc[i]=acc\n",
    "    df_metrics.prec[i]=prec\n",
    "    df_metrics.recall[i]=recall\n",
    "    df_metrics.F1_score[i]=F1_score\n",
    "    df_metrics.kappa_cohen[i]=kappa_cohen\n",
    "    df_metrics.auc[i]=auc\n",
    "\n",
    "\n",
    "print(\"X_train_shape\",X_train.shape)\n",
    "print(\"X_test_shape\",X_test.shape)\n",
    "\n",
    "\n",
    "display(df_metrics)"
   ]
  },
  {
   "cell_type": "code",
   "execution_count": 7,
   "metadata": {},
   "outputs": [
    {
     "name": "stdout",
     "output_type": "stream",
     "text": [
      "(100000, 28)\n",
      "(50000, 28)\n"
     ]
    },
    {
     "data": {
      "text/plain": [
       "0    25050\n",
       "1    24950\n",
       "Name: label, dtype: int64"
      ]
     },
     "execution_count": 7,
     "metadata": {},
     "output_type": "execute_result"
    }
   ],
   "source": [
    "print(X_train.shape)\n",
    "print(X_test.shape)\n",
    "y_test.value_counts()"
   ]
  },
  {
   "cell_type": "code",
   "execution_count": 8,
   "metadata": {},
   "outputs": [
    {
     "data": {
      "image/png": "[encoded data removed]",
      "text/plain": [
       "<Figure size 432x288 with 1 Axes>"
      ]
     },
     "metadata": {},
     "output_type": "display_data"
    },
    {
     "data": {
      "text/plain": [
       "<Figure size 432x288 with 0 Axes>"
      ]
     },
     "metadata": {},
     "output_type": "display_data"
    }
   ],
   "source": [
    "fig, ax = plt.subplots()\n",
    "ax.plot([\"500\",\"750\",\"1000\",\"1250\",\"1500\"], df_metrics[\"acc\"], label=\"accuracy\")\n",
    "ax.plot([\"500\",\"750\",\"1000\",\"1250\",\"1500\"], df_metrics[\"F1_score\"], label=\"F1_score\")\n",
    "ax.plot([\"500\",\"750\",\"1000\",\"1250\",\"1500\"], df_metrics[\"kappa_cohen\"], label=\"kappa\")\n",
    "\n",
    "ax.set_xlabel('mass')\n",
    "ax.set_ylabel('Metric')\n",
    "legend = ax.legend(fontsize='x-large')\n",
    "plt.show()\n",
    "plt.savefig(cwd+ 'metrics_comparation.png')"
   ]
  },
  {
   "cell_type": "code",
   "execution_count": 9,
   "metadata": {},
   "outputs": [],
   "source": [
    "cwd2=cwd+\"sin1000\"\n"
   ]
  },
  {
   "cell_type": "code",
   "execution_count": 10,
   "metadata": {},
   "outputs": [
    {
     "name": "stdout",
     "output_type": "stream",
     "text": [
      "mass= 500\n",
      "train mass   750.0   1000.0  1250.0  1500.0\n",
      "label                                \n",
      "0        9903    9963   10015    9935\n",
      "1       10045   10199    9912   10017\n",
      "test mass   500.0\n",
      "label       \n",
      "0      24949\n",
      "1      25051\n",
      "Fitting 5 folds for each of 50 candidates, totalling 250 fits\n"
     ]
    },
    {
     "name": "stderr",
     "output_type": "stream",
     "text": [
      "[Parallel(n_jobs=2)]: Done  46 tasks      | elapsed:   56.6s\n",
      "[Parallel(n_jobs=2)]: Done 196 tasks      | elapsed: 47.3min\n",
      "[Parallel(n_jobs=2)]: Done 250 out of 250 | elapsed: 67.4min finished\n"
     ]
    },
    {
     "name": "stdout",
     "output_type": "stream",
     "text": [
      "MLPClassifier(activation='relu', alpha=0.0001, batch_size='auto', beta_1=0.9,\n",
      "       beta_2=0.999, early_stopping=False, epsilon=1e-08,\n",
      "       hidden_layer_sizes=12, learning_rate='constant',\n",
      "       learning_rate_init=0.001, max_iter=1000, momentum=0.9,\n",
      "       nesterovs_momentum=True, power_t=0.5, random_state=0, shuffle=True,\n",
      "       solver='lbfgs', tol=0.0001, validation_fraction=0.1, verbose=False,\n",
      "       warm_start=False)\n"
     ]
    },
    {
     "data": {
      "image/png": "[encoded data removed]",
      "text/plain": [
       "<Figure size 432x288 with 1 Axes>"
      ]
     },
     "metadata": {},
     "output_type": "display_data"
    },
    {
     "name": "stdout",
     "output_type": "stream",
     "text": [
      "mass= 750\n",
      "train mass   500.0   1000.0  1250.0  1500.0\n",
      "label                                \n",
      "0       10009    9963   10015    9935\n",
      "1       10002   10199    9912   10017\n",
      "test mass   750.0\n",
      "label       \n",
      "0      24826\n",
      "1      25174\n",
      "Fitting 5 folds for each of 50 candidates, totalling 250 fits\n"
     ]
    },
    {
     "name": "stderr",
     "output_type": "stream",
     "text": [
      "[Parallel(n_jobs=2)]: Done  46 tasks      | elapsed:   57.2s\n",
      "[Parallel(n_jobs=2)]: Done 196 tasks      | elapsed: 60.2min\n",
      "[Parallel(n_jobs=2)]: Done 250 out of 250 | elapsed: 88.1min finished\n"
     ]
    },
    {
     "name": "stdout",
     "output_type": "stream",
     "text": [
      "MLPClassifier(activation='relu', alpha=1e-05, batch_size='auto', beta_1=0.9,\n",
      "       beta_2=0.999, early_stopping=False, epsilon=1e-08,\n",
      "       hidden_layer_sizes=13, learning_rate='constant',\n",
      "       learning_rate_init=0.001, max_iter=1800, momentum=0.9,\n",
      "       nesterovs_momentum=True, power_t=0.5, random_state=0, shuffle=True,\n",
      "       solver='lbfgs', tol=0.0001, validation_fraction=0.1, verbose=False,\n",
      "       warm_start=False)\n"
     ]
    },
    {
     "data": {
      "image/png": "[encoded data removed]",
      "text/plain": [
       "<Figure size 432x288 with 1 Axes>"
      ]
     },
     "metadata": {},
     "output_type": "display_data"
    },
    {
     "name": "stdout",
     "output_type": "stream",
     "text": [
      "mass= 1000\n",
      "train mass   500.0   750.0   1250.0  1500.0\n",
      "label                                \n",
      "0       10009    9903   10015    9935\n",
      "1       10002   10045    9912   10017\n",
      "test mass   1000.0\n",
      "label        \n",
      "0       25131\n",
      "1       24869\n",
      "Fitting 5 folds for each of 50 candidates, totalling 250 fits\n"
     ]
    },
    {
     "name": "stderr",
     "output_type": "stream",
     "text": [
      "[Parallel(n_jobs=2)]: Done  46 tasks      | elapsed:   56.9s\n",
      "[Parallel(n_jobs=2)]: Done 196 tasks      | elapsed: 59.5min\n",
      "[Parallel(n_jobs=2)]: Done 250 out of 250 | elapsed: 86.1min finished\n"
     ]
    },
    {
     "name": "stdout",
     "output_type": "stream",
     "text": [
      "MLPClassifier(activation='relu', alpha=0.0001, batch_size='auto', beta_1=0.9,\n",
      "       beta_2=0.999, early_stopping=False, epsilon=1e-08,\n",
      "       hidden_layer_sizes=13, learning_rate='constant',\n",
      "       learning_rate_init=0.001, max_iter=1800, momentum=0.9,\n",
      "       nesterovs_momentum=True, power_t=0.5, random_state=0, shuffle=True,\n",
      "       solver='lbfgs', tol=0.0001, validation_fraction=0.1, verbose=False,\n",
      "       warm_start=False)\n"
     ]
    },
    {
     "data": {
      "image/png": "[encoded data removed]",
      "text/plain": [
       "<Figure size 432x288 with 1 Axes>"
      ]
     },
     "metadata": {},
     "output_type": "display_data"
    },
    {
     "name": "stdout",
     "output_type": "stream",
     "text": [
      "mass= 1250\n",
      "train mass   500.0   750.0   1000.0  1500.0\n",
      "label                                \n",
      "0       10009    9903    9963    9935\n",
      "1       10002   10045   10199   10017\n",
      "test mass   1250.0\n",
      "label        \n",
      "0       25061\n",
      "1       24939\n",
      "Fitting 5 folds for each of 50 candidates, totalling 250 fits\n"
     ]
    },
    {
     "name": "stderr",
     "output_type": "stream",
     "text": [
      "[Parallel(n_jobs=2)]: Done  46 tasks      | elapsed: 11.9min\n",
      "[Parallel(n_jobs=2)]: Done 196 tasks      | elapsed: 81.2min\n",
      "[Parallel(n_jobs=2)]: Done 250 out of 250 | elapsed: 106.9min finished\n"
     ]
    },
    {
     "name": "stdout",
     "output_type": "stream",
     "text": [
      "MLPClassifier(activation='relu', alpha=1e-05, batch_size='auto', beta_1=0.9,\n",
      "       beta_2=0.999, early_stopping=False, epsilon=1e-08,\n",
      "       hidden_layer_sizes=13, learning_rate='constant',\n",
      "       learning_rate_init=0.001, max_iter=1800, momentum=0.9,\n",
      "       nesterovs_momentum=True, power_t=0.5, random_state=0, shuffle=True,\n",
      "       solver='lbfgs', tol=0.0001, validation_fraction=0.1, verbose=False,\n",
      "       warm_start=False)\n"
     ]
    },
    {
     "data": {
      "image/png": "[encoded data removed]",
      "text/plain": [
       "<Figure size 432x288 with 1 Axes>"
      ]
     },
     "metadata": {},
     "output_type": "display_data"
    },
    {
     "name": "stdout",
     "output_type": "stream",
     "text": [
      "mass= 1500\n",
      "train mass   500.0   750.0   1000.0  1250.0\n",
      "label                                \n",
      "0       10009    9903    9963   10015\n",
      "1       10002   10045   10199    9912\n",
      "test mass   1500.0\n",
      "label        \n",
      "0       25050\n",
      "1       24950\n",
      "Fitting 5 folds for each of 50 candidates, totalling 250 fits\n"
     ]
    },
    {
     "name": "stderr",
     "output_type": "stream",
     "text": [
      "[Parallel(n_jobs=2)]: Done  46 tasks      | elapsed:   55.6s\n",
      "[Parallel(n_jobs=2)]: Done 196 tasks      | elapsed: 54.6min\n",
      "[Parallel(n_jobs=2)]: Done 250 out of 250 | elapsed: 80.9min finished\n"
     ]
    },
    {
     "name": "stdout",
     "output_type": "stream",
     "text": [
      "MLPClassifier(activation='relu', alpha=1e-05, batch_size='auto', beta_1=0.9,\n",
      "       beta_2=0.999, early_stopping=False, epsilon=1e-08,\n",
      "       hidden_layer_sizes=13, learning_rate='constant',\n",
      "       learning_rate_init=0.001, max_iter=1800, momentum=0.9,\n",
      "       nesterovs_momentum=True, power_t=0.5, random_state=0, shuffle=True,\n",
      "       solver='lbfgs', tol=0.0001, validation_fraction=0.1, verbose=False,\n",
      "       warm_start=False)\n"
     ]
    },
    {
     "data": {
      "image/png": "[encoded data removed]",
      "text/plain": [
       "<Figure size 432x288 with 1 Axes>"
      ]
     },
     "metadata": {},
     "output_type": "display_data"
    },
    {
     "name": "stdout",
     "output_type": "stream",
     "text": [
      "X_train_shape (80048, 28)\n",
      "X_test_shape (50000, 28)\n"
     ]
    },
    {
     "data": {
      "text/html": [
       "<div>\n",
       "<style scoped>\n",
       "    .dataframe tbody tr th:only-of-type {\n",
       "        vertical-align: middle;\n",
       "    }\n",
       "\n",
       "    .dataframe tbody tr th {\n",
       "        vertical-align: top;\n",
       "    }\n",
       "\n",
       "    .dataframe thead th {\n",
       "        text-align: right;\n",
       "    }\n",
       "</style>\n",
       "<table border=\"1\" class=\"dataframe\">\n",
       "  <thead>\n",
       "    <tr style=\"text-align: right;\">\n",
       "      <th></th>\n",
       "      <th>tn</th>\n",
       "      <th>fp</th>\n",
       "      <th>fn</th>\n",
       "      <th>tp</th>\n",
       "      <th>acc</th>\n",
       "      <th>prec</th>\n",
       "      <th>recall</th>\n",
       "      <th>F1_score</th>\n",
       "      <th>kappa_cohen</th>\n",
       "      <th>auc</th>\n",
       "    </tr>\n",
       "  </thead>\n",
       "  <tbody>\n",
       "    <tr>\n",
       "      <th>500</th>\n",
       "      <td>18553</td>\n",
       "      <td>6396</td>\n",
       "      <td>16712</td>\n",
       "      <td>8339</td>\n",
       "      <td>0.53784</td>\n",
       "      <td>0.565931</td>\n",
       "      <td>0.332881</td>\n",
       "      <td>0.419193</td>\n",
       "      <td>0.0764536</td>\n",
       "      <td>0.621423</td>\n",
       "    </tr>\n",
       "    <tr>\n",
       "      <th>750</th>\n",
       "      <td>22007</td>\n",
       "      <td>2819</td>\n",
       "      <td>9029</td>\n",
       "      <td>16145</td>\n",
       "      <td>0.76304</td>\n",
       "      <td>0.85135</td>\n",
       "      <td>0.641336</td>\n",
       "      <td>0.731569</td>\n",
       "      <td>0.526875</td>\n",
       "      <td>0.880362</td>\n",
       "    </tr>\n",
       "    <tr>\n",
       "      <th>1000</th>\n",
       "      <td>22481</td>\n",
       "      <td>2650</td>\n",
       "      <td>2181</td>\n",
       "      <td>22688</td>\n",
       "      <td>0.90338</td>\n",
       "      <td>0.895414</td>\n",
       "      <td>0.9123</td>\n",
       "      <td>0.903778</td>\n",
       "      <td>0.806774</td>\n",
       "      <td>0.958978</td>\n",
       "    </tr>\n",
       "    <tr>\n",
       "      <th>1250</th>\n",
       "      <td>22858</td>\n",
       "      <td>2203</td>\n",
       "      <td>1285</td>\n",
       "      <td>23654</td>\n",
       "      <td>0.93024</td>\n",
       "      <td>0.914801</td>\n",
       "      <td>0.948474</td>\n",
       "      <td>0.931333</td>\n",
       "      <td>0.860492</td>\n",
       "      <td>0.978802</td>\n",
       "    </tr>\n",
       "    <tr>\n",
       "      <th>1500</th>\n",
       "      <td>23744</td>\n",
       "      <td>1306</td>\n",
       "      <td>1576</td>\n",
       "      <td>23374</td>\n",
       "      <td>0.94236</td>\n",
       "      <td>0.947083</td>\n",
       "      <td>0.936834</td>\n",
       "      <td>0.94193</td>\n",
       "      <td>0.884717</td>\n",
       "      <td>0.984025</td>\n",
       "    </tr>\n",
       "  </tbody>\n",
       "</table>\n",
       "</div>"
      ],
      "text/plain": [
       "         tn    fp     fn     tp      acc      prec    recall  F1_score  \\\n",
       "500   18553  6396  16712   8339  0.53784  0.565931  0.332881  0.419193   \n",
       "750   22007  2819   9029  16145  0.76304   0.85135  0.641336  0.731569   \n",
       "1000  22481  2650   2181  22688  0.90338  0.895414    0.9123  0.903778   \n",
       "1250  22858  2203   1285  23654  0.93024  0.914801  0.948474  0.931333   \n",
       "1500  23744  1306   1576  23374  0.94236  0.947083  0.936834   0.94193   \n",
       "\n",
       "     kappa_cohen       auc  \n",
       "500    0.0764536  0.621423  \n",
       "750     0.526875  0.880362  \n",
       "1000    0.806774  0.958978  \n",
       "1250    0.860492  0.978802  \n",
       "1500    0.884717  0.984025  "
      ]
     },
     "metadata": {},
     "output_type": "display_data"
    },
    {
     "data": {
      "text/plain": [
       "<Figure size 432x288 with 0 Axes>"
      ]
     },
     "metadata": {},
     "output_type": "display_data"
    }
   ],
   "source": [
    "#Metric df: \n",
    "df_metrics =  pd.DataFrame(index=[500,750,1000,1250,1500], columns=[\"tn\", \"fp\", \"fn\", \"tp\", \"acc\", \"prec\",\"recall\",\"F1_score\",\"kappa_cohen\",\"auc\"])\n",
    "\n",
    "\n",
    "for i in (500,750,1000,1250,1500):\n",
    "\n",
    "    print('mass=', i )\n",
    "\n",
    "    #train\n",
    "    dfmass0=df.loc[df['mass'] == 0]     #0 same size of dfmass1000 #TENER EN CUENTA QUE AQUI QUE LA DE 0 SEA MAYOR SIZE ES CASUALIDAD\n",
    "    #EN OTRO PICKE PODRIA SER AL REVES, ESTO SE DEBERIA DE ARREGLAR\n",
    "    np.random.seed(1)\n",
    "    dfmass0['mass'] = np.random.choice([500,750,1000,1250,1500], dfmass0.shape[0])#las cambio para queno sean 0 porque entonces sabría el label\n",
    "    dfmass1000=df.loc[df['mass'] !=0].sample(random_state=1,n=dfmass0.shape[0])                                                      #cojo todos!!!!!!!!!!!!!! \n",
    "    dfmass1000=pd.concat([dfmass1000, dfmass0]).sample(random_state=1,frac=1).reset_index(drop=True)    #concatenating and shuffling\n",
    "    dfmass1000['mass']=dfmass1000['mass'].astype(float)\n",
    "    dfmass1000=dfmass1000.sample(random_state=1,n=20000*5)         #la masa es una caracterísitca\n",
    "    #Lo único que cambia es uqe quito los registros con esa masa:\n",
    "    dfmass1000=dfmass1000.loc[ (dfmass1000['mass'] !=i)]       \n",
    "  \n",
    "    \n",
    "    #test\n",
    "    dfmass1000test=df_originaltest.loc[df_originaltest['mass'] == i]\n",
    "    dfmass0test=df_originaltest.loc[df_originaltest['mass'] == 0].sample(random_state=1,n=dfmass1000test.shape[0])\n",
    "    np.random.seed(1)\n",
    "    dfmass0test['mass'] = np.random.choice([i], dfmass0test.shape[0])#las cambio para queno sean 0 porque entonces sabría el label\n",
    "    dfmass1000test=pd.concat([dfmass1000test, dfmass0test]).sample(frac=1).reset_index(drop=True)\n",
    "    dfmass1000test['mass']=dfmass1000test['mass'].astype(float)\n",
    "    dfmass1000test=dfmass1000test.sample(n=10000*5,random_state=1)\n",
    "    print(\"train\", pd.crosstab(dfmass1000['label'],dfmass1000['mass']))\n",
    "    print(\"test\", pd.crosstab(dfmass1000test['label'],dfmass1000test['mass']))  \n",
    "\n",
    "        \n",
    "    X_train=dfmass1000.drop(['label'], axis=1)\n",
    "    y_train=dfmass1000.label\n",
    "    \n",
    "    X_test=dfmass1000test.drop(['label'], axis=1)\n",
    "    y_test=dfmass1000test.label\n",
    "        \n",
    "   # print(X_train)\n",
    "   # print(y_test)\n",
    "\n",
    "    grid,best_model,y_pred,y_pred_proba = model(X_train,y_train,X_test)\n",
    "    print(best_model)\n",
    "\n",
    "    #Roc curve construction\n",
    "\n",
    "    fpr, tpr, _ = metrics.roc_curve(y_test,  y_pred_proba)\n",
    "    auc = metrics.roc_auc_score(y_test, y_pred_proba)\n",
    "    plt.plot(fpr,tpr,label=\"data 1, auc=\"+str(auc))\n",
    "    plt.legend(loc=4)\n",
    "   # plt.savefig(cwd2+'MASS=' + str(i) + 'ROC.png')\n",
    "    plt.show()\n",
    "    plt.clf() \n",
    "\n",
    "#METRICS \n",
    "\n",
    "    tn, fp, fn, tp, acc, prec,recall, F1_score,kappa_cohen=Scores(y_test,y_pred)\n",
    "\n",
    "    df_metrics.tn[i]=tn\n",
    "    df_metrics.fp[i]=fp\n",
    "    df_metrics.fn[i]=fn\n",
    "    df_metrics.tp[i]=tp\n",
    "    df_metrics.acc[i]=acc\n",
    "    df_metrics.prec[i]=prec\n",
    "    df_metrics.recall[i]=recall\n",
    "    df_metrics.F1_score[i]=F1_score\n",
    "    df_metrics.kappa_cohen[i]=kappa_cohen\n",
    "    df_metrics.auc[i]=auc\n",
    "\n",
    "\n",
    "print(\"X_train_shape\",X_train.shape)\n",
    "print(\"X_test_shape\",X_test.shape)\n",
    "\n",
    "\n",
    "display(df_metrics)"
   ]
  },
  {
   "cell_type": "code",
   "execution_count": 11,
   "metadata": {},
   "outputs": [
    {
     "name": "stdout",
     "output_type": "stream",
     "text": [
      "(80048, 28)\n",
      "(50000, 28)\n"
     ]
    },
    {
     "data": {
      "text/plain": [
       "0    25050\n",
       "1    24950\n",
       "Name: label, dtype: int64"
      ]
     },
     "execution_count": 11,
     "metadata": {},
     "output_type": "execute_result"
    }
   ],
   "source": [
    "print(X_train.shape)\n",
    "print(X_test.shape)\n",
    "y_test.value_counts()"
   ]
  },
  {
   "cell_type": "code",
   "execution_count": 12,
   "metadata": {},
   "outputs": [
    {
     "data": {
      "image/png": "[encoded data removed]",
      "text/plain": [
       "<Figure size 432x288 with 1 Axes>"
      ]
     },
     "metadata": {},
     "output_type": "display_data"
    },
    {
     "data": {
      "text/plain": [
       "<Figure size 432x288 with 0 Axes>"
      ]
     },
     "metadata": {},
     "output_type": "display_data"
    }
   ],
   "source": [
    "fig, ax = plt.subplots()\n",
    "ax.plot([\"500\",\"750\",\"1000\",\"1250\",\"1500\"], df_metrics[\"acc\"], label=\"accuracy\")\n",
    "ax.plot([\"500\",\"750\",\"1000\",\"1250\",\"1500\"], df_metrics[\"F1_score\"], label=\"F1_score\")\n",
    "ax.plot([\"500\",\"750\",\"1000\",\"1250\",\"1500\"], df_metrics[\"kappa_cohen\"], label=\"kappa\")\n",
    "\n",
    "ax.set_xlabel('mass')\n",
    "ax.set_ylabel('Metric')\n",
    "legend = ax.legend(fontsize='x-large')\n",
    "plt.show()\n",
    "plt.savefig(cwd+ 'metrics_comparation.png')"
   ]
  },
  {
   "cell_type": "code",
   "execution_count": 13,
   "metadata": {},
   "outputs": [
    {
     "data": {
      "text/html": [
       "<div>\n",
       "<style scoped>\n",
       "    .dataframe tbody tr th:only-of-type {\n",
       "        vertical-align: middle;\n",
       "    }\n",
       "\n",
       "    .dataframe tbody tr th {\n",
       "        vertical-align: top;\n",
       "    }\n",
       "\n",
       "    .dataframe thead th {\n",
       "        text-align: right;\n",
       "    }\n",
       "</style>\n",
       "<table border=\"1\" class=\"dataframe\">\n",
       "  <thead>\n",
       "    <tr style=\"text-align: right;\">\n",
       "      <th></th>\n",
       "      <th>lep_pt</th>\n",
       "      <th>lep_eta</th>\n",
       "      <th>lep_phi</th>\n",
       "      <th>met_miss</th>\n",
       "      <th>met_phi</th>\n",
       "      <th>jets_no</th>\n",
       "      <th>jet1_pt</th>\n",
       "      <th>jet1_eta</th>\n",
       "      <th>jet1_phi</th>\n",
       "      <th>jet1_btag</th>\n",
       "      <th>...</th>\n",
       "      <th>jet4_pt</th>\n",
       "      <th>jet4_eta</th>\n",
       "      <th>jet4_phi</th>\n",
       "      <th>jet4_btag</th>\n",
       "      <th>m_jj</th>\n",
       "      <th>m_jjj</th>\n",
       "      <th>m_lv</th>\n",
       "      <th>m_jlv</th>\n",
       "      <th>m_wwbb</th>\n",
       "      <th>mass</th>\n",
       "    </tr>\n",
       "  </thead>\n",
       "  <tbody>\n",
       "    <tr>\n",
       "      <th>1363114</th>\n",
       "      <td>2.138371</td>\n",
       "      <td>-1.177687</td>\n",
       "      <td>-0.662546</td>\n",
       "      <td>0.813077</td>\n",
       "      <td>-0.825125</td>\n",
       "      <td>0.850488</td>\n",
       "      <td>1.685600</td>\n",
       "      <td>-1.501764</td>\n",
       "      <td>1.224920</td>\n",
       "      <td>0</td>\n",
       "      <td>...</td>\n",
       "      <td>0.722574</td>\n",
       "      <td>-0.712762</td>\n",
       "      <td>1.066300</td>\n",
       "      <td>1</td>\n",
       "      <td>-0.008788</td>\n",
       "      <td>-0.393388</td>\n",
       "      <td>-0.488981</td>\n",
       "      <td>-0.575411</td>\n",
       "      <td>1.134008</td>\n",
       "      <td>1000.0</td>\n",
       "    </tr>\n",
       "    <tr>\n",
       "      <th>2580460</th>\n",
       "      <td>-0.450152</td>\n",
       "      <td>0.563072</td>\n",
       "      <td>-1.118580</td>\n",
       "      <td>-0.644837</td>\n",
       "      <td>-0.139600</td>\n",
       "      <td>-1.054221</td>\n",
       "      <td>-0.849833</td>\n",
       "      <td>0.343709</td>\n",
       "      <td>0.256403</td>\n",
       "      <td>1</td>\n",
       "      <td>...</td>\n",
       "      <td>-0.764570</td>\n",
       "      <td>1.091759</td>\n",
       "      <td>0.783253</td>\n",
       "      <td>0</td>\n",
       "      <td>-0.582873</td>\n",
       "      <td>-0.376167</td>\n",
       "      <td>-0.327127</td>\n",
       "      <td>-0.001318</td>\n",
       "      <td>-0.983530</td>\n",
       "      <td>500.0</td>\n",
       "    </tr>\n",
       "    <tr>\n",
       "      <th>3632821</th>\n",
       "      <td>-0.267210</td>\n",
       "      <td>0.425847</td>\n",
       "      <td>-1.376122</td>\n",
       "      <td>-2.390117</td>\n",
       "      <td>-0.731404</td>\n",
       "      <td>-0.005984</td>\n",
       "      <td>-0.873454</td>\n",
       "      <td>0.165200</td>\n",
       "      <td>0.983288</td>\n",
       "      <td>0</td>\n",
       "      <td>...</td>\n",
       "      <td>0.001667</td>\n",
       "      <td>-0.565443</td>\n",
       "      <td>1.655424</td>\n",
       "      <td>1</td>\n",
       "      <td>-0.294969</td>\n",
       "      <td>-0.156301</td>\n",
       "      <td>-0.290609</td>\n",
       "      <td>-1.251931</td>\n",
       "      <td>-1.449527</td>\n",
       "      <td>500.0</td>\n",
       "    </tr>\n",
       "    <tr>\n",
       "      <th>2617239</th>\n",
       "      <td>1.350530</td>\n",
       "      <td>-0.596962</td>\n",
       "      <td>1.043397</td>\n",
       "      <td>-0.569304</td>\n",
       "      <td>0.947963</td>\n",
       "      <td>-1.054221</td>\n",
       "      <td>1.393637</td>\n",
       "      <td>-0.441701</td>\n",
       "      <td>-0.575884</td>\n",
       "      <td>1</td>\n",
       "      <td>...</td>\n",
       "      <td>0.506738</td>\n",
       "      <td>-0.154636</td>\n",
       "      <td>-0.067626</td>\n",
       "      <td>0</td>\n",
       "      <td>0.592873</td>\n",
       "      <td>1.510981</td>\n",
       "      <td>-0.342940</td>\n",
       "      <td>1.468311</td>\n",
       "      <td>0.653204</td>\n",
       "      <td>1250.0</td>\n",
       "    </tr>\n",
       "    <tr>\n",
       "      <th>3584249</th>\n",
       "      <td>-0.622183</td>\n",
       "      <td>-0.926690</td>\n",
       "      <td>0.068050</td>\n",
       "      <td>0.195970</td>\n",
       "      <td>0.029102</td>\n",
       "      <td>-1.054221</td>\n",
       "      <td>0.251026</td>\n",
       "      <td>-0.518644</td>\n",
       "      <td>-1.249937</td>\n",
       "      <td>1</td>\n",
       "      <td>...</td>\n",
       "      <td>-1.308751</td>\n",
       "      <td>0.467340</td>\n",
       "      <td>-1.330151</td>\n",
       "      <td>0</td>\n",
       "      <td>0.785943</td>\n",
       "      <td>-0.271922</td>\n",
       "      <td>-0.324294</td>\n",
       "      <td>0.390380</td>\n",
       "      <td>-0.632149</td>\n",
       "      <td>1250.0</td>\n",
       "    </tr>\n",
       "  </tbody>\n",
       "</table>\n",
       "<p>5 rows × 28 columns</p>\n",
       "</div>"
      ],
      "text/plain": [
       "           lep_pt   lep_eta   lep_phi  met_miss   met_phi   jets_no   jet1_pt  \\\n",
       "1363114  2.138371 -1.177687 -0.662546  0.813077 -0.825125  0.850488  1.685600   \n",
       "2580460 -0.450152  0.563072 -1.118580 -0.644837 -0.139600 -1.054221 -0.849833   \n",
       "3632821 -0.267210  0.425847 -1.376122 -2.390117 -0.731404 -0.005984 -0.873454   \n",
       "2617239  1.350530 -0.596962  1.043397 -0.569304  0.947963 -1.054221  1.393637   \n",
       "3584249 -0.622183 -0.926690  0.068050  0.195970  0.029102 -1.054221  0.251026   \n",
       "\n",
       "         jet1_eta  jet1_phi jet1_btag  ...   jet4_pt  jet4_eta  jet4_phi  \\\n",
       "1363114 -1.501764  1.224920         0  ...  0.722574 -0.712762  1.066300   \n",
       "2580460  0.343709  0.256403         1  ... -0.764570  1.091759  0.783253   \n",
       "3632821  0.165200  0.983288         0  ...  0.001667 -0.565443  1.655424   \n",
       "2617239 -0.441701 -0.575884         1  ...  0.506738 -0.154636 -0.067626   \n",
       "3584249 -0.518644 -1.249937         1  ... -1.308751  0.467340 -1.330151   \n",
       "\n",
       "        jet4_btag      m_jj     m_jjj      m_lv     m_jlv    m_wwbb    mass  \n",
       "1363114         1 -0.008788 -0.393388 -0.488981 -0.575411  1.134008  1000.0  \n",
       "2580460         0 -0.582873 -0.376167 -0.327127 -0.001318 -0.983530   500.0  \n",
       "3632821         1 -0.294969 -0.156301 -0.290609 -1.251931 -1.449527   500.0  \n",
       "2617239         0  0.592873  1.510981 -0.342940  1.468311  0.653204  1250.0  \n",
       "3584249         0  0.785943 -0.271922 -0.324294  0.390380 -0.632149  1250.0  \n",
       "\n",
       "[5 rows x 28 columns]"
      ]
     },
     "execution_count": 13,
     "metadata": {},
     "output_type": "execute_result"
    }
   ],
   "source": [
    "X_train.head()"
   ]
  },
  {
   "cell_type": "code",
   "execution_count": 15,
   "metadata": {},
   "outputs": [
    {
     "data": {
      "text/html": [
       "<div>\n",
       "<style scoped>\n",
       "    .dataframe tbody tr th:only-of-type {\n",
       "        vertical-align: middle;\n",
       "    }\n",
       "\n",
       "    .dataframe tbody tr th {\n",
       "        vertical-align: top;\n",
       "    }\n",
       "\n",
       "    .dataframe thead th {\n",
       "        text-align: right;\n",
       "    }\n",
       "</style>\n",
       "<table border=\"1\" class=\"dataframe\">\n",
       "  <thead>\n",
       "    <tr style=\"text-align: right;\">\n",
       "      <th></th>\n",
       "      <th>lep_pt</th>\n",
       "      <th>lep_eta</th>\n",
       "      <th>lep_phi</th>\n",
       "      <th>met_miss</th>\n",
       "      <th>met_phi</th>\n",
       "      <th>jets_no</th>\n",
       "      <th>jet1_pt</th>\n",
       "      <th>jet1_eta</th>\n",
       "      <th>jet1_phi</th>\n",
       "      <th>jet1_btag</th>\n",
       "      <th>...</th>\n",
       "      <th>jet4_pt</th>\n",
       "      <th>jet4_eta</th>\n",
       "      <th>jet4_phi</th>\n",
       "      <th>jet4_btag</th>\n",
       "      <th>m_jj</th>\n",
       "      <th>m_jjj</th>\n",
       "      <th>m_lv</th>\n",
       "      <th>m_jlv</th>\n",
       "      <th>m_wwbb</th>\n",
       "      <th>mass</th>\n",
       "    </tr>\n",
       "  </thead>\n",
       "  <tbody>\n",
       "    <tr>\n",
       "      <th>8158</th>\n",
       "      <td>0.942930</td>\n",
       "      <td>-0.445461</td>\n",
       "      <td>1.528926</td>\n",
       "      <td>2.066856</td>\n",
       "      <td>1.348279</td>\n",
       "      <td>-0.005984</td>\n",
       "      <td>1.709677</td>\n",
       "      <td>0.986124</td>\n",
       "      <td>-0.465190</td>\n",
       "      <td>1</td>\n",
       "      <td>...</td>\n",
       "      <td>-0.086773</td>\n",
       "      <td>0.122667</td>\n",
       "      <td>0.324932</td>\n",
       "      <td>0</td>\n",
       "      <td>0.089382</td>\n",
       "      <td>-0.611450</td>\n",
       "      <td>-0.213931</td>\n",
       "      <td>2.724287</td>\n",
       "      <td>1.443621</td>\n",
       "      <td>1500.0</td>\n",
       "    </tr>\n",
       "    <tr>\n",
       "      <th>569512</th>\n",
       "      <td>1.448068</td>\n",
       "      <td>0.151954</td>\n",
       "      <td>0.161901</td>\n",
       "      <td>0.995798</td>\n",
       "      <td>0.416885</td>\n",
       "      <td>-1.054221</td>\n",
       "      <td>0.613575</td>\n",
       "      <td>-1.917273</td>\n",
       "      <td>-1.692672</td>\n",
       "      <td>1</td>\n",
       "      <td>...</td>\n",
       "      <td>1.992937</td>\n",
       "      <td>-0.823763</td>\n",
       "      <td>-1.433735</td>\n",
       "      <td>0</td>\n",
       "      <td>2.659771</td>\n",
       "      <td>3.049345</td>\n",
       "      <td>-0.379623</td>\n",
       "      <td>2.213295</td>\n",
       "      <td>1.368753</td>\n",
       "      <td>1500.0</td>\n",
       "    </tr>\n",
       "    <tr>\n",
       "      <th>368490</th>\n",
       "      <td>1.115222</td>\n",
       "      <td>1.027837</td>\n",
       "      <td>0.897663</td>\n",
       "      <td>1.854753</td>\n",
       "      <td>0.717214</td>\n",
       "      <td>-0.005984</td>\n",
       "      <td>1.799014</td>\n",
       "      <td>2.230610</td>\n",
       "      <td>-1.009539</td>\n",
       "      <td>0</td>\n",
       "      <td>...</td>\n",
       "      <td>1.736581</td>\n",
       "      <td>1.072514</td>\n",
       "      <td>0.477593</td>\n",
       "      <td>1</td>\n",
       "      <td>0.921477</td>\n",
       "      <td>0.362514</td>\n",
       "      <td>-0.265669</td>\n",
       "      <td>1.396105</td>\n",
       "      <td>1.420797</td>\n",
       "      <td>1500.0</td>\n",
       "    </tr>\n",
       "    <tr>\n",
       "      <th>578796</th>\n",
       "      <td>0.276594</td>\n",
       "      <td>-0.768615</td>\n",
       "      <td>-1.510183</td>\n",
       "      <td>0.012417</td>\n",
       "      <td>1.127741</td>\n",
       "      <td>-1.054221</td>\n",
       "      <td>-0.852084</td>\n",
       "      <td>-0.813073</td>\n",
       "      <td>0.605411</td>\n",
       "      <td>1</td>\n",
       "      <td>...</td>\n",
       "      <td>-1.603850</td>\n",
       "      <td>-0.137380</td>\n",
       "      <td>0.884252</td>\n",
       "      <td>0</td>\n",
       "      <td>-0.535857</td>\n",
       "      <td>-0.540330</td>\n",
       "      <td>0.816888</td>\n",
       "      <td>-0.686401</td>\n",
       "      <td>-1.283956</td>\n",
       "      <td>1500.0</td>\n",
       "    </tr>\n",
       "    <tr>\n",
       "      <th>194654</th>\n",
       "      <td>-1.406204</td>\n",
       "      <td>1.523638</td>\n",
       "      <td>-0.992994</td>\n",
       "      <td>-0.421131</td>\n",
       "      <td>0.295516</td>\n",
       "      <td>-0.005984</td>\n",
       "      <td>-0.845890</td>\n",
       "      <td>1.007031</td>\n",
       "      <td>-0.358266</td>\n",
       "      <td>0</td>\n",
       "      <td>...</td>\n",
       "      <td>-0.077954</td>\n",
       "      <td>0.742812</td>\n",
       "      <td>-1.006390</td>\n",
       "      <td>0</td>\n",
       "      <td>-0.214257</td>\n",
       "      <td>-0.719426</td>\n",
       "      <td>-0.344904</td>\n",
       "      <td>-0.859606</td>\n",
       "      <td>-1.192399</td>\n",
       "      <td>1500.0</td>\n",
       "    </tr>\n",
       "  </tbody>\n",
       "</table>\n",
       "<p>5 rows × 28 columns</p>\n",
       "</div>"
      ],
      "text/plain": [
       "          lep_pt   lep_eta   lep_phi  met_miss   met_phi   jets_no   jet1_pt  \\\n",
       "8158    0.942930 -0.445461  1.528926  2.066856  1.348279 -0.005984  1.709677   \n",
       "569512  1.448068  0.151954  0.161901  0.995798  0.416885 -1.054221  0.613575   \n",
       "368490  1.115222  1.027837  0.897663  1.854753  0.717214 -0.005984  1.799014   \n",
       "578796  0.276594 -0.768615 -1.510183  0.012417  1.127741 -1.054221 -0.852084   \n",
       "194654 -1.406204  1.523638 -0.992994 -0.421131  0.295516 -0.005984 -0.845890   \n",
       "\n",
       "        jet1_eta  jet1_phi jet1_btag  ...   jet4_pt  jet4_eta  jet4_phi  \\\n",
       "8158    0.986124 -0.465190         1  ... -0.086773  0.122667  0.324932   \n",
       "569512 -1.917273 -1.692672         1  ...  1.992937 -0.823763 -1.433735   \n",
       "368490  2.230610 -1.009539         0  ...  1.736581  1.072514  0.477593   \n",
       "578796 -0.813073  0.605411         1  ... -1.603850 -0.137380  0.884252   \n",
       "194654  1.007031 -0.358266         0  ... -0.077954  0.742812 -1.006390   \n",
       "\n",
       "       jet4_btag      m_jj     m_jjj      m_lv     m_jlv    m_wwbb    mass  \n",
       "8158           0  0.089382 -0.611450 -0.213931  2.724287  1.443621  1500.0  \n",
       "569512         0  2.659771  3.049345 -0.379623  2.213295  1.368753  1500.0  \n",
       "368490         1  0.921477  0.362514 -0.265669  1.396105  1.420797  1500.0  \n",
       "578796         0 -0.535857 -0.540330  0.816888 -0.686401 -1.283956  1500.0  \n",
       "194654         0 -0.214257 -0.719426 -0.344904 -0.859606 -1.192399  1500.0  \n",
       "\n",
       "[5 rows x 28 columns]"
      ]
     },
     "execution_count": 15,
     "metadata": {},
     "output_type": "execute_result"
    }
   ],
   "source": [
    "X_test.head()"
   ]
  },
  {
   "cell_type": "code",
   "execution_count": 16,
   "metadata": {},
   "outputs": [
    {
     "data": {
      "text/plain": [
       "1363114    1\n",
       "2580460    1\n",
       "3632821    0\n",
       "2617239    1\n",
       "3584249    0\n",
       "Name: label, dtype: category\n",
       "Categories (2, int64): [0, 1]"
      ]
     },
     "execution_count": 16,
     "metadata": {},
     "output_type": "execute_result"
    }
   ],
   "source": [
    "y_train.head()"
   ]
  },
  {
   "cell_type": "code",
   "execution_count": 18,
   "metadata": {},
   "outputs": [
    {
     "data": {
      "text/plain": [
       "8158      1\n",
       "569512    1\n",
       "368490    1\n",
       "578796    0\n",
       "194654    0\n",
       "Name: label, dtype: category\n",
       "Categories (2, int64): [0, 1]"
      ]
     },
     "execution_count": 18,
     "metadata": {},
     "output_type": "execute_result"
    }
   ],
   "source": [
    "y_test.head()"
   ]
  }
 ],
 "metadata": {
  "kernelspec": {
   "display_name": "Python 3",
   "language": "python",
   "name": "python3"
  },
  "language_info": {
   "codemirror_mode": {
    "name": "ipython",
    "version": 3
   },
   "file_extension": ".py",
   "mimetype": "text/x-python",
   "name": "python",
   "nbconvert_exporter": "python",
   "pygments_lexer": "ipython3",
   "version": "3.5.2"
  }
 },
 "nbformat": 4,
 "nbformat_minor": 2
}
