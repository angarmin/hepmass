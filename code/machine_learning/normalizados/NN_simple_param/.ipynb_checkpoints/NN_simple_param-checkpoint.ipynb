{
 "cells": [
  {
   "cell_type": "markdown",
   "metadata": {},
   "source": [
    "**Libraries**"
   ]
  },
  {
   "cell_type": "code",
   "execution_count": 1,
   "metadata": {},
   "outputs": [],
   "source": [
    "import pandas as pd\n",
    "import numpy as np\n",
    "\n",
    "import warnings\n",
    "\n",
    "import matplotlib as mpl\n",
    "import matplotlib.pyplot as plt\n",
    "import seaborn as sns\n",
    "from plotnine import *\n",
    "import joypy #el de las densidades guays\n",
    "\n",
    "from sklearn import manifold  \n",
    "\n",
    "\n",
    "from sklearn.model_selection import train_test_split\n",
    "from sklearn.model_selection import cross_val_score\n",
    "from sklearn.model_selection import GridSearchCV\n",
    "import os \n",
    "cwd = os.getcwd() + \"/\"\n",
    "cwd=\"/home/angela/Notebook/machine_learning/normalizados/NN_simple_param/\"\n",
    "from sklearn import metrics\n",
    "\n",
    "from sklearn.neural_network import MLPClassifier\n",
    "\n",
    "\n",
    "warnings.filterwarnings('ignore') #ATENCION QUE ESTO CREO QUE FUNCIONA PARA TODO EL NOTEBOOK\n",
    "\n",
    "import random\n",
    "random.seed(1)\n",
    "np.random.seed(1)\n",
    "np.random.RandomState(1)\n",
    "\n",
    "from sklearn.preprocessing import MinMaxScaler\n",
    "\n",
    "\n"
   ]
  },
  {
   "cell_type": "markdown",
   "metadata": {},
   "source": [
    "**LOAD**"
   ]
  },
  {
   "cell_type": "code",
   "execution_count": 2,
   "metadata": {},
   "outputs": [],
   "source": [
    "#ALL THE DATASET\n",
    "\n",
    "df=pd.read_pickle(\"/home/angela/Notebook/data/normalizados/trainpickle\")\n",
    "df_originaltest=pd.read_pickle(\"/home/angela/Notebook/data/normalizados/testpickle\")"
   ]
  },
  {
   "cell_type": "code",
   "execution_count": 3,
   "metadata": {},
   "outputs": [],
   "source": [
    "#SIMPLe DATASET\n",
    "#df=pd.read_pickle(\"/home/angela/Notebook/data/normalizados/trainsimplepickle\")\n",
    "#df_originaltest=pd.read_pickle(\"/home/angela/Notebook/data/normalizados/testsimplepickle\")\n"
   ]
  },
  {
   "cell_type": "markdown",
   "metadata": {},
   "source": [
    "# Machine learning"
   ]
  },
  {
   "cell_type": "markdown",
   "metadata": {},
   "source": [
    "**We will follow the scikit-learn schema to train and validate the model**\n",
    "\n",
    "\n",
    "https://scikit-learn.org/stable/modules/cross_validation.html\n"
   ]
  },
  {
   "cell_type": "markdown",
   "metadata": {},
   "source": [
    "## SVM"
   ]
  },
  {
   "cell_type": "code",
   "execution_count": 4,
   "metadata": {},
   "outputs": [],
   "source": [
    "#Scores\n",
    "\n",
    "\n",
    "def Scores(y_true,y_pred):\n",
    "    \n",
    "    tn, fp, fn, tp = metrics.confusion_matrix(y_true, y_pred).ravel()\n",
    "    prec=tp / (tp + fp)\n",
    "    recall= tp / (tp + fn)\n",
    "    F1_score= 2 * (prec * recall) / (prec + recall)\n",
    "    acc=metrics.accuracy_score(y_true,y_pred)\n",
    "    kappa_cohen=metrics.cohen_kappa_score(y_true,y_pred)\n",
    "        \n",
    "    return(tn, fp, fn, tp, acc, prec,recall, F1_score,kappa_cohen)\n",
    "\n",
    "\n",
    "def model(X_train,y_train,X_test):\n",
    "    \n",
    "    scaler = MinMaxScaler()\n",
    "    scaler=scaler.fit(X_train)\n",
    "    \n",
    "    \n",
    "    X_train = scaler.transform(X_train)\n",
    "    X_test = scaler.transform(X_test)\n",
    "    \n",
    "    \n",
    "    model = MLPClassifier() \n",
    "    \n",
    "    #grid search, copy of kaggle: https://www.kaggle.com/hatone/mlpclassifier-with-gridsearchcv#L72\n",
    "    #defalult (scikit learn) :  best_model = MLPClassifier(solver='lbfgs', alpha=1e-5, hidden_layer_sizes=(5, 2)))\n",
    "\n",
    "    #params = {'solver': ['lbfgs'], 'max_iter': [1000,1100,1200,1300,1400,1500,1600,1700,1800,1900,2000 ], 'alpha': 10.0 ** -np.arange(1, 10), 'hidden_layer_sizes':np.arange(10, 15), 'random_state':[0,1,2,3,4,5,6,7,8,9]}    #model = SVC(probability=True) \n",
    "    #reduced: \n",
    "    params = {'solver': ['lbfgs'], 'max_iter': [200,600,1000,1400,1800], 'alpha': 10.0 ** -np.arange(4, 6), 'hidden_layer_sizes':np.arange(10, 15), 'random_state':[0]}    #model = SVC(probability=True) \n",
    "\n",
    "    grid = GridSearchCV(estimator=model, param_grid=params,cv=5,verbose=1, n_jobs=2)\n",
    "\n",
    "    grid.fit(X_train,y_train)\n",
    "    best_model = grid.best_estimator_\n",
    "    \n",
    "    best_model.fit(X_train,y_train)\n",
    "    # Predict test set labels\n",
    "    y_pred = best_model.predict(X_test)    \n",
    "    y_pred_proba = best_model.predict_proba(X_test)[::,1] #Neccesary to make the ROC curve \n",
    "\n",
    "    return(grid,best_model,y_pred,y_pred_proba)"
   ]
  },
  {
   "cell_type": "markdown",
   "metadata": {},
   "source": [
    "## Entrenando y testeando con la masa"
   ]
  },
  {
   "cell_type": "code",
   "execution_count": 5,
   "metadata": {},
   "outputs": [],
   "source": [
    "cwd1=cwd+\"con1000\"\n"
   ]
  },
  {
   "cell_type": "code",
   "execution_count": 6,
   "metadata": {
    "scrolled": false
   },
   "outputs": [
    {
     "name": "stdout",
     "output_type": "stream",
     "text": [
      "mass= 500\n",
      "train mass   500.0   750.0   1000.0  1250.0  1500.0\n",
      "label                                        \n",
      "0       10009    9903    9963   10015    9935\n",
      "1       10002   10045   10199    9912   10017\n",
      "test mass   500.0\n",
      "label       \n",
      "0      24949\n",
      "1      25051\n",
      "Fitting 5 folds for each of 50 candidates, totalling 250 fits\n"
     ]
    },
    {
     "name": "stderr",
     "output_type": "stream",
     "text": [
      "[Parallel(n_jobs=2)]: Done  46 tasks      | elapsed: 44.1min\n",
      "[Parallel(n_jobs=2)]: Done 196 tasks      | elapsed: 194.1min\n",
      "[Parallel(n_jobs=2)]: Done 250 out of 250 | elapsed: 254.5min finished\n"
     ]
    },
    {
     "name": "stdout",
     "output_type": "stream",
     "text": [
      "MLPClassifier(activation='relu', alpha=1e-05, batch_size='auto', beta_1=0.9,\n",
      "       beta_2=0.999, early_stopping=False, epsilon=1e-08,\n",
      "       hidden_layer_sizes=12, learning_rate='constant',\n",
      "       learning_rate_init=0.001, max_iter=1800, momentum=0.9,\n",
      "       nesterovs_momentum=True, power_t=0.5, random_state=0, shuffle=True,\n",
      "       solver='lbfgs', tol=0.0001, validation_fraction=0.1, verbose=False,\n",
      "       warm_start=False)\n"
     ]
    },
    {
     "data": {
      "image/png": "[encoded data removed]",
      "text/plain": [
       "<Figure size 432x288 with 1 Axes>"
      ]
     },
     "metadata": {},
     "output_type": "display_data"
    },
    {
     "name": "stdout",
     "output_type": "stream",
     "text": [
      "0.2934386225118799\n",
      "mass= 750\n",
      "train mass   500.0   750.0   1000.0  1250.0  1500.0\n",
      "label                                        \n",
      "0       10009    9903    9963   10015    9935\n",
      "1       10002   10045   10199    9912   10017\n",
      "test mass   750.0\n",
      "label       \n",
      "0      24826\n",
      "1      25174\n",
      "Fitting 5 folds for each of 50 candidates, totalling 250 fits\n"
     ]
    },
    {
     "name": "stderr",
     "output_type": "stream",
     "text": [
      "[Parallel(n_jobs=2)]: Done  46 tasks      | elapsed: 37.7min\n",
      "[Parallel(n_jobs=2)]: Done 196 tasks      | elapsed: 188.6min\n",
      "[Parallel(n_jobs=2)]: Done 250 out of 250 | elapsed: 248.6min finished\n"
     ]
    },
    {
     "name": "stdout",
     "output_type": "stream",
     "text": [
      "MLPClassifier(activation='relu', alpha=1e-05, batch_size='auto', beta_1=0.9,\n",
      "       beta_2=0.999, early_stopping=False, epsilon=1e-08,\n",
      "       hidden_layer_sizes=12, learning_rate='constant',\n",
      "       learning_rate_init=0.001, max_iter=1800, momentum=0.9,\n",
      "       nesterovs_momentum=True, power_t=0.5, random_state=0, shuffle=True,\n",
      "       solver='lbfgs', tol=0.0001, validation_fraction=0.1, verbose=False,\n",
      "       warm_start=False)\n"
     ]
    },
    {
     "data": {
      "image/png": "[encoded data removed]",
      "text/plain": [
       "<Figure size 432x288 with 1 Axes>"
      ]
     },
     "metadata": {},
     "output_type": "display_data"
    },
    {
     "name": "stdout",
     "output_type": "stream",
     "text": [
      "0.6783940241091109\n",
      "mass= 1000\n",
      "train mass   500.0   750.0   1000.0  1250.0  1500.0\n",
      "label                                        \n",
      "0       10009    9903    9963   10015    9935\n",
      "1       10002   10045   10199    9912   10017\n",
      "test mass   1000.0\n",
      "label        \n",
      "0       25131\n",
      "1       24869\n",
      "Fitting 5 folds for each of 50 candidates, totalling 250 fits\n"
     ]
    },
    {
     "name": "stderr",
     "output_type": "stream",
     "text": [
      "[Parallel(n_jobs=2)]: Done  46 tasks      | elapsed: 37.5min\n",
      "[Parallel(n_jobs=2)]: Done 196 tasks      | elapsed: 187.2min\n",
      "[Parallel(n_jobs=2)]: Done 250 out of 250 | elapsed: 246.6min finished\n"
     ]
    },
    {
     "name": "stdout",
     "output_type": "stream",
     "text": [
      "MLPClassifier(activation='relu', alpha=1e-05, batch_size='auto', beta_1=0.9,\n",
      "       beta_2=0.999, early_stopping=False, epsilon=1e-08,\n",
      "       hidden_layer_sizes=12, learning_rate='constant',\n",
      "       learning_rate_init=0.001, max_iter=1800, momentum=0.9,\n",
      "       nesterovs_momentum=True, power_t=0.5, random_state=0, shuffle=True,\n",
      "       solver='lbfgs', tol=0.0001, validation_fraction=0.1, verbose=False,\n",
      "       warm_start=False)\n"
     ]
    },
    {
     "data": {
      "image/png": "[encoded data removed]",
      "text/plain": [
       "<Figure size 432x288 with 1 Axes>"
      ]
     },
     "metadata": {},
     "output_type": "display_data"
    },
    {
     "name": "stdout",
     "output_type": "stream",
     "text": [
      "0.8143468523617619\n",
      "mass= 1250\n",
      "train mass   500.0   750.0   1000.0  1250.0  1500.0\n",
      "label                                        \n",
      "0       10009    9903    9963   10015    9935\n",
      "1       10002   10045   10199    9912   10017\n",
      "test mass   1250.0\n",
      "label        \n",
      "0       25061\n",
      "1       24939\n",
      "Fitting 5 folds for each of 50 candidates, totalling 250 fits\n"
     ]
    },
    {
     "name": "stderr",
     "output_type": "stream",
     "text": [
      "[Parallel(n_jobs=2)]: Done  46 tasks      | elapsed: 37.8min\n",
      "[Parallel(n_jobs=2)]: Done 196 tasks      | elapsed: 196.8min\n",
      "[Parallel(n_jobs=2)]: Done 250 out of 250 | elapsed: 258.6min finished\n"
     ]
    },
    {
     "name": "stdout",
     "output_type": "stream",
     "text": [
      "MLPClassifier(activation='relu', alpha=1e-05, batch_size='auto', beta_1=0.9,\n",
      "       beta_2=0.999, early_stopping=False, epsilon=1e-08,\n",
      "       hidden_layer_sizes=12, learning_rate='constant',\n",
      "       learning_rate_init=0.001, max_iter=1800, momentum=0.9,\n",
      "       nesterovs_momentum=True, power_t=0.5, random_state=0, shuffle=True,\n",
      "       solver='lbfgs', tol=0.0001, validation_fraction=0.1, verbose=False,\n",
      "       warm_start=False)\n"
     ]
    },
    {
     "data": {
      "image/png": "[encoded data removed]",
      "text/plain": [
       "<Figure size 432x288 with 1 Axes>"
      ]
     },
     "metadata": {},
     "output_type": "display_data"
    },
    {
     "name": "stdout",
     "output_type": "stream",
     "text": [
      "0.8754911798959748\n",
      "mass= 1500\n",
      "train mass   500.0   750.0   1000.0  1250.0  1500.0\n",
      "label                                        \n",
      "0       10009    9903    9963   10015    9935\n",
      "1       10002   10045   10199    9912   10017\n",
      "test mass   1500.0\n",
      "label        \n",
      "0       25050\n",
      "1       24950\n",
      "Fitting 5 folds for each of 50 candidates, totalling 250 fits\n"
     ]
    },
    {
     "name": "stderr",
     "output_type": "stream",
     "text": [
      "[Parallel(n_jobs=2)]: Done  46 tasks      | elapsed: 44.1min\n",
      "[Parallel(n_jobs=2)]: Done 196 tasks      | elapsed: 190.8min\n",
      "[Parallel(n_jobs=2)]: Done 250 out of 250 | elapsed: 248.0min finished\n"
     ]
    },
    {
     "name": "stdout",
     "output_type": "stream",
     "text": [
      "MLPClassifier(activation='relu', alpha=1e-05, batch_size='auto', beta_1=0.9,\n",
      "       beta_2=0.999, early_stopping=False, epsilon=1e-08,\n",
      "       hidden_layer_sizes=12, learning_rate='constant',\n",
      "       learning_rate_init=0.001, max_iter=1800, momentum=0.9,\n",
      "       nesterovs_momentum=True, power_t=0.5, random_state=0, shuffle=True,\n",
      "       solver='lbfgs', tol=0.0001, validation_fraction=0.1, verbose=False,\n",
      "       warm_start=False)\n"
     ]
    },
    {
     "data": {
      "image/png": "[encoded data removed]",
      "text/plain": [
       "<Figure size 432x288 with 1 Axes>"
      ]
     },
     "metadata": {},
     "output_type": "display_data"
    },
    {
     "name": "stdout",
     "output_type": "stream",
     "text": [
      "0.9137982828617947\n",
      "X_train_shape (100000, 28)\n",
      "X_test_shape (50000, 28)\n"
     ]
    },
    {
     "data": {
      "text/html": [
       "<div>\n",
       "<style scoped>\n",
       "    .dataframe tbody tr th:only-of-type {\n",
       "        vertical-align: middle;\n",
       "    }\n",
       "\n",
       "    .dataframe tbody tr th {\n",
       "        vertical-align: top;\n",
       "    }\n",
       "\n",
       "    .dataframe thead th {\n",
       "        text-align: right;\n",
       "    }\n",
       "</style>\n",
       "<table border=\"1\" class=\"dataframe\">\n",
       "  <thead>\n",
       "    <tr style=\"text-align: right;\">\n",
       "      <th></th>\n",
       "      <th>tn</th>\n",
       "      <th>fp</th>\n",
       "      <th>fn</th>\n",
       "      <th>tp</th>\n",
       "      <th>acc</th>\n",
       "      <th>prec</th>\n",
       "      <th>recall</th>\n",
       "      <th>F1_score</th>\n",
       "      <th>kappa_cohen</th>\n",
       "      <th>auc</th>\n",
       "    </tr>\n",
       "  </thead>\n",
       "  <tbody>\n",
       "    <tr>\n",
       "      <th>500</th>\n",
       "      <td>14745</td>\n",
       "      <td>10204</td>\n",
       "      <td>7456</td>\n",
       "      <td>17595</td>\n",
       "      <td>0.6468</td>\n",
       "      <td>0.632936</td>\n",
       "      <td>0.702367</td>\n",
       "      <td>0.665847</td>\n",
       "      <td>0.293439</td>\n",
       "      <td>0.698052</td>\n",
       "    </tr>\n",
       "    <tr>\n",
       "      <th>750</th>\n",
       "      <td>20191</td>\n",
       "      <td>4635</td>\n",
       "      <td>3402</td>\n",
       "      <td>21772</td>\n",
       "      <td>0.83926</td>\n",
       "      <td>0.824478</td>\n",
       "      <td>0.864861</td>\n",
       "      <td>0.844187</td>\n",
       "      <td>0.678394</td>\n",
       "      <td>0.905735</td>\n",
       "    </tr>\n",
       "    <tr>\n",
       "      <th>1000</th>\n",
       "      <td>21885</td>\n",
       "      <td>3246</td>\n",
       "      <td>1397</td>\n",
       "      <td>23472</td>\n",
       "      <td>0.90714</td>\n",
       "      <td>0.878509</td>\n",
       "      <td>0.943826</td>\n",
       "      <td>0.909997</td>\n",
       "      <td>0.814347</td>\n",
       "      <td>0.965805</td>\n",
       "    </tr>\n",
       "    <tr>\n",
       "      <th>1250</th>\n",
       "      <td>23014</td>\n",
       "      <td>2047</td>\n",
       "      <td>1066</td>\n",
       "      <td>23873</td>\n",
       "      <td>0.93774</td>\n",
       "      <td>0.921026</td>\n",
       "      <td>0.957256</td>\n",
       "      <td>0.938792</td>\n",
       "      <td>0.875491</td>\n",
       "      <td>0.983519</td>\n",
       "    </tr>\n",
       "    <tr>\n",
       "      <th>1500</th>\n",
       "      <td>24072</td>\n",
       "      <td>978</td>\n",
       "      <td>1177</td>\n",
       "      <td>23773</td>\n",
       "      <td>0.9569</td>\n",
       "      <td>0.960486</td>\n",
       "      <td>0.952826</td>\n",
       "      <td>0.956641</td>\n",
       "      <td>0.913798</td>\n",
       "      <td>0.990975</td>\n",
       "    </tr>\n",
       "  </tbody>\n",
       "</table>\n",
       "</div>"
      ],
      "text/plain": [
       "         tn     fp    fn     tp      acc      prec    recall  F1_score  \\\n",
       "500   14745  10204  7456  17595   0.6468  0.632936  0.702367  0.665847   \n",
       "750   20191   4635  3402  21772  0.83926  0.824478  0.864861  0.844187   \n",
       "1000  21885   3246  1397  23472  0.90714  0.878509  0.943826  0.909997   \n",
       "1250  23014   2047  1066  23873  0.93774  0.921026  0.957256  0.938792   \n",
       "1500  24072    978  1177  23773   0.9569  0.960486  0.952826  0.956641   \n",
       "\n",
       "     kappa_cohen       auc  \n",
       "500     0.293439  0.698052  \n",
       "750     0.678394  0.905735  \n",
       "1000    0.814347  0.965805  \n",
       "1250    0.875491  0.983519  \n",
       "1500    0.913798  0.990975  "
      ]
     },
     "metadata": {},
     "output_type": "display_data"
    },
    {
     "data": {
      "text/plain": [
       "<Figure size 432x288 with 0 Axes>"
      ]
     },
     "metadata": {},
     "output_type": "display_data"
    }
   ],
   "source": [
    "#Metric df: \n",
    "df_metrics =  pd.DataFrame(index=[500,750,1000,1250,1500], columns=[\"tn\", \"fp\", \"fn\", \"tp\", \"acc\", \"prec\",\"recall\",\"F1_score\",\"kappa_cohen\",\"auc\"])\n",
    "\n",
    "\n",
    "\n",
    "for i in (500,750,1000,1250,1500):\n",
    "\n",
    "    print('mass=', i )\n",
    "\n",
    "    #train\n",
    "    dfmass0=df.loc[df['mass'] == 0]     #0 same size of dfmass1000 #TENER EN CUENTA QUE AQUI QUE LA DE 0 SEA MAYOR SIZE ES CASUALIDAD\n",
    "    #EN OTRO PICKE PODRIA SER AL REVES, ESTO SE DEBERIA DE ARREGLAR\n",
    "    np.random.seed(1)\n",
    "    dfmass0['mass'] = np.random.choice([500,750,1000,1250,1500], dfmass0.shape[0])#las cambio para queno sean 0 porque entonces sabría el label\n",
    "    dfmass1000=df.loc[df['mass'] !=0].sample(random_state=1,n=dfmass0.shape[0])                                                      #cojo todos!!!!!!!!!!!!!! \n",
    "    dfmass1000=pd.concat([dfmass1000, dfmass0]).sample(random_state=1,frac=1).reset_index(drop=True)    #concatenating and shuffling\n",
    "    dfmass1000['mass']=dfmass1000['mass'].astype(float)\n",
    "    dfmass1000=dfmass1000.sample(random_state=1,n=20000*5)         #la masa es una caracterísitca\n",
    "    \n",
    "    \n",
    "    #test\n",
    "    dfmass1000test=df_originaltest.loc[df_originaltest['mass'] == i]\n",
    "    dfmass0test=df_originaltest.loc[df_originaltest['mass'] == 0].sample(random_state=1,n=dfmass1000test.shape[0])\n",
    "    np.random.seed(1)\n",
    "    dfmass0test['mass'] = np.random.choice([i], dfmass0test.shape[0])#las cambio para queno sean 0 porque entonces sabría el label\n",
    "    dfmass1000test=pd.concat([dfmass1000test, dfmass0test]).sample(frac=1).reset_index(drop=True)\n",
    "    dfmass1000test['mass']=dfmass1000test['mass'].astype(float)\n",
    "    dfmass1000test=dfmass1000test.sample(random_state=1,n=10000*5)\n",
    "    print(\"train\", pd.crosstab(dfmass1000['label'],dfmass1000['mass']))\n",
    "    print(\"test\", pd.crosstab(dfmass1000test['label'],dfmass1000test['mass']))  \n",
    "\n",
    "\n",
    "    \n",
    "\n",
    "    X_train=dfmass1000.drop(['label'], axis=1)\n",
    "    y_train=dfmass1000.label\n",
    "    \n",
    "    X_test=dfmass1000test.drop(['label'], axis=1)\n",
    "    y_test=dfmass1000test.label\n",
    "        \n",
    "   # print(X_train)\n",
    "   # print(y_test)\n",
    "\n",
    "    grid,best_model,y_pred,y_pred_proba = model(X_train,y_train,X_test)\n",
    "    print(best_model)\n",
    "\n",
    "#Roc curve construction\n",
    "\n",
    "    fpr, tpr, _ = metrics.roc_curve(y_test,  y_pred_proba)\n",
    "    auc = metrics.roc_auc_score(y_test, y_pred_proba)\n",
    "    plt.plot(fpr,tpr,label=\"data 1, auc=\"+str(auc))\n",
    "    plt.legend(loc=4)\n",
    "    #plt.savefig(cwd2+'MASS=' + str(i) + 'ROC.png')\n",
    "    plt.show()\n",
    "    plt.clf() \n",
    "\n",
    "#METRICS \n",
    "\n",
    "    tn, fp, fn, tp, acc, prec,recall, F1_score,kappa_cohen=Scores(y_test,y_pred)\n",
    "\n",
    "    df_metrics.tn[i]=tn\n",
    "    df_metrics.fp[i]=fp\n",
    "    df_metrics.fn[i]=fn\n",
    "    df_metrics.tp[i]=tp\n",
    "    df_metrics.acc[i]=acc\n",
    "    df_metrics.prec[i]=prec\n",
    "    df_metrics.recall[i]=recall\n",
    "    df_metrics.F1_score[i]=F1_score\n",
    "    df_metrics.kappa_cohen[i]=kappa_cohen\n",
    "    df_metrics.auc[i]=auc\n",
    "    print(kappa_cohen)\n",
    "\n",
    "\n",
    "\n",
    "print(\"X_train_shape\",X_train.shape)\n",
    "print(\"X_test_shape\",X_test.shape)\n",
    "\n",
    "\n",
    "display(df_metrics)"
   ]
  },
  {
   "cell_type": "code",
   "execution_count": null,
   "metadata": {},
   "outputs": [],
   "source": [
    "print(X_train.shape)\n",
    "print(X_test.shape)\n",
    "y_test.value_counts()"
   ]
  },
  {
   "cell_type": "code",
   "execution_count": null,
   "metadata": {},
   "outputs": [],
   "source": [
    "fig, ax = plt.subplots()\n",
    "ax.plot([\"500\",\"750\",\"1000\",\"1250\",\"1500\"], df_metrics[\"acc\"], label=\"accuracy\")\n",
    "ax.plot([\"500\",\"750\",\"1000\",\"1250\",\"1500\"], df_metrics[\"F1_score\"], label=\"F1_score\")\n",
    "ax.plot([\"500\",\"750\",\"1000\",\"1250\",\"1500\"], df_metrics[\"kappa_cohen\"], label=\"kappa\")\n",
    "\n",
    "ax.set_xlabel('mass')\n",
    "ax.set_ylabel('Metric')\n",
    "legend = ax.legend(fontsize='x-large')\n",
    "plt.show()\n",
    "plt.savefig(cwd+ 'metrics_comparation.png')"
   ]
  },
  {
   "cell_type": "code",
   "execution_count": 6,
   "metadata": {},
   "outputs": [],
   "source": [
    "cwd2=cwd+\"sin1000\"\n"
   ]
  },
  {
   "cell_type": "code",
   "execution_count": 7,
   "metadata": {},
   "outputs": [
    {
     "name": "stdout",
     "output_type": "stream",
     "text": [
      "mass= 500\n",
      "train mass   750.0   1000.0  1250.0  1500.0\n",
      "label                                \n",
      "0        9903    9963   10015    9935\n",
      "1       10045   10199    9912   10017\n",
      "test mass   500.0\n",
      "label       \n",
      "0      24949\n",
      "1      25051\n",
      "Fitting 5 folds for each of 50 candidates, totalling 250 fits\n"
     ]
    },
    {
     "name": "stderr",
     "output_type": "stream",
     "text": [
      "[Parallel(n_jobs=2)]: Done  46 tasks      | elapsed: 24.7min\n",
      "[Parallel(n_jobs=2)]: Done 196 tasks      | elapsed: 138.0min\n",
      "[Parallel(n_jobs=2)]: Done 250 out of 250 | elapsed: 185.5min finished\n"
     ]
    },
    {
     "name": "stdout",
     "output_type": "stream",
     "text": [
      "MLPClassifier(activation='relu', alpha=0.0001, batch_size='auto', beta_1=0.9,\n",
      "       beta_2=0.999, early_stopping=False, epsilon=1e-08,\n",
      "       hidden_layer_sizes=11, learning_rate='constant',\n",
      "       learning_rate_init=0.001, max_iter=1800, momentum=0.9,\n",
      "       nesterovs_momentum=True, power_t=0.5, random_state=0, shuffle=True,\n",
      "       solver='lbfgs', tol=0.0001, validation_fraction=0.1, verbose=False,\n",
      "       warm_start=False)\n"
     ]
    },
    {
     "data": {
      "image/png": "[encoded data removed]",
      "text/plain": [
       "<Figure size 432x288 with 1 Axes>"
      ]
     },
     "metadata": {},
     "output_type": "display_data"
    },
    {
     "name": "stdout",
     "output_type": "stream",
     "text": [
      "0.1472052637340433\n",
      "mass= 750\n",
      "train mass   500.0   1000.0  1250.0  1500.0\n",
      "label                                \n",
      "0       10009    9963   10015    9935\n",
      "1       10002   10199    9912   10017\n",
      "test mass   750.0\n",
      "label       \n",
      "0      24826\n",
      "1      25174\n",
      "Fitting 5 folds for each of 50 candidates, totalling 250 fits\n"
     ]
    },
    {
     "name": "stderr",
     "output_type": "stream",
     "text": [
      "[Parallel(n_jobs=2)]: Done  46 tasks      | elapsed: 29.2min\n",
      "[Parallel(n_jobs=2)]: Done 196 tasks      | elapsed: 151.7min\n",
      "[Parallel(n_jobs=2)]: Done 250 out of 250 | elapsed: 202.9min finished\n"
     ]
    },
    {
     "name": "stdout",
     "output_type": "stream",
     "text": [
      "MLPClassifier(activation='relu', alpha=0.0001, batch_size='auto', beta_1=0.9,\n",
      "       beta_2=0.999, early_stopping=False, epsilon=1e-08,\n",
      "       hidden_layer_sizes=13, learning_rate='constant',\n",
      "       learning_rate_init=0.001, max_iter=1800, momentum=0.9,\n",
      "       nesterovs_momentum=True, power_t=0.5, random_state=0, shuffle=True,\n",
      "       solver='lbfgs', tol=0.0001, validation_fraction=0.1, verbose=False,\n",
      "       warm_start=False)\n"
     ]
    },
    {
     "data": {
      "image/png": "[encoded data removed]",
      "text/plain": [
       "<Figure size 432x288 with 1 Axes>"
      ]
     },
     "metadata": {},
     "output_type": "display_data"
    },
    {
     "name": "stdout",
     "output_type": "stream",
     "text": [
      "0.668117305452765\n",
      "mass= 1000\n",
      "train mass   500.0   750.0   1250.0  1500.0\n",
      "label                                \n",
      "0       10009    9903   10015    9935\n",
      "1       10002   10045    9912   10017\n",
      "test mass   1000.0\n",
      "label        \n",
      "0       25131\n",
      "1       24869\n",
      "Fitting 5 folds for each of 50 candidates, totalling 250 fits\n"
     ]
    },
    {
     "name": "stderr",
     "output_type": "stream",
     "text": [
      "[Parallel(n_jobs=2)]: Done  46 tasks      | elapsed: 29.8min\n",
      "[Parallel(n_jobs=2)]: Done 196 tasks      | elapsed: 151.8min\n",
      "[Parallel(n_jobs=2)]: Done 250 out of 250 | elapsed: 199.5min finished\n"
     ]
    },
    {
     "name": "stdout",
     "output_type": "stream",
     "text": [
      "MLPClassifier(activation='relu', alpha=1e-05, batch_size='auto', beta_1=0.9,\n",
      "       beta_2=0.999, early_stopping=False, epsilon=1e-08,\n",
      "       hidden_layer_sizes=12, learning_rate='constant',\n",
      "       learning_rate_init=0.001, max_iter=1400, momentum=0.9,\n",
      "       nesterovs_momentum=True, power_t=0.5, random_state=0, shuffle=True,\n",
      "       solver='lbfgs', tol=0.0001, validation_fraction=0.1, verbose=False,\n",
      "       warm_start=False)\n"
     ]
    },
    {
     "data": {
      "image/png": "[encoded data removed]",
      "text/plain": [
       "<Figure size 432x288 with 1 Axes>"
      ]
     },
     "metadata": {},
     "output_type": "display_data"
    },
    {
     "name": "stdout",
     "output_type": "stream",
     "text": [
      "0.8172681892324272\n",
      "mass= 1250\n",
      "train mass   500.0   750.0   1000.0  1500.0\n",
      "label                                \n",
      "0       10009    9903    9963    9935\n",
      "1       10002   10045   10199   10017\n",
      "test mass   1250.0\n",
      "label        \n",
      "0       25061\n",
      "1       24939\n",
      "Fitting 5 folds for each of 50 candidates, totalling 250 fits\n"
     ]
    },
    {
     "name": "stderr",
     "output_type": "stream",
     "text": [
      "[Parallel(n_jobs=2)]: Done  46 tasks      | elapsed: 32.0min\n",
      "[Parallel(n_jobs=2)]: Done 196 tasks      | elapsed: 152.9min\n",
      "[Parallel(n_jobs=2)]: Done 250 out of 250 | elapsed: 201.4min finished\n"
     ]
    },
    {
     "name": "stdout",
     "output_type": "stream",
     "text": [
      "MLPClassifier(activation='relu', alpha=1e-05, batch_size='auto', beta_1=0.9,\n",
      "       beta_2=0.999, early_stopping=False, epsilon=1e-08,\n",
      "       hidden_layer_sizes=12, learning_rate='constant',\n",
      "       learning_rate_init=0.001, max_iter=1800, momentum=0.9,\n",
      "       nesterovs_momentum=True, power_t=0.5, random_state=0, shuffle=True,\n",
      "       solver='lbfgs', tol=0.0001, validation_fraction=0.1, verbose=False,\n",
      "       warm_start=False)\n"
     ]
    },
    {
     "data": {
      "image/png": "[encoded data removed]",
      "text/plain": [
       "<Figure size 432x288 with 1 Axes>"
      ]
     },
     "metadata": {},
     "output_type": "display_data"
    },
    {
     "name": "stdout",
     "output_type": "stream",
     "text": [
      "0.8779303770898157\n",
      "mass= 1500\n",
      "train mass   500.0   750.0   1000.0  1250.0\n",
      "label                                \n",
      "0       10009    9903    9963   10015\n",
      "1       10002   10045   10199    9912\n",
      "test mass   1500.0\n",
      "label        \n",
      "0       25050\n",
      "1       24950\n",
      "Fitting 5 folds for each of 50 candidates, totalling 250 fits\n"
     ]
    },
    {
     "name": "stderr",
     "output_type": "stream",
     "text": [
      "[Parallel(n_jobs=2)]: Done  46 tasks      | elapsed: 27.8min\n",
      "[Parallel(n_jobs=2)]: Done 196 tasks      | elapsed: 141.4min\n",
      "[Parallel(n_jobs=2)]: Done 250 out of 250 | elapsed: 190.1min finished\n"
     ]
    },
    {
     "name": "stdout",
     "output_type": "stream",
     "text": [
      "MLPClassifier(activation='relu', alpha=1e-05, batch_size='auto', beta_1=0.9,\n",
      "       beta_2=0.999, early_stopping=False, epsilon=1e-08,\n",
      "       hidden_layer_sizes=11, learning_rate='constant',\n",
      "       learning_rate_init=0.001, max_iter=1800, momentum=0.9,\n",
      "       nesterovs_momentum=True, power_t=0.5, random_state=0, shuffle=True,\n",
      "       solver='lbfgs', tol=0.0001, validation_fraction=0.1, verbose=False,\n",
      "       warm_start=False)\n"
     ]
    },
    {
     "data": {
      "image/png": "[encoded data removed]",
      "text/plain": [
       "<Figure size 432x288 with 1 Axes>"
      ]
     },
     "metadata": {},
     "output_type": "display_data"
    },
    {
     "name": "stdout",
     "output_type": "stream",
     "text": [
      "0.9105179025396355\n",
      "X_train_shape (80048, 28)\n",
      "X_test_shape (50000, 28)\n"
     ]
    },
    {
     "data": {
      "text/html": [
       "<div>\n",
       "<style scoped>\n",
       "    .dataframe tbody tr th:only-of-type {\n",
       "        vertical-align: middle;\n",
       "    }\n",
       "\n",
       "    .dataframe tbody tr th {\n",
       "        vertical-align: top;\n",
       "    }\n",
       "\n",
       "    .dataframe thead th {\n",
       "        text-align: right;\n",
       "    }\n",
       "</style>\n",
       "<table border=\"1\" class=\"dataframe\">\n",
       "  <thead>\n",
       "    <tr style=\"text-align: right;\">\n",
       "      <th></th>\n",
       "      <th>tn</th>\n",
       "      <th>fp</th>\n",
       "      <th>fn</th>\n",
       "      <th>tp</th>\n",
       "      <th>acc</th>\n",
       "      <th>prec</th>\n",
       "      <th>recall</th>\n",
       "      <th>F1_score</th>\n",
       "      <th>kappa_cohen</th>\n",
       "      <th>auc</th>\n",
       "    </tr>\n",
       "  </thead>\n",
       "  <tbody>\n",
       "    <tr>\n",
       "      <th>500</th>\n",
       "      <td>18369</td>\n",
       "      <td>6580</td>\n",
       "      <td>14754</td>\n",
       "      <td>10297</td>\n",
       "      <td>0.57332</td>\n",
       "      <td>0.61012</td>\n",
       "      <td>0.411041</td>\n",
       "      <td>0.491175</td>\n",
       "      <td>0.147205</td>\n",
       "      <td>0.643991</td>\n",
       "    </tr>\n",
       "    <tr>\n",
       "      <th>750</th>\n",
       "      <td>20318</td>\n",
       "      <td>4508</td>\n",
       "      <td>3787</td>\n",
       "      <td>21387</td>\n",
       "      <td>0.8341</td>\n",
       "      <td>0.825912</td>\n",
       "      <td>0.849567</td>\n",
       "      <td>0.837573</td>\n",
       "      <td>0.668117</td>\n",
       "      <td>0.902292</td>\n",
       "    </tr>\n",
       "    <tr>\n",
       "      <th>1000</th>\n",
       "      <td>22413</td>\n",
       "      <td>2718</td>\n",
       "      <td>1851</td>\n",
       "      <td>23018</td>\n",
       "      <td>0.90862</td>\n",
       "      <td>0.894389</td>\n",
       "      <td>0.92557</td>\n",
       "      <td>0.909712</td>\n",
       "      <td>0.817268</td>\n",
       "      <td>0.965401</td>\n",
       "    </tr>\n",
       "    <tr>\n",
       "      <th>1250</th>\n",
       "      <td>23069</td>\n",
       "      <td>1992</td>\n",
       "      <td>1060</td>\n",
       "      <td>23879</td>\n",
       "      <td>0.93896</td>\n",
       "      <td>0.923003</td>\n",
       "      <td>0.957496</td>\n",
       "      <td>0.939933</td>\n",
       "      <td>0.87793</td>\n",
       "      <td>0.983745</td>\n",
       "    </tr>\n",
       "    <tr>\n",
       "      <th>1500</th>\n",
       "      <td>24053</td>\n",
       "      <td>997</td>\n",
       "      <td>1240</td>\n",
       "      <td>23710</td>\n",
       "      <td>0.95526</td>\n",
       "      <td>0.959647</td>\n",
       "      <td>0.950301</td>\n",
       "      <td>0.954951</td>\n",
       "      <td>0.910518</td>\n",
       "      <td>0.990429</td>\n",
       "    </tr>\n",
       "  </tbody>\n",
       "</table>\n",
       "</div>"
      ],
      "text/plain": [
       "         tn    fp     fn     tp      acc      prec    recall  F1_score  \\\n",
       "500   18369  6580  14754  10297  0.57332   0.61012  0.411041  0.491175   \n",
       "750   20318  4508   3787  21387   0.8341  0.825912  0.849567  0.837573   \n",
       "1000  22413  2718   1851  23018  0.90862  0.894389   0.92557  0.909712   \n",
       "1250  23069  1992   1060  23879  0.93896  0.923003  0.957496  0.939933   \n",
       "1500  24053   997   1240  23710  0.95526  0.959647  0.950301  0.954951   \n",
       "\n",
       "     kappa_cohen       auc  \n",
       "500     0.147205  0.643991  \n",
       "750     0.668117  0.902292  \n",
       "1000    0.817268  0.965401  \n",
       "1250     0.87793  0.983745  \n",
       "1500    0.910518  0.990429  "
      ]
     },
     "metadata": {},
     "output_type": "display_data"
    },
    {
     "data": {
      "text/plain": [
       "<Figure size 432x288 with 0 Axes>"
      ]
     },
     "metadata": {},
     "output_type": "display_data"
    }
   ],
   "source": [
    "#Metric df: \n",
    "df_metrics =  pd.DataFrame(index=[500,750,1000,1250,1500], columns=[\"tn\", \"fp\", \"fn\", \"tp\", \"acc\", \"prec\",\"recall\",\"F1_score\",\"kappa_cohen\",\"auc\"])\n",
    "\n",
    "\n",
    "for i in (500,750,1000,1250,1500):\n",
    "\n",
    "    print('mass=', i )\n",
    "\n",
    "    #train\n",
    "    dfmass0=df.loc[df['mass'] == 0]     #0 same size of dfmass1000 #TENER EN CUENTA QUE AQUI QUE LA DE 0 SEA MAYOR SIZE ES CASUALIDAD\n",
    "    #EN OTRO PICKE PODRIA SER AL REVES, ESTO SE DEBERIA DE ARREGLAR\n",
    "    np.random.seed(1)\n",
    "    dfmass0['mass'] = np.random.choice([500,750,1000,1250,1500], dfmass0.shape[0])#las cambio para queno sean 0 porque entonces sabría el label\n",
    "    dfmass1000=df.loc[df['mass'] !=0].sample(random_state=1,n=dfmass0.shape[0])                                                      #cojo todos!!!!!!!!!!!!!! \n",
    "    dfmass1000=pd.concat([dfmass1000, dfmass0]).sample(random_state=1,frac=1).reset_index(drop=True)    #concatenating and shuffling\n",
    "    dfmass1000['mass']=dfmass1000['mass'].astype(float)\n",
    "    dfmass1000=dfmass1000.sample(random_state=1,n=20000*5)         #la masa es una caracterísitca\n",
    "    #Lo único que cambia es uqe quito los registros con esa masa:\n",
    "    dfmass1000=dfmass1000.loc[ (dfmass1000['mass'] !=i)]       \n",
    "  \n",
    "    \n",
    "    #test\n",
    "    dfmass1000test=df_originaltest.loc[df_originaltest['mass'] == i]\n",
    "    dfmass0test=df_originaltest.loc[df_originaltest['mass'] == 0].sample(random_state=1,n=dfmass1000test.shape[0])\n",
    "    np.random.seed(1)\n",
    "    dfmass0test['mass'] = np.random.choice([i], dfmass0test.shape[0])#las cambio para queno sean 0 porque entonces sabría el label\n",
    "    dfmass1000test=pd.concat([dfmass1000test, dfmass0test]).sample(frac=1).reset_index(drop=True)\n",
    "    dfmass1000test['mass']=dfmass1000test['mass'].astype(float)\n",
    "    dfmass1000test=dfmass1000test.sample(n=10000*5,random_state=1)\n",
    "    print(\"train\", pd.crosstab(dfmass1000['label'],dfmass1000['mass']))\n",
    "    print(\"test\", pd.crosstab(dfmass1000test['label'],dfmass1000test['mass']))  \n",
    "\n",
    "        \n",
    "    X_train=dfmass1000.drop(['label'], axis=1)\n",
    "    y_train=dfmass1000.label\n",
    "    \n",
    "    X_test=dfmass1000test.drop(['label'], axis=1)\n",
    "    y_test=dfmass1000test.label\n",
    "        \n",
    "   # print(X_train)\n",
    "   # print(y_test)\n",
    "\n",
    "    grid,best_model,y_pred,y_pred_proba = model(X_train,y_train,X_test)\n",
    "    print(best_model)\n",
    "\n",
    "    #Roc curve construction\n",
    "\n",
    "    fpr, tpr, _ = metrics.roc_curve(y_test,  y_pred_proba)\n",
    "    auc = metrics.roc_auc_score(y_test, y_pred_proba)\n",
    "    plt.plot(fpr,tpr,label=\"data 1, auc=\"+str(auc))\n",
    "    plt.legend(loc=4)\n",
    "   # plt.savefig(cwd2+'MASS=' + str(i) + 'ROC.png')\n",
    "    plt.show()\n",
    "    plt.clf() \n",
    "\n",
    "#METRICS \n",
    "\n",
    "    tn, fp, fn, tp, acc, prec,recall, F1_score,kappa_cohen=Scores(y_test,y_pred)\n",
    "    \n",
    "    print(kappa_cohen)\n",
    "\n",
    "    df_metrics.tn[i]=tn\n",
    "    df_metrics.fp[i]=fp\n",
    "    df_metrics.fn[i]=fn\n",
    "    df_metrics.tp[i]=tp\n",
    "    df_metrics.acc[i]=acc\n",
    "    df_metrics.prec[i]=prec\n",
    "    df_metrics.recall[i]=recall\n",
    "    df_metrics.F1_score[i]=F1_score\n",
    "    df_metrics.kappa_cohen[i]=kappa_cohen\n",
    "    df_metrics.auc[i]=auc\n",
    "\n",
    "\n",
    "print(\"X_train_shape\",X_train.shape)\n",
    "print(\"X_test_shape\",X_test.shape)\n",
    "\n",
    "\n",
    "display(df_metrics)"
   ]
  },
  {
   "cell_type": "code",
   "execution_count": 8,
   "metadata": {},
   "outputs": [
    {
     "name": "stdout",
     "output_type": "stream",
     "text": [
      "(80048, 28)\n",
      "(50000, 28)\n"
     ]
    },
    {
     "data": {
      "text/plain": [
       "0    25050\n",
       "1    24950\n",
       "Name: label, dtype: int64"
      ]
     },
     "execution_count": 8,
     "metadata": {},
     "output_type": "execute_result"
    }
   ],
   "source": [
    "print(X_train.shape)\n",
    "print(X_test.shape)\n",
    "y_test.value_counts()"
   ]
  },
  {
   "cell_type": "code",
   "execution_count": 9,
   "metadata": {},
   "outputs": [
    {
     "data": {
      "image/png": "[encoded data removed]",
      "text/plain": [
       "<Figure size 432x288 with 1 Axes>"
      ]
     },
     "metadata": {},
     "output_type": "display_data"
    },
    {
     "data": {
      "text/plain": [
       "<Figure size 432x288 with 0 Axes>"
      ]
     },
     "metadata": {},
     "output_type": "display_data"
    }
   ],
   "source": [
    "fig, ax = plt.subplots()\n",
    "ax.plot([\"500\",\"750\",\"1000\",\"1250\",\"1500\"], df_metrics[\"acc\"], label=\"accuracy\")\n",
    "ax.plot([\"500\",\"750\",\"1000\",\"1250\",\"1500\"], df_metrics[\"F1_score\"], label=\"F1_score\")\n",
    "ax.plot([\"500\",\"750\",\"1000\",\"1250\",\"1500\"], df_metrics[\"kappa_cohen\"], label=\"kappa\")\n",
    "\n",
    "ax.set_xlabel('mass')\n",
    "ax.set_ylabel('Metric')\n",
    "legend = ax.legend(fontsize='x-large')\n",
    "plt.show()\n",
    "plt.savefig(cwd+ 'metrics_comparation.png')"
   ]
  },
  {
   "cell_type": "code",
   "execution_count": 10,
   "metadata": {},
   "outputs": [
    {
     "data": {
      "text/html": [
       "<div>\n",
       "<style scoped>\n",
       "    .dataframe tbody tr th:only-of-type {\n",
       "        vertical-align: middle;\n",
       "    }\n",
       "\n",
       "    .dataframe tbody tr th {\n",
       "        vertical-align: top;\n",
       "    }\n",
       "\n",
       "    .dataframe thead th {\n",
       "        text-align: right;\n",
       "    }\n",
       "</style>\n",
       "<table border=\"1\" class=\"dataframe\">\n",
       "  <thead>\n",
       "    <tr style=\"text-align: right;\">\n",
       "      <th></th>\n",
       "      <th>lep_pt</th>\n",
       "      <th>lep_eta</th>\n",
       "      <th>lep_phi</th>\n",
       "      <th>met_miss</th>\n",
       "      <th>met_phi</th>\n",
       "      <th>jets_no</th>\n",
       "      <th>jet1_pt</th>\n",
       "      <th>jet1_eta</th>\n",
       "      <th>jet1_phi</th>\n",
       "      <th>jet1_btag</th>\n",
       "      <th>...</th>\n",
       "      <th>jet4_pt</th>\n",
       "      <th>jet4_eta</th>\n",
       "      <th>jet4_phi</th>\n",
       "      <th>jet4_btag</th>\n",
       "      <th>m_jj</th>\n",
       "      <th>m_jjj</th>\n",
       "      <th>m_lv</th>\n",
       "      <th>m_jlv</th>\n",
       "      <th>m_wwbb</th>\n",
       "      <th>mass</th>\n",
       "    </tr>\n",
       "  </thead>\n",
       "  <tbody>\n",
       "    <tr>\n",
       "      <th>1363114</th>\n",
       "      <td>2.138371</td>\n",
       "      <td>-1.177687</td>\n",
       "      <td>-0.662546</td>\n",
       "      <td>0.813077</td>\n",
       "      <td>-0.825125</td>\n",
       "      <td>0.850488</td>\n",
       "      <td>1.685600</td>\n",
       "      <td>-1.501764</td>\n",
       "      <td>1.224920</td>\n",
       "      <td>0</td>\n",
       "      <td>...</td>\n",
       "      <td>0.722574</td>\n",
       "      <td>-0.712762</td>\n",
       "      <td>1.066300</td>\n",
       "      <td>1</td>\n",
       "      <td>-0.008788</td>\n",
       "      <td>-0.393388</td>\n",
       "      <td>-0.488981</td>\n",
       "      <td>-0.575411</td>\n",
       "      <td>1.134008</td>\n",
       "      <td>1000.0</td>\n",
       "    </tr>\n",
       "    <tr>\n",
       "      <th>2580460</th>\n",
       "      <td>-0.450152</td>\n",
       "      <td>0.563072</td>\n",
       "      <td>-1.118580</td>\n",
       "      <td>-0.644837</td>\n",
       "      <td>-0.139600</td>\n",
       "      <td>-1.054221</td>\n",
       "      <td>-0.849833</td>\n",
       "      <td>0.343709</td>\n",
       "      <td>0.256403</td>\n",
       "      <td>1</td>\n",
       "      <td>...</td>\n",
       "      <td>-0.764570</td>\n",
       "      <td>1.091759</td>\n",
       "      <td>0.783253</td>\n",
       "      <td>0</td>\n",
       "      <td>-0.582873</td>\n",
       "      <td>-0.376167</td>\n",
       "      <td>-0.327127</td>\n",
       "      <td>-0.001318</td>\n",
       "      <td>-0.983530</td>\n",
       "      <td>500.0</td>\n",
       "    </tr>\n",
       "    <tr>\n",
       "      <th>3632821</th>\n",
       "      <td>-0.267210</td>\n",
       "      <td>0.425847</td>\n",
       "      <td>-1.376122</td>\n",
       "      <td>-2.390117</td>\n",
       "      <td>-0.731404</td>\n",
       "      <td>-0.005984</td>\n",
       "      <td>-0.873454</td>\n",
       "      <td>0.165200</td>\n",
       "      <td>0.983288</td>\n",
       "      <td>0</td>\n",
       "      <td>...</td>\n",
       "      <td>0.001667</td>\n",
       "      <td>-0.565443</td>\n",
       "      <td>1.655424</td>\n",
       "      <td>1</td>\n",
       "      <td>-0.294969</td>\n",
       "      <td>-0.156301</td>\n",
       "      <td>-0.290609</td>\n",
       "      <td>-1.251931</td>\n",
       "      <td>-1.449527</td>\n",
       "      <td>500.0</td>\n",
       "    </tr>\n",
       "    <tr>\n",
       "      <th>2617239</th>\n",
       "      <td>1.350530</td>\n",
       "      <td>-0.596962</td>\n",
       "      <td>1.043397</td>\n",
       "      <td>-0.569304</td>\n",
       "      <td>0.947963</td>\n",
       "      <td>-1.054221</td>\n",
       "      <td>1.393637</td>\n",
       "      <td>-0.441701</td>\n",
       "      <td>-0.575884</td>\n",
       "      <td>1</td>\n",
       "      <td>...</td>\n",
       "      <td>0.506738</td>\n",
       "      <td>-0.154636</td>\n",
       "      <td>-0.067626</td>\n",
       "      <td>0</td>\n",
       "      <td>0.592873</td>\n",
       "      <td>1.510981</td>\n",
       "      <td>-0.342940</td>\n",
       "      <td>1.468311</td>\n",
       "      <td>0.653204</td>\n",
       "      <td>1250.0</td>\n",
       "    </tr>\n",
       "    <tr>\n",
       "      <th>3584249</th>\n",
       "      <td>-0.622183</td>\n",
       "      <td>-0.926690</td>\n",
       "      <td>0.068050</td>\n",
       "      <td>0.195970</td>\n",
       "      <td>0.029102</td>\n",
       "      <td>-1.054221</td>\n",
       "      <td>0.251026</td>\n",
       "      <td>-0.518644</td>\n",
       "      <td>-1.249937</td>\n",
       "      <td>1</td>\n",
       "      <td>...</td>\n",
       "      <td>-1.308751</td>\n",
       "      <td>0.467340</td>\n",
       "      <td>-1.330151</td>\n",
       "      <td>0</td>\n",
       "      <td>0.785943</td>\n",
       "      <td>-0.271922</td>\n",
       "      <td>-0.324294</td>\n",
       "      <td>0.390380</td>\n",
       "      <td>-0.632149</td>\n",
       "      <td>1250.0</td>\n",
       "    </tr>\n",
       "  </tbody>\n",
       "</table>\n",
       "<p>5 rows × 28 columns</p>\n",
       "</div>"
      ],
      "text/plain": [
       "           lep_pt   lep_eta   lep_phi  met_miss   met_phi   jets_no   jet1_pt  \\\n",
       "1363114  2.138371 -1.177687 -0.662546  0.813077 -0.825125  0.850488  1.685600   \n",
       "2580460 -0.450152  0.563072 -1.118580 -0.644837 -0.139600 -1.054221 -0.849833   \n",
       "3632821 -0.267210  0.425847 -1.376122 -2.390117 -0.731404 -0.005984 -0.873454   \n",
       "2617239  1.350530 -0.596962  1.043397 -0.569304  0.947963 -1.054221  1.393637   \n",
       "3584249 -0.622183 -0.926690  0.068050  0.195970  0.029102 -1.054221  0.251026   \n",
       "\n",
       "         jet1_eta  jet1_phi jet1_btag  ...   jet4_pt  jet4_eta  jet4_phi  \\\n",
       "1363114 -1.501764  1.224920         0  ...  0.722574 -0.712762  1.066300   \n",
       "2580460  0.343709  0.256403         1  ... -0.764570  1.091759  0.783253   \n",
       "3632821  0.165200  0.983288         0  ...  0.001667 -0.565443  1.655424   \n",
       "2617239 -0.441701 -0.575884         1  ...  0.506738 -0.154636 -0.067626   \n",
       "3584249 -0.518644 -1.249937         1  ... -1.308751  0.467340 -1.330151   \n",
       "\n",
       "        jet4_btag      m_jj     m_jjj      m_lv     m_jlv    m_wwbb    mass  \n",
       "1363114         1 -0.008788 -0.393388 -0.488981 -0.575411  1.134008  1000.0  \n",
       "2580460         0 -0.582873 -0.376167 -0.327127 -0.001318 -0.983530   500.0  \n",
       "3632821         1 -0.294969 -0.156301 -0.290609 -1.251931 -1.449527   500.0  \n",
       "2617239         0  0.592873  1.510981 -0.342940  1.468311  0.653204  1250.0  \n",
       "3584249         0  0.785943 -0.271922 -0.324294  0.390380 -0.632149  1250.0  \n",
       "\n",
       "[5 rows x 28 columns]"
      ]
     },
     "execution_count": 10,
     "metadata": {},
     "output_type": "execute_result"
    }
   ],
   "source": [
    "X_train.head()"
   ]
  },
  {
   "cell_type": "code",
   "execution_count": 11,
   "metadata": {},
   "outputs": [
    {
     "data": {
      "text/html": [
       "<div>\n",
       "<style scoped>\n",
       "    .dataframe tbody tr th:only-of-type {\n",
       "        vertical-align: middle;\n",
       "    }\n",
       "\n",
       "    .dataframe tbody tr th {\n",
       "        vertical-align: top;\n",
       "    }\n",
       "\n",
       "    .dataframe thead th {\n",
       "        text-align: right;\n",
       "    }\n",
       "</style>\n",
       "<table border=\"1\" class=\"dataframe\">\n",
       "  <thead>\n",
       "    <tr style=\"text-align: right;\">\n",
       "      <th></th>\n",
       "      <th>lep_pt</th>\n",
       "      <th>lep_eta</th>\n",
       "      <th>lep_phi</th>\n",
       "      <th>met_miss</th>\n",
       "      <th>met_phi</th>\n",
       "      <th>jets_no</th>\n",
       "      <th>jet1_pt</th>\n",
       "      <th>jet1_eta</th>\n",
       "      <th>jet1_phi</th>\n",
       "      <th>jet1_btag</th>\n",
       "      <th>...</th>\n",
       "      <th>jet4_pt</th>\n",
       "      <th>jet4_eta</th>\n",
       "      <th>jet4_phi</th>\n",
       "      <th>jet4_btag</th>\n",
       "      <th>m_jj</th>\n",
       "      <th>m_jjj</th>\n",
       "      <th>m_lv</th>\n",
       "      <th>m_jlv</th>\n",
       "      <th>m_wwbb</th>\n",
       "      <th>mass</th>\n",
       "    </tr>\n",
       "  </thead>\n",
       "  <tbody>\n",
       "    <tr>\n",
       "      <th>8158</th>\n",
       "      <td>0.942930</td>\n",
       "      <td>-0.445461</td>\n",
       "      <td>1.528926</td>\n",
       "      <td>2.066856</td>\n",
       "      <td>1.348279</td>\n",
       "      <td>-0.005984</td>\n",
       "      <td>1.709677</td>\n",
       "      <td>0.986124</td>\n",
       "      <td>-0.465190</td>\n",
       "      <td>1</td>\n",
       "      <td>...</td>\n",
       "      <td>-0.086773</td>\n",
       "      <td>0.122667</td>\n",
       "      <td>0.324932</td>\n",
       "      <td>0</td>\n",
       "      <td>0.089382</td>\n",
       "      <td>-0.611450</td>\n",
       "      <td>-0.213931</td>\n",
       "      <td>2.724287</td>\n",
       "      <td>1.443621</td>\n",
       "      <td>1500.0</td>\n",
       "    </tr>\n",
       "    <tr>\n",
       "      <th>569512</th>\n",
       "      <td>1.448068</td>\n",
       "      <td>0.151954</td>\n",
       "      <td>0.161901</td>\n",
       "      <td>0.995798</td>\n",
       "      <td>0.416885</td>\n",
       "      <td>-1.054221</td>\n",
       "      <td>0.613575</td>\n",
       "      <td>-1.917273</td>\n",
       "      <td>-1.692672</td>\n",
       "      <td>1</td>\n",
       "      <td>...</td>\n",
       "      <td>1.992937</td>\n",
       "      <td>-0.823763</td>\n",
       "      <td>-1.433735</td>\n",
       "      <td>0</td>\n",
       "      <td>2.659771</td>\n",
       "      <td>3.049345</td>\n",
       "      <td>-0.379623</td>\n",
       "      <td>2.213295</td>\n",
       "      <td>1.368753</td>\n",
       "      <td>1500.0</td>\n",
       "    </tr>\n",
       "    <tr>\n",
       "      <th>368490</th>\n",
       "      <td>1.115222</td>\n",
       "      <td>1.027837</td>\n",
       "      <td>0.897663</td>\n",
       "      <td>1.854753</td>\n",
       "      <td>0.717214</td>\n",
       "      <td>-0.005984</td>\n",
       "      <td>1.799014</td>\n",
       "      <td>2.230610</td>\n",
       "      <td>-1.009539</td>\n",
       "      <td>0</td>\n",
       "      <td>...</td>\n",
       "      <td>1.736581</td>\n",
       "      <td>1.072514</td>\n",
       "      <td>0.477593</td>\n",
       "      <td>1</td>\n",
       "      <td>0.921477</td>\n",
       "      <td>0.362514</td>\n",
       "      <td>-0.265669</td>\n",
       "      <td>1.396105</td>\n",
       "      <td>1.420797</td>\n",
       "      <td>1500.0</td>\n",
       "    </tr>\n",
       "    <tr>\n",
       "      <th>578796</th>\n",
       "      <td>0.276594</td>\n",
       "      <td>-0.768615</td>\n",
       "      <td>-1.510183</td>\n",
       "      <td>0.012417</td>\n",
       "      <td>1.127741</td>\n",
       "      <td>-1.054221</td>\n",
       "      <td>-0.852084</td>\n",
       "      <td>-0.813073</td>\n",
       "      <td>0.605411</td>\n",
       "      <td>1</td>\n",
       "      <td>...</td>\n",
       "      <td>-1.603850</td>\n",
       "      <td>-0.137380</td>\n",
       "      <td>0.884252</td>\n",
       "      <td>0</td>\n",
       "      <td>-0.535857</td>\n",
       "      <td>-0.540330</td>\n",
       "      <td>0.816888</td>\n",
       "      <td>-0.686401</td>\n",
       "      <td>-1.283956</td>\n",
       "      <td>1500.0</td>\n",
       "    </tr>\n",
       "    <tr>\n",
       "      <th>194654</th>\n",
       "      <td>-1.406204</td>\n",
       "      <td>1.523638</td>\n",
       "      <td>-0.992994</td>\n",
       "      <td>-0.421131</td>\n",
       "      <td>0.295516</td>\n",
       "      <td>-0.005984</td>\n",
       "      <td>-0.845890</td>\n",
       "      <td>1.007031</td>\n",
       "      <td>-0.358266</td>\n",
       "      <td>0</td>\n",
       "      <td>...</td>\n",
       "      <td>-0.077954</td>\n",
       "      <td>0.742812</td>\n",
       "      <td>-1.006390</td>\n",
       "      <td>0</td>\n",
       "      <td>-0.214257</td>\n",
       "      <td>-0.719426</td>\n",
       "      <td>-0.344904</td>\n",
       "      <td>-0.859606</td>\n",
       "      <td>-1.192399</td>\n",
       "      <td>1500.0</td>\n",
       "    </tr>\n",
       "  </tbody>\n",
       "</table>\n",
       "<p>5 rows × 28 columns</p>\n",
       "</div>"
      ],
      "text/plain": [
       "          lep_pt   lep_eta   lep_phi  met_miss   met_phi   jets_no   jet1_pt  \\\n",
       "8158    0.942930 -0.445461  1.528926  2.066856  1.348279 -0.005984  1.709677   \n",
       "569512  1.448068  0.151954  0.161901  0.995798  0.416885 -1.054221  0.613575   \n",
       "368490  1.115222  1.027837  0.897663  1.854753  0.717214 -0.005984  1.799014   \n",
       "578796  0.276594 -0.768615 -1.510183  0.012417  1.127741 -1.054221 -0.852084   \n",
       "194654 -1.406204  1.523638 -0.992994 -0.421131  0.295516 -0.005984 -0.845890   \n",
       "\n",
       "        jet1_eta  jet1_phi jet1_btag  ...   jet4_pt  jet4_eta  jet4_phi  \\\n",
       "8158    0.986124 -0.465190         1  ... -0.086773  0.122667  0.324932   \n",
       "569512 -1.917273 -1.692672         1  ...  1.992937 -0.823763 -1.433735   \n",
       "368490  2.230610 -1.009539         0  ...  1.736581  1.072514  0.477593   \n",
       "578796 -0.813073  0.605411         1  ... -1.603850 -0.137380  0.884252   \n",
       "194654  1.007031 -0.358266         0  ... -0.077954  0.742812 -1.006390   \n",
       "\n",
       "       jet4_btag      m_jj     m_jjj      m_lv     m_jlv    m_wwbb    mass  \n",
       "8158           0  0.089382 -0.611450 -0.213931  2.724287  1.443621  1500.0  \n",
       "569512         0  2.659771  3.049345 -0.379623  2.213295  1.368753  1500.0  \n",
       "368490         1  0.921477  0.362514 -0.265669  1.396105  1.420797  1500.0  \n",
       "578796         0 -0.535857 -0.540330  0.816888 -0.686401 -1.283956  1500.0  \n",
       "194654         0 -0.214257 -0.719426 -0.344904 -0.859606 -1.192399  1500.0  \n",
       "\n",
       "[5 rows x 28 columns]"
      ]
     },
     "execution_count": 11,
     "metadata": {},
     "output_type": "execute_result"
    }
   ],
   "source": [
    "X_test.head()"
   ]
  },
  {
   "cell_type": "code",
   "execution_count": 12,
   "metadata": {},
   "outputs": [
    {
     "data": {
      "text/plain": [
       "1363114    1\n",
       "2580460    1\n",
       "3632821    0\n",
       "2617239    1\n",
       "3584249    0\n",
       "Name: label, dtype: category\n",
       "Categories (2, int64): [0, 1]"
      ]
     },
     "execution_count": 12,
     "metadata": {},
     "output_type": "execute_result"
    }
   ],
   "source": [
    "y_train.head()"
   ]
  },
  {
   "cell_type": "code",
   "execution_count": 13,
   "metadata": {},
   "outputs": [
    {
     "data": {
      "text/plain": [
       "8158      1\n",
       "569512    1\n",
       "368490    1\n",
       "578796    0\n",
       "194654    0\n",
       "Name: label, dtype: category\n",
       "Categories (2, int64): [0, 1]"
      ]
     },
     "execution_count": 13,
     "metadata": {},
     "output_type": "execute_result"
    }
   ],
   "source": [
    "y_test.head()"
   ]
  },
  {
   "cell_type": "code",
   "execution_count": null,
   "metadata": {},
   "outputs": [],
   "source": []
  }
 ],
 "metadata": {
  "kernelspec": {
   "display_name": "Python 3",
   "language": "python",
   "name": "python3"
  },
  "language_info": {
   "codemirror_mode": {
    "name": "ipython",
    "version": 3
   },
   "file_extension": ".py",
   "mimetype": "text/x-python",
   "name": "python",
   "nbconvert_exporter": "python",
   "pygments_lexer": "ipython3",
   "version": "3.5.2"
  }
 },
 "nbformat": 4,
 "nbformat_minor": 2
}
