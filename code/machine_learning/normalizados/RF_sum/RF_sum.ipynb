{
 "cells": [
  {
   "cell_type": "markdown",
   "metadata": {},
   "source": [
    "**Libraries**"
   ]
  },
  {
   "cell_type": "code",
   "execution_count": 4,
   "metadata": {},
   "outputs": [],
   "source": [
    "import pandas as pd\n",
    "import numpy as np\n",
    "\n",
    "import warnings\n",
    "\n",
    "import matplotlib as mpl\n",
    "import matplotlib.pyplot as plt\n",
    "import seaborn as sns\n",
    "from plotnine import *\n",
    "import joypy #el de las densidades guays\n",
    "\n",
    "from sklearn import manifold\n",
    "from sklearn.linear_model import LogisticRegression\n",
    "from sklearn.ensemble import RandomForestClassifier\n",
    "from sklearn.svm import SVC  \n",
    "\n",
    "\n",
    "from sklearn.model_selection import train_test_split\n",
    "from sklearn.model_selection import cross_val_score\n",
    "from sklearn.model_selection import GridSearchCV\n",
    "\n",
    "import os \n",
    "#cwd = os.getcwd()\n",
    "cwd=\"/home/angela/Notebook/machine_learning/normalizados/RF_sum/\"\n",
    "\n",
    "from sklearn import metrics\n",
    "\n",
    "\n",
    "warnings.filterwarnings('ignore') #ATENCION QUE ESTO CREO QUE FUNCIONA PARA TODO EL NOTEBOOK\n"
   ]
  },
  {
   "cell_type": "markdown",
   "metadata": {},
   "source": [
    "**LOAD**"
   ]
  },
  {
   "cell_type": "code",
   "execution_count": 5,
   "metadata": {},
   "outputs": [],
   "source": [
    "#ALL THE DATASET\n",
    "\n",
    "#df=pd.read_pickle(\"/home/angela/Notebook/data/normalizados/trainpickle\")\n",
    "#df_originaltest=pd.read_pickle(\"/home/angela/Notebook/data/normalizados/testpickle\")"
   ]
  },
  {
   "cell_type": "code",
   "execution_count": 6,
   "metadata": {},
   "outputs": [],
   "source": [
    "#SIMPLe DATASET\n",
    "df=pd.read_pickle(\"/home/angela/Notebook/data/normalizados/trainsimplepickle\")\n",
    "df_originaltest=pd.read_pickle(\"/home/angela/Notebook/data/normalizados/testsimplepickle\")\n"
   ]
  },
  {
   "cell_type": "markdown",
   "metadata": {},
   "source": [
    "# Machine learning"
   ]
  },
  {
   "cell_type": "markdown",
   "metadata": {},
   "source": [
    "**We will follow the scikit-learn schema to train and validate the model**\n",
    "\n",
    "\n",
    "https://scikit-learn.org/stable/modules/cross_validation.html\n"
   ]
  },
  {
   "cell_type": "markdown",
   "metadata": {},
   "source": [
    "## RF "
   ]
  },
  {
   "cell_type": "code",
   "execution_count": 7,
   "metadata": {},
   "outputs": [],
   "source": [
    "#Scores\n",
    "\n",
    "def Scores(y_true,y_pred):\n",
    "    \n",
    "    tn, fp, fn, tp = metrics.confusion_matrix(y_true, y_pred).ravel()\n",
    "    spec = tn / (tn+fp)\n",
    "    sens=tp/(tp+fn)\n",
    "    acc=metrics.accuracy_score(y_true,y_pred)\n",
    "    kappa_cohen=metrics.cohen_kappa_score(y_true,y_pred)\n",
    "        \n",
    "    return(sens,spec,acc,kappa_cohen)\n",
    "\n",
    "def model(X_train,y_train,X_test,state):\n",
    "\n",
    "#Choosing the model: \n",
    "    \n",
    "    if state == 1:   #RANDOMFOREST\n",
    "        params = {'n_estimators':[10,50,100,350],'max_features':['log2','auto','sqrt'],'criterion':['gini','entropy']}\n",
    "        model = RandomForestClassifier()\n",
    "        \n",
    "    elif state == 2:  #LOGISTIC REGRESSION\n",
    "        model = LogisticRegression()\n",
    "        params = {\"C\": [0.01,0.1,1,10]}  #Regularization, default=1\n",
    "        \n",
    "    elif state == 3:   #SVM\n",
    "        params = {'C':[0.1,1,10],'kernel':['rbf','linear']}  #SVM\n",
    "        model = SVC(probability=True) \n",
    "        #Important, SVC does not work with a big training set, it would be useful to obtain the support vectors\n",
    "        #in order to select specific samples for working with the whole dataset. \n",
    "        \n",
    "        \n",
    "    grid = GridSearchCV(estimator=model, \n",
    "                           param_grid=params,\n",
    "                           cv=5,\n",
    "                           verbose=1,\n",
    "                           n_jobs=-1)\n",
    "\n",
    "    grid.fit(X_train,y_train)\n",
    "    best_model = grid.best_estimator_\n",
    "\n",
    "    # Predict test set labels\n",
    "    y_pred = best_model.predict(X_test)    \n",
    "    y_pred_proba = best_model.predict_proba(X_test)[::,1] #Neccesary to make the ROC curve \n",
    "    \n",
    "    return(grid, best_model,y_pred,y_pred_proba)"
   ]
  },
  {
   "cell_type": "code",
   "execution_count": null,
   "metadata": {},
   "outputs": [
    {
     "name": "stdout",
     "output_type": "stream",
     "text": [
      "mass= 500\n",
      "Fitting 5 folds for each of 24 candidates, totalling 120 fits\n"
     ]
    },
    {
     "name": "stderr",
     "output_type": "stream",
     "text": [
      "[Parallel(n_jobs=-1)]: Done  18 tasks      | elapsed:   27.9s\n"
     ]
    }
   ],
   "source": [
    "#Metric df: \n",
    "df_metrics = pd.DataFrame(index=[500,750,1000,1250,1500], columns=['accuracy','sensitibity','specifity','kappa','auc'])\n",
    "\n",
    "#With different massses :\n",
    "for i in (500,750,1000,1250,1500):\n",
    "\n",
    "    print('mass=', i )\n",
    "\n",
    "    #train\n",
    "    dfmass1000=df.loc[df['mass'] == i]                                                   #to separate the masses. \n",
    "    dfmass0=df.loc[df['mass'] == 0].sample(n=dfmass1000.shape[0], random_state=1)        #0 same size of dfmass1000\n",
    "    dfmass1000=pd.concat([dfmass1000, dfmass0]).sample(frac=1).reset_index(drop=True)    #concatenating and shuffling\n",
    "    dfmass1000=dfmass1000.drop('mass', axis=1)                                                 #deleting mass\n",
    "\n",
    "    #test\n",
    "    dfmass1000test=df_originaltest.loc[df_originaltest['mass'] == i]\n",
    "    dfmass0test=df_originaltest.loc[df_originaltest['mass'] == 0].sample(n=dfmass1000test.shape[0], random_state=1)\n",
    "    dfmass1000test=pd.concat([dfmass1000test, dfmass0test]).sample(frac=1).reset_index(drop=True)\n",
    "    dfmass1000test=dfmass1000test.drop('mass', axis=1)\n",
    "    \n",
    "    X_train=dfmass1000.drop(['label'], axis=1)\n",
    "    y_train=dfmass1000.label\n",
    "\n",
    "    X_test=dfmass1000test.drop(['label'], axis=1)\n",
    "    y_test=dfmass1000test.label\n",
    "    \n",
    "    #Making the transformation\n",
    "    X_train['sum_pt']=X_train.jet1_pt+X_train.jet2_pt\n",
    "    X_train['eta']=X_train.jet1_eta+X_train.jet2_eta\n",
    "    X_train['sum_phi']=X_train.jet1_phi+X_train.jet2_phi\n",
    "    X_train=X_train.drop(['jet1_pt','jet1_eta','jet1_phi','jet2_pt','jet2_eta','jet2_phi'], axis=1)\n",
    "    \n",
    "    X_test['sum_pt']=X_test.jet1_pt+X_test.jet2_pt\n",
    "    X_test['eta']=X_test.jet1_eta+X_test.jet2_eta\n",
    "    X_test['sum_phi']=X_test.jet1_phi+X_test.jet2_phi\n",
    "    X_test=X_test.drop(['jet1_pt','jet1_eta','jet1_phi','jet2_pt','jet2_eta','jet2_phi'], axis=1)\n",
    "    \n",
    "    \n",
    "    numbermodel=1\n",
    "    \n",
    "    \n",
    "    grid,best_model,y_pred,y_pred_proba = model(X_train,y_train,X_test,numbermodel)\n",
    "    print(best_model)\n",
    "\n",
    "    sens,spec,acc,kappa=Scores(y_test,y_pred)\n",
    "    print('accuracy', acc)\n",
    "    print('sensitibity', sens)\n",
    "    print('specifity', spec)\n",
    "    print('kappa', kappa)\n",
    "\n",
    "    \n",
    "    d = {'Valor': best_model.feature_importances_, 'Nombres': X_train.columns}\n",
    "    importancias = pd.DataFrame(data=d)\n",
    "    importancias=importancias.sort_values(by=['Valor'], ascending=False)\n",
    "\n",
    "    importancias.Nombres= importancias.Nombres.astype('category')\n",
    "    importancias.Valor= importancias.Valor.astype('float')\n",
    "    g = ggplot(importancias, aes(x = 'Nombres', y = 'Valor'))+  geom_bar(colour=\"black\", stat=\"identity\") + theme(figure_size=(5, 7))+coord_flip()\n",
    "\n",
    "    g.save(filename = cwd +'MASS=' + str(i) + 'FR.png', height=5, width=5, units = 'in', dpi=1000)\n",
    "    print(g)\n",
    "    plt.clf() \n",
    "        \n",
    "    #Roc curve construction\n",
    "\n",
    "    fpr, tpr, _ = metrics.roc_curve(y_test,  y_pred_proba)\n",
    "    auc = metrics.roc_auc_score(y_test, y_pred_proba)\n",
    "    plt.plot(fpr,tpr,label=\"data 1, auc=\"+str(auc))\n",
    "    plt.legend(loc=4)\n",
    "    plt.savefig(cwd+'MASS=' + str(i) + 'ROC.png')\n",
    "    plt.show()\n",
    "    plt.clf() \n",
    "    print('AUC', auc)\n",
    "    \n",
    "    df_metrics.accuracy[i]=acc\n",
    "    df_metrics.sensitibity[i]=sens\n",
    "    df_metrics.specifity[i]=spec\n",
    "    df_metrics.kappa[i]=kappa\n",
    "    df_metrics.auc[i]=auc"
   ]
  },
  {
   "cell_type": "code",
   "execution_count": null,
   "metadata": {},
   "outputs": [],
   "source": [
    "print(X_train.shape)\n",
    "print(X_test.shape)\n",
    "y_test.value_counts()"
   ]
  },
  {
   "cell_type": "code",
   "execution_count": 95,
   "metadata": {},
   "outputs": [
    {
     "data": {
      "image/png": "[encoded data removed]",
      "text/plain": [
       "<Figure size 432x288 with 1 Axes>"
      ]
     },
     "metadata": {},
     "output_type": "display_data"
    }
   ],
   "source": [
    "fig, ax = plt.subplots()\n",
    "ax.plot([\"500\",\"750\",\"1000\",\"1250\",\"1500\"], df_metrics[\"accuracy\"], label=\"accuracy\")\n",
    "ax.plot([\"500\",\"750\",\"1000\",\"1250\",\"1500\"], df_metrics[\"sensitibity\"], label=\"sensitibity\")\n",
    "ax.plot([\"500\",\"750\",\"1000\",\"1250\",\"1500\"], df_metrics[\"specifity\"], label=\"specifity\")\n",
    "ax.plot([\"500\",\"750\",\"1000\",\"1250\",\"1500\"], df_metrics[\"auc\"], label=\"auc\")\n",
    "ax.plot([\"500\",\"750\",\"1000\",\"1250\",\"1500\"], df_metrics[\"kappa\"], label=\"kappa\")\n",
    "\n",
    "ax.set_xlabel('mass')\n",
    "ax.set_ylabel('Metric')\n",
    "legend = ax.legend(fontsize='x-large')\n",
    "plt.show()\n",
    "plt.savefig(cwd+ 'metrics_comparation.png')"
   ]
  },
  {
   "cell_type": "code",
   "execution_count": null,
   "metadata": {},
   "outputs": [],
   "source": []
  }
 ],
 "metadata": {
  "kernelspec": {
   "display_name": "Python 3",
   "language": "python",
   "name": "python3"
  },
  "language_info": {
   "codemirror_mode": {
    "name": "ipython",
    "version": 3
   },
   "file_extension": ".py",
   "mimetype": "text/x-python",
   "name": "python",
   "nbconvert_exporter": "python",
   "pygments_lexer": "ipython3",
   "version": "3.5.2"
  }
 },
 "nbformat": 4,
 "nbformat_minor": 2
}
