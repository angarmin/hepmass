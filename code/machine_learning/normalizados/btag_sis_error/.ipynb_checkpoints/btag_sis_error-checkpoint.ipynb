{
 "cells": [
  {
   "cell_type": "markdown",
   "metadata": {},
   "source": [
    "**Libraries**"
   ]
  },
  {
   "cell_type": "code",
   "execution_count": 1,
   "metadata": {},
   "outputs": [],
   "source": [
    "import pandas as pd\n",
    "import numpy as np\n",
    "\n",
    "import warnings\n",
    "\n",
    "import matplotlib as mpl\n",
    "import matplotlib.pyplot as plt\n",
    "import seaborn as sns\n",
    "from plotnine import *\n",
    "import joypy #el de las densidades guays\n",
    "\n",
    "from sklearn import manifold  \n",
    "\n",
    "\n",
    "from sklearn.model_selection import train_test_split\n",
    "from sklearn.model_selection import cross_val_score\n",
    "from sklearn.model_selection import GridSearchCV\n",
    "import os \n",
    "cwd = os.getcwd() + \"/\"\n",
    "cwd =\"/home/angela/Notebook/machine_learning/normalizados/btag_sis_error/\"\n",
    "from sklearn import metrics\n",
    "\n",
    "from sklearn.neural_network import MLPClassifier\n",
    "\n",
    "\n",
    "warnings.filterwarnings('ignore') #ATENCION QUE ESTO CREO QUE FUNCIONA PARA TODO EL NOTEBOOK\n",
    "\n",
    "import random\n",
    "random.seed(1)\n",
    "np.random.seed(1)\n",
    "np.random.RandomState(1)\n",
    "\n",
    "from sklearn.preprocessing import MinMaxScaler\n"
   ]
  },
  {
   "cell_type": "markdown",
   "metadata": {},
   "source": [
    "Si suponemos que el 65 % es lo que conseguimos sin forzar mucho el método ( me refiero en el análisis de física en ATLAS) , podemos fijarlo en 65%\n",
    "ese 35% puedes ponderarlo con las proporciones que has obtenido: así tendremos 13*35/13.6 para 1 b tag y 0.6*35/13.6 para 0 tag , ¿lo ves?\n",
    "Porque en datos toy simulados reconstruimos sin ambigüedades, tenemos los 4 jets más energéticos (es un caso casi ideal) , datos simulado detallados y en dato reales hay más mala concordancia entre lo que se reconstruye e identifica y lo que es 'truth'\n",
    "En el proceso de reconsturcción de jets y de elegir jets que sean los del esquema de decay de los tops nos estamos equivocando ( mismatch).\n",
    "ampliando lo fake hasta el 35% estás siendo más realista"
   ]
  },
  {
   "cell_type": "markdown",
   "metadata": {},
   "source": [
    "**LOAD**"
   ]
  },
  {
   "cell_type": "code",
   "execution_count": 2,
   "metadata": {},
   "outputs": [],
   "source": [
    "#ALL THE DATASET\n",
    "\n",
    "df=pd.read_pickle(\"/home/angela/Notebook/data/normalizados/trainpickle\")\n",
    "df_originaltest=pd.read_pickle(\"/home/angela/Notebook/data/normalizados/testpickle\")"
   ]
  },
  {
   "cell_type": "code",
   "execution_count": 3,
   "metadata": {},
   "outputs": [],
   "source": [
    "#SIMPLe DATASET\n",
    "#df=pd.read_pickle(\"/home/angela/Notebook/data/normalizados/trainsimplepickle\").sample(n=1000, random_state=1)\n",
    "#df_originaltest=pd.read_pickle(\"/home/angela/Notebook/data/normalizados/testsimplepickle\").sample(n=300, random_state=1)\n"
   ]
  },
  {
   "cell_type": "code",
   "execution_count": 4,
   "metadata": {},
   "outputs": [
    {
     "data": {
      "text/plain": [
       "2.0    86.471414\n",
       "1.0    12.954186\n",
       "0.0     0.574400\n",
       "dtype: float64"
      ]
     },
     "execution_count": 4,
     "metadata": {},
     "output_type": "execute_result"
    }
   ],
   "source": [
    "df.loc[:,['jet1_btag','jet2_btag',\"jet3_btag\",\"jet4_btag\"]].sum(axis=1).value_counts()/df.shape[0]*100"
   ]
  },
  {
   "cell_type": "markdown",
   "metadata": {},
   "source": [
    "# Machine learning"
   ]
  },
  {
   "cell_type": "markdown",
   "metadata": {},
   "source": [
    "**We will follow the scikit-learn schema to train and validate the model**\n",
    "\n",
    "\n",
    "https://scikit-learn.org/stable/modules/cross_validation.html\n"
   ]
  },
  {
   "cell_type": "markdown",
   "metadata": {},
   "source": [
    "## RF "
   ]
  },
  {
   "cell_type": "code",
   "execution_count": 5,
   "metadata": {},
   "outputs": [],
   "source": [
    "#Scores\n",
    "\n",
    "\n",
    "def Scores(y_true,y_pred):\n",
    "    \n",
    "    tn, fp, fn, tp = metrics.confusion_matrix(y_true, y_pred).ravel()\n",
    "    prec=tp / (tp + fp)\n",
    "    recall= tp / (tp + fn)\n",
    "    F1_score= 2 * (prec * recall) / (prec + recall)\n",
    "    acc=metrics.accuracy_score(y_true,y_pred)\n",
    "    kappa_cohen=metrics.cohen_kappa_score(y_true,y_pred)\n",
    "        \n",
    "    return(tn, fp, fn, tp, acc, prec,recall, F1_score,kappa_cohen)\n",
    "\n",
    "\n",
    "def model(X_train,y_train,X_test):\n",
    "    \n",
    "    scaler = MinMaxScaler()\n",
    "    scaler=scaler.fit(X_train)\n",
    "    \n",
    "    \n",
    "    X_train = scaler.transform(X_train)\n",
    "    X_test = scaler.transform(X_test)\n",
    "    \n",
    "    \n",
    "    model = MLPClassifier() \n",
    "    \n",
    "    #grid search, copy of kaggle: https://www.kaggle.com/hatone/mlpclassifier-with-gridsearchcv#L72\n",
    "    #defalult (scikit learn) :  best_model = MLPClassifier(solver='lbfgs', alpha=1e-5, hidden_layer_sizes=(5, 2)))\n",
    "\n",
    "    #params = {'solver': ['lbfgs'], 'max_iter': [1000,1100,1200,1300,1400,1500,1600,1700,1800,1900,2000 ], 'alpha': 10.0 ** -np.arange(1, 10), 'hidden_layer_sizes':np.arange(10, 15), 'random_state':[0,1,2,3,4,5,6,7,8,9]}    #model = SVC(probability=True) \n",
    "    #reduced: \n",
    "    params = {'solver': ['lbfgs'], 'max_iter': [200,600,1000,1400,1800], 'alpha': 10.0 ** -np.arange(4, 6), 'hidden_layer_sizes':np.arange(10, 15), 'random_state':[0]}    #model = SVC(probability=True) \n",
    "\n",
    "    grid = GridSearchCV(estimator=model, param_grid=params,cv=5,verbose=1, n_jobs=-1)\n",
    "\n",
    "    grid.fit(X_train,y_train)\n",
    "    best_model = grid.best_estimator_\n",
    "    \n",
    "    best_model.fit(X_train,y_train)\n",
    "    # Predict test set labels\n",
    "    y_pred = best_model.predict(X_test)    \n",
    "    y_pred_proba = best_model.predict_proba(X_test)[::,1] #Neccesary to make the ROC curve \n",
    "\n",
    "    return(grid,best_model,y_pred,y_pred_proba)"
   ]
  },
  {
   "cell_type": "markdown",
   "metadata": {},
   "source": [
    "## test bien y variando el train"
   ]
  },
  {
   "cell_type": "code",
   "execution_count": 6,
   "metadata": {},
   "outputs": [
    {
     "name": "stdout",
     "output_type": "stream",
     "text": [
      "test bien y variando el train\n"
     ]
    }
   ],
   "source": [
    "cwd2=cwd+\"train2b\"\n",
    "\n",
    "#cargo otra vez para resetear el df\n",
    "df=pd.read_pickle(\"/home/angela/Notebook/data/normalizados/trainpickle\")\n",
    "df_originaltest=pd.read_pickle(\"/home/angela/Notebook/data/normalizados/testpickle\")\n",
    "df_originaltest=df_originaltest[df_originaltest.loc[:,['jet1_btag','jet2_btag',\"jet3_btag\",\"jet4_btag\"]].sum(axis=1)==2]\n",
    "\n",
    "print(\"test bien y variando el train\")"
   ]
  },
  {
   "cell_type": "code",
   "execution_count": 7,
   "metadata": {},
   "outputs": [
    {
     "name": "stdout",
     "output_type": "stream",
     "text": [
      "B_tag_train_prop \n",
      " 2.0    100.0\n",
      "dtype: float64\n"
     ]
    }
   ],
   "source": [
    "print(\"B_tag_train_prop\", \"\\n\" ,df_originaltest.loc[:,['jet1_btag','jet2_btag',\"jet3_btag\",\"jet4_btag\"]].sum(axis=1).value_counts()/df_originaltest.shape[0]*100)\n"
   ]
  },
  {
   "cell_type": "code",
   "execution_count": 8,
   "metadata": {},
   "outputs": [
    {
     "name": "stdout",
     "output_type": "stream",
     "text": [
      "test mass      0       500     750     1000    1250    1500\n",
      "label                                                 \n",
      "0      1537560       0       0       0       0       0\n",
      "1            0  297522  295895  297661  299791  298253\n"
     ]
    }
   ],
   "source": [
    "print(\"test\", pd.crosstab(df_originaltest['label'],df_originaltest['mass']))\n"
   ]
  },
  {
   "cell_type": "code",
   "execution_count": 9,
   "metadata": {},
   "outputs": [
    {
     "name": "stdout",
     "output_type": "stream",
     "text": [
      "BTAG = all0\n",
      "mass= 500\n",
      "B_tag_train_prop \n",
      " 0.0    100.0\n",
      "dtype: float64\n",
      "X_train_shape (9300, 27)\n",
      "X_test_shape (4650, 27)\n",
      "Fitting 5 folds for each of 50 candidates, totalling 250 fits\n"
     ]
    },
    {
     "name": "stderr",
     "output_type": "stream",
     "text": [
      "[Parallel(n_jobs=-1)]: Done  18 tasks      | elapsed:  1.7min\n",
      "[Parallel(n_jobs=-1)]: Done 168 tasks      | elapsed: 17.3min\n",
      "[Parallel(n_jobs=-1)]: Done 250 out of 250 | elapsed: 35.8min finished\n"
     ]
    },
    {
     "name": "stdout",
     "output_type": "stream",
     "text": [
      "MLPClassifier(activation='relu', alpha=0.0001, batch_size='auto', beta_1=0.9,\n",
      "       beta_2=0.999, early_stopping=False, epsilon=1e-08,\n",
      "       hidden_layer_sizes=14, learning_rate='constant',\n",
      "       learning_rate_init=0.001, max_iter=200, momentum=0.9,\n",
      "       nesterovs_momentum=True, power_t=0.5, random_state=0, shuffle=True,\n",
      "       solver='lbfgs', tol=0.0001, validation_fraction=0.1, verbose=False,\n",
      "       warm_start=False)\n"
     ]
    },
    {
     "data": {
      "image/png": "[encoded data removed]",
      "text/plain": [
       "<Figure size 432x288 with 1 Axes>"
      ]
     },
     "metadata": {},
     "output_type": "display_data"
    },
    {
     "name": "stdout",
     "output_type": "stream",
     "text": [
      "mass= 750\n",
      "B_tag_train_prop \n",
      " 0.0    100.0\n",
      "dtype: float64\n",
      "X_train_shape (9300, 27)\n",
      "X_test_shape (4650, 27)\n",
      "Fitting 5 folds for each of 50 candidates, totalling 250 fits\n"
     ]
    },
    {
     "name": "stderr",
     "output_type": "stream",
     "text": [
      "[Parallel(n_jobs=-1)]: Done  18 tasks      | elapsed:  2.9min\n",
      "[Parallel(n_jobs=-1)]: Done 168 tasks      | elapsed: 23.4min\n",
      "[Parallel(n_jobs=-1)]: Done 250 out of 250 | elapsed: 39.2min finished\n"
     ]
    },
    {
     "name": "stdout",
     "output_type": "stream",
     "text": [
      "MLPClassifier(activation='relu', alpha=1e-05, batch_size='auto', beta_1=0.9,\n",
      "       beta_2=0.999, early_stopping=False, epsilon=1e-08,\n",
      "       hidden_layer_sizes=13, learning_rate='constant',\n",
      "       learning_rate_init=0.001, max_iter=1400, momentum=0.9,\n",
      "       nesterovs_momentum=True, power_t=0.5, random_state=0, shuffle=True,\n",
      "       solver='lbfgs', tol=0.0001, validation_fraction=0.1, verbose=False,\n",
      "       warm_start=False)\n"
     ]
    },
    {
     "data": {
      "image/png": "[encoded data removed]",
      "text/plain": [
       "<Figure size 432x288 with 1 Axes>"
      ]
     },
     "metadata": {},
     "output_type": "display_data"
    },
    {
     "name": "stdout",
     "output_type": "stream",
     "text": [
      "mass= 1000\n",
      "B_tag_train_prop \n",
      " 0.0    100.0\n",
      "dtype: float64\n",
      "X_train_shape (9300, 27)\n",
      "X_test_shape (4650, 27)\n",
      "Fitting 5 folds for each of 50 candidates, totalling 250 fits\n"
     ]
    },
    {
     "name": "stderr",
     "output_type": "stream",
     "text": [
      "[Parallel(n_jobs=-1)]: Done  18 tasks      | elapsed:  3.3min\n",
      "[Parallel(n_jobs=-1)]: Done 168 tasks      | elapsed: 21.6min\n",
      "[Parallel(n_jobs=-1)]: Done 250 out of 250 | elapsed: 34.9min finished\n"
     ]
    },
    {
     "name": "stdout",
     "output_type": "stream",
     "text": [
      "MLPClassifier(activation='relu', alpha=1e-05, batch_size='auto', beta_1=0.9,\n",
      "       beta_2=0.999, early_stopping=False, epsilon=1e-08,\n",
      "       hidden_layer_sizes=11, learning_rate='constant',\n",
      "       learning_rate_init=0.001, max_iter=200, momentum=0.9,\n",
      "       nesterovs_momentum=True, power_t=0.5, random_state=0, shuffle=True,\n",
      "       solver='lbfgs', tol=0.0001, validation_fraction=0.1, verbose=False,\n",
      "       warm_start=False)\n"
     ]
    },
    {
     "data": {
      "image/png": "[encoded data removed]",
      "text/plain": [
       "<Figure size 432x288 with 1 Axes>"
      ]
     },
     "metadata": {},
     "output_type": "display_data"
    },
    {
     "name": "stdout",
     "output_type": "stream",
     "text": [
      "mass= 1250\n",
      "B_tag_train_prop \n",
      " 0.0    100.0\n",
      "dtype: float64\n",
      "X_train_shape (9300, 27)\n",
      "X_test_shape (4650, 27)\n",
      "Fitting 5 folds for each of 50 candidates, totalling 250 fits\n"
     ]
    },
    {
     "name": "stderr",
     "output_type": "stream",
     "text": [
      "[Parallel(n_jobs=-1)]: Done  18 tasks      | elapsed:  2.9min\n",
      "[Parallel(n_jobs=-1)]: Done 168 tasks      | elapsed: 22.2min\n",
      "[Parallel(n_jobs=-1)]: Done 250 out of 250 | elapsed: 34.8min finished\n"
     ]
    },
    {
     "name": "stdout",
     "output_type": "stream",
     "text": [
      "MLPClassifier(activation='relu', alpha=0.0001, batch_size='auto', beta_1=0.9,\n",
      "       beta_2=0.999, early_stopping=False, epsilon=1e-08,\n",
      "       hidden_layer_sizes=12, learning_rate='constant',\n",
      "       learning_rate_init=0.001, max_iter=600, momentum=0.9,\n",
      "       nesterovs_momentum=True, power_t=0.5, random_state=0, shuffle=True,\n",
      "       solver='lbfgs', tol=0.0001, validation_fraction=0.1, verbose=False,\n",
      "       warm_start=False)\n"
     ]
    },
    {
     "data": {
      "image/png": "[encoded data removed]",
      "text/plain": [
       "<Figure size 432x288 with 1 Axes>"
      ]
     },
     "metadata": {},
     "output_type": "display_data"
    },
    {
     "name": "stdout",
     "output_type": "stream",
     "text": [
      "mass= 1500\n",
      "B_tag_train_prop \n",
      " 0.0    100.0\n",
      "dtype: float64\n",
      "X_train_shape (9300, 27)\n",
      "X_test_shape (4650, 27)\n",
      "Fitting 5 folds for each of 50 candidates, totalling 250 fits\n"
     ]
    },
    {
     "name": "stderr",
     "output_type": "stream",
     "text": [
      "[Parallel(n_jobs=-1)]: Done  18 tasks      | elapsed:  2.8min\n",
      "[Parallel(n_jobs=-1)]: Done 168 tasks      | elapsed: 17.0min\n",
      "[Parallel(n_jobs=-1)]: Done 250 out of 250 | elapsed: 22.5min finished\n"
     ]
    },
    {
     "name": "stdout",
     "output_type": "stream",
     "text": [
      "MLPClassifier(activation='relu', alpha=1e-05, batch_size='auto', beta_1=0.9,\n",
      "       beta_2=0.999, early_stopping=False, epsilon=1e-08,\n",
      "       hidden_layer_sizes=10, learning_rate='constant',\n",
      "       learning_rate_init=0.001, max_iter=1400, momentum=0.9,\n",
      "       nesterovs_momentum=True, power_t=0.5, random_state=0, shuffle=True,\n",
      "       solver='lbfgs', tol=0.0001, validation_fraction=0.1, verbose=False,\n",
      "       warm_start=False)\n"
     ]
    },
    {
     "data": {
      "image/png": "[encoded data removed]",
      "text/plain": [
       "<Figure size 432x288 with 1 Axes>"
      ]
     },
     "metadata": {},
     "output_type": "display_data"
    },
    {
     "data": {
      "text/html": [
       "<div>\n",
       "<style scoped>\n",
       "    .dataframe tbody tr th:only-of-type {\n",
       "        vertical-align: middle;\n",
       "    }\n",
       "\n",
       "    .dataframe tbody tr th {\n",
       "        vertical-align: top;\n",
       "    }\n",
       "\n",
       "    .dataframe thead th {\n",
       "        text-align: right;\n",
       "    }\n",
       "</style>\n",
       "<table border=\"1\" class=\"dataframe\">\n",
       "  <thead>\n",
       "    <tr style=\"text-align: right;\">\n",
       "      <th></th>\n",
       "      <th>tn</th>\n",
       "      <th>fp</th>\n",
       "      <th>fn</th>\n",
       "      <th>tp</th>\n",
       "      <th>acc</th>\n",
       "      <th>prec</th>\n",
       "      <th>recall</th>\n",
       "      <th>F1_score</th>\n",
       "      <th>kappa_cohen</th>\n",
       "      <th>auc</th>\n",
       "    </tr>\n",
       "  </thead>\n",
       "  <tbody>\n",
       "    <tr>\n",
       "      <th>500</th>\n",
       "      <td>2092</td>\n",
       "      <td>278</td>\n",
       "      <td>1833</td>\n",
       "      <td>447</td>\n",
       "      <td>0.546022</td>\n",
       "      <td>0.616552</td>\n",
       "      <td>0.196053</td>\n",
       "      <td>0.297504</td>\n",
       "      <td>0.0797863</td>\n",
       "      <td>0.626293</td>\n",
       "    </tr>\n",
       "    <tr>\n",
       "      <th>750</th>\n",
       "      <td>2034</td>\n",
       "      <td>257</td>\n",
       "      <td>895</td>\n",
       "      <td>1464</td>\n",
       "      <td>0.752258</td>\n",
       "      <td>0.850668</td>\n",
       "      <td>0.620602</td>\n",
       "      <td>0.717647</td>\n",
       "      <td>0.506391</td>\n",
       "      <td>0.876493</td>\n",
       "    </tr>\n",
       "    <tr>\n",
       "      <th>1000</th>\n",
       "      <td>2209</td>\n",
       "      <td>112</td>\n",
       "      <td>559</td>\n",
       "      <td>1770</td>\n",
       "      <td>0.855699</td>\n",
       "      <td>0.940489</td>\n",
       "      <td>0.759983</td>\n",
       "      <td>0.840655</td>\n",
       "      <td>0.711492</td>\n",
       "      <td>0.958144</td>\n",
       "    </tr>\n",
       "    <tr>\n",
       "      <th>1250</th>\n",
       "      <td>2231</td>\n",
       "      <td>79</td>\n",
       "      <td>355</td>\n",
       "      <td>1985</td>\n",
       "      <td>0.906667</td>\n",
       "      <td>0.961725</td>\n",
       "      <td>0.848291</td>\n",
       "      <td>0.901453</td>\n",
       "      <td>0.813468</td>\n",
       "      <td>0.97858</td>\n",
       "    </tr>\n",
       "    <tr>\n",
       "      <th>1500</th>\n",
       "      <td>2192</td>\n",
       "      <td>67</td>\n",
       "      <td>341</td>\n",
       "      <td>2050</td>\n",
       "      <td>0.912258</td>\n",
       "      <td>0.968351</td>\n",
       "      <td>0.857382</td>\n",
       "      <td>0.909494</td>\n",
       "      <td>0.824961</td>\n",
       "      <td>0.980536</td>\n",
       "    </tr>\n",
       "  </tbody>\n",
       "</table>\n",
       "</div>"
      ],
      "text/plain": [
       "        tn   fp    fn    tp       acc      prec    recall  F1_score  \\\n",
       "500   2092  278  1833   447  0.546022  0.616552  0.196053  0.297504   \n",
       "750   2034  257   895  1464  0.752258  0.850668  0.620602  0.717647   \n",
       "1000  2209  112   559  1770  0.855699  0.940489  0.759983  0.840655   \n",
       "1250  2231   79   355  1985  0.906667  0.961725  0.848291  0.901453   \n",
       "1500  2192   67   341  2050  0.912258  0.968351  0.857382  0.909494   \n",
       "\n",
       "     kappa_cohen       auc  \n",
       "500    0.0797863  0.626293  \n",
       "750     0.506391  0.876493  \n",
       "1000    0.711492  0.958144  \n",
       "1250    0.813468   0.97858  \n",
       "1500    0.824961  0.980536  "
      ]
     },
     "metadata": {},
     "output_type": "display_data"
    },
    {
     "name": "stdout",
     "output_type": "stream",
     "text": [
      "BTAG = all1\n",
      "mass= 500\n",
      "B_tag_train_prop \n",
      " 1.0    100.0\n",
      "dtype: float64\n",
      "X_train_shape (9300, 27)\n",
      "X_test_shape (4650, 27)\n",
      "Fitting 5 folds for each of 50 candidates, totalling 250 fits\n"
     ]
    },
    {
     "name": "stderr",
     "output_type": "stream",
     "text": [
      "[Parallel(n_jobs=-1)]: Done  18 tasks      | elapsed:  1.6min\n",
      "[Parallel(n_jobs=-1)]: Done 168 tasks      | elapsed: 15.6min\n",
      "[Parallel(n_jobs=-1)]: Done 250 out of 250 | elapsed: 23.6min finished\n"
     ]
    },
    {
     "name": "stdout",
     "output_type": "stream",
     "text": [
      "MLPClassifier(activation='relu', alpha=1e-05, batch_size='auto', beta_1=0.9,\n",
      "       beta_2=0.999, early_stopping=False, epsilon=1e-08,\n",
      "       hidden_layer_sizes=13, learning_rate='constant',\n",
      "       learning_rate_init=0.001, max_iter=600, momentum=0.9,\n",
      "       nesterovs_momentum=True, power_t=0.5, random_state=0, shuffle=True,\n",
      "       solver='lbfgs', tol=0.0001, validation_fraction=0.1, verbose=False,\n",
      "       warm_start=False)\n"
     ]
    },
    {
     "data": {
      "image/png": "[encoded data removed]",
      "text/plain": [
       "<Figure size 432x288 with 1 Axes>"
      ]
     },
     "metadata": {},
     "output_type": "display_data"
    },
    {
     "name": "stdout",
     "output_type": "stream",
     "text": [
      "mass= 750\n",
      "B_tag_train_prop \n",
      " 1.0    100.0\n",
      "dtype: float64\n",
      "X_train_shape (9300, 27)\n",
      "X_test_shape (4650, 27)\n",
      "Fitting 5 folds for each of 50 candidates, totalling 250 fits\n"
     ]
    },
    {
     "name": "stderr",
     "output_type": "stream",
     "text": [
      "[Parallel(n_jobs=-1)]: Done  18 tasks      | elapsed:  1.7min\n",
      "[Parallel(n_jobs=-1)]: Done 168 tasks      | elapsed: 15.3min\n",
      "[Parallel(n_jobs=-1)]: Done 250 out of 250 | elapsed: 23.0min finished\n"
     ]
    },
    {
     "name": "stdout",
     "output_type": "stream",
     "text": [
      "MLPClassifier(activation='relu', alpha=1e-05, batch_size='auto', beta_1=0.9,\n",
      "       beta_2=0.999, early_stopping=False, epsilon=1e-08,\n",
      "       hidden_layer_sizes=13, learning_rate='constant',\n",
      "       learning_rate_init=0.001, max_iter=600, momentum=0.9,\n",
      "       nesterovs_momentum=True, power_t=0.5, random_state=0, shuffle=True,\n",
      "       solver='lbfgs', tol=0.0001, validation_fraction=0.1, verbose=False,\n",
      "       warm_start=False)\n"
     ]
    },
    {
     "data": {
      "image/png": "[encoded data removed]",
      "text/plain": [
       "<Figure size 432x288 with 1 Axes>"
      ]
     },
     "metadata": {},
     "output_type": "display_data"
    },
    {
     "name": "stdout",
     "output_type": "stream",
     "text": [
      "mass= 1000\n",
      "B_tag_train_prop \n",
      " 1.0    100.0\n",
      "dtype: float64\n",
      "X_train_shape (9300, 27)\n",
      "X_test_shape (4650, 27)\n",
      "Fitting 5 folds for each of 50 candidates, totalling 250 fits\n"
     ]
    },
    {
     "name": "stderr",
     "output_type": "stream",
     "text": [
      "[Parallel(n_jobs=-1)]: Done  18 tasks      | elapsed:  1.7min\n",
      "[Parallel(n_jobs=-1)]: Done 168 tasks      | elapsed: 14.7min\n",
      "[Parallel(n_jobs=-1)]: Done 250 out of 250 | elapsed: 21.8min finished\n"
     ]
    },
    {
     "name": "stdout",
     "output_type": "stream",
     "text": [
      "MLPClassifier(activation='relu', alpha=0.0001, batch_size='auto', beta_1=0.9,\n",
      "       beta_2=0.999, early_stopping=False, epsilon=1e-08,\n",
      "       hidden_layer_sizes=13, learning_rate='constant',\n",
      "       learning_rate_init=0.001, max_iter=1400, momentum=0.9,\n",
      "       nesterovs_momentum=True, power_t=0.5, random_state=0, shuffle=True,\n",
      "       solver='lbfgs', tol=0.0001, validation_fraction=0.1, verbose=False,\n",
      "       warm_start=False)\n"
     ]
    },
    {
     "data": {
      "image/png": "[encoded data removed]",
      "text/plain": [
       "<Figure size 432x288 with 1 Axes>"
      ]
     },
     "metadata": {},
     "output_type": "display_data"
    },
    {
     "name": "stdout",
     "output_type": "stream",
     "text": [
      "mass= 1250\n",
      "B_tag_train_prop \n",
      " 1.0    100.0\n",
      "dtype: float64\n",
      "X_train_shape (9300, 27)\n",
      "X_test_shape (4650, 27)\n",
      "Fitting 5 folds for each of 50 candidates, totalling 250 fits\n"
     ]
    },
    {
     "name": "stderr",
     "output_type": "stream",
     "text": [
      "[Parallel(n_jobs=-1)]: Done  18 tasks      | elapsed:  1.7min\n",
      "[Parallel(n_jobs=-1)]: Done 168 tasks      | elapsed: 15.0min\n",
      "[Parallel(n_jobs=-1)]: Done 250 out of 250 | elapsed: 22.7min finished\n"
     ]
    },
    {
     "name": "stdout",
     "output_type": "stream",
     "text": [
      "MLPClassifier(activation='relu', alpha=0.0001, batch_size='auto', beta_1=0.9,\n",
      "       beta_2=0.999, early_stopping=False, epsilon=1e-08,\n",
      "       hidden_layer_sizes=11, learning_rate='constant',\n",
      "       learning_rate_init=0.001, max_iter=200, momentum=0.9,\n",
      "       nesterovs_momentum=True, power_t=0.5, random_state=0, shuffle=True,\n",
      "       solver='lbfgs', tol=0.0001, validation_fraction=0.1, verbose=False,\n",
      "       warm_start=False)\n"
     ]
    },
    {
     "data": {
      "image/png": "[encoded data removed]",
      "text/plain": [
       "<Figure size 432x288 with 1 Axes>"
      ]
     },
     "metadata": {},
     "output_type": "display_data"
    },
    {
     "name": "stdout",
     "output_type": "stream",
     "text": [
      "mass= 1500\n",
      "B_tag_train_prop \n",
      " 1.0    100.0\n",
      "dtype: float64\n",
      "X_train_shape (9300, 27)\n",
      "X_test_shape (4650, 27)\n",
      "Fitting 5 folds for each of 50 candidates, totalling 250 fits\n"
     ]
    },
    {
     "name": "stderr",
     "output_type": "stream",
     "text": [
      "[Parallel(n_jobs=-1)]: Done  18 tasks      | elapsed:  1.5min\n",
      "[Parallel(n_jobs=-1)]: Done 168 tasks      | elapsed: 14.2min\n",
      "[Parallel(n_jobs=-1)]: Done 250 out of 250 | elapsed: 21.5min finished\n"
     ]
    },
    {
     "name": "stdout",
     "output_type": "stream",
     "text": [
      "MLPClassifier(activation='relu', alpha=0.0001, batch_size='auto', beta_1=0.9,\n",
      "       beta_2=0.999, early_stopping=False, epsilon=1e-08,\n",
      "       hidden_layer_sizes=14, learning_rate='constant',\n",
      "       learning_rate_init=0.001, max_iter=600, momentum=0.9,\n",
      "       nesterovs_momentum=True, power_t=0.5, random_state=0, shuffle=True,\n",
      "       solver='lbfgs', tol=0.0001, validation_fraction=0.1, verbose=False,\n",
      "       warm_start=False)\n"
     ]
    },
    {
     "data": {
      "image/png": "[encoded data removed]",
      "text/plain": [
       "<Figure size 432x288 with 1 Axes>"
      ]
     },
     "metadata": {},
     "output_type": "display_data"
    },
    {
     "data": {
      "text/html": [
       "<div>\n",
       "<style scoped>\n",
       "    .dataframe tbody tr th:only-of-type {\n",
       "        vertical-align: middle;\n",
       "    }\n",
       "\n",
       "    .dataframe tbody tr th {\n",
       "        vertical-align: top;\n",
       "    }\n",
       "\n",
       "    .dataframe thead th {\n",
       "        text-align: right;\n",
       "    }\n",
       "</style>\n",
       "<table border=\"1\" class=\"dataframe\">\n",
       "  <thead>\n",
       "    <tr style=\"text-align: right;\">\n",
       "      <th></th>\n",
       "      <th>tn</th>\n",
       "      <th>fp</th>\n",
       "      <th>fn</th>\n",
       "      <th>tp</th>\n",
       "      <th>acc</th>\n",
       "      <th>prec</th>\n",
       "      <th>recall</th>\n",
       "      <th>F1_score</th>\n",
       "      <th>kappa_cohen</th>\n",
       "      <th>auc</th>\n",
       "    </tr>\n",
       "  </thead>\n",
       "  <tbody>\n",
       "    <tr>\n",
       "      <th>500</th>\n",
       "      <td>1322</td>\n",
       "      <td>1048</td>\n",
       "      <td>841</td>\n",
       "      <td>1439</td>\n",
       "      <td>0.593763</td>\n",
       "      <td>0.578609</td>\n",
       "      <td>0.63114</td>\n",
       "      <td>0.603734</td>\n",
       "      <td>0.188621</td>\n",
       "      <td>0.626867</td>\n",
       "    </tr>\n",
       "    <tr>\n",
       "      <th>750</th>\n",
       "      <td>2124</td>\n",
       "      <td>167</td>\n",
       "      <td>1100</td>\n",
       "      <td>1259</td>\n",
       "      <td>0.727527</td>\n",
       "      <td>0.882889</td>\n",
       "      <td>0.533701</td>\n",
       "      <td>0.665258</td>\n",
       "      <td>0.458118</td>\n",
       "      <td>0.897538</td>\n",
       "    </tr>\n",
       "    <tr>\n",
       "      <th>1000</th>\n",
       "      <td>2279</td>\n",
       "      <td>42</td>\n",
       "      <td>1155</td>\n",
       "      <td>1174</td>\n",
       "      <td>0.742581</td>\n",
       "      <td>0.965461</td>\n",
       "      <td>0.504079</td>\n",
       "      <td>0.662341</td>\n",
       "      <td>0.485583</td>\n",
       "      <td>0.964274</td>\n",
       "    </tr>\n",
       "    <tr>\n",
       "      <th>1250</th>\n",
       "      <td>2302</td>\n",
       "      <td>8</td>\n",
       "      <td>873</td>\n",
       "      <td>1467</td>\n",
       "      <td>0.810538</td>\n",
       "      <td>0.994576</td>\n",
       "      <td>0.626923</td>\n",
       "      <td>0.769069</td>\n",
       "      <td>0.621967</td>\n",
       "      <td>0.985012</td>\n",
       "    </tr>\n",
       "    <tr>\n",
       "      <th>1500</th>\n",
       "      <td>2254</td>\n",
       "      <td>5</td>\n",
       "      <td>1053</td>\n",
       "      <td>1338</td>\n",
       "      <td>0.772473</td>\n",
       "      <td>0.996277</td>\n",
       "      <td>0.559598</td>\n",
       "      <td>0.716658</td>\n",
       "      <td>0.550338</td>\n",
       "      <td>0.989993</td>\n",
       "    </tr>\n",
       "  </tbody>\n",
       "</table>\n",
       "</div>"
      ],
      "text/plain": [
       "        tn    fp    fn    tp       acc      prec    recall  F1_score  \\\n",
       "500   1322  1048   841  1439  0.593763  0.578609   0.63114  0.603734   \n",
       "750   2124   167  1100  1259  0.727527  0.882889  0.533701  0.665258   \n",
       "1000  2279    42  1155  1174  0.742581  0.965461  0.504079  0.662341   \n",
       "1250  2302     8   873  1467  0.810538  0.994576  0.626923  0.769069   \n",
       "1500  2254     5  1053  1338  0.772473  0.996277  0.559598  0.716658   \n",
       "\n",
       "     kappa_cohen       auc  \n",
       "500     0.188621  0.626867  \n",
       "750     0.458118  0.897538  \n",
       "1000    0.485583  0.964274  \n",
       "1250    0.621967  0.985012  \n",
       "1500    0.550338  0.989993  "
      ]
     },
     "metadata": {},
     "output_type": "display_data"
    },
    {
     "name": "stdout",
     "output_type": "stream",
     "text": [
      "BTAG = all2\n",
      "mass= 500\n",
      "B_tag_train_prop \n",
      " 2.0    100.0\n",
      "dtype: float64\n",
      "X_train_shape (9300, 27)\n",
      "X_test_shape (4650, 27)\n",
      "Fitting 5 folds for each of 50 candidates, totalling 250 fits\n"
     ]
    },
    {
     "name": "stderr",
     "output_type": "stream",
     "text": [
      "[Parallel(n_jobs=-1)]: Done  18 tasks      | elapsed:  1.7min\n",
      "[Parallel(n_jobs=-1)]: Done 168 tasks      | elapsed: 15.6min\n",
      "[Parallel(n_jobs=-1)]: Done 250 out of 250 | elapsed: 23.7min finished\n"
     ]
    },
    {
     "name": "stdout",
     "output_type": "stream",
     "text": [
      "MLPClassifier(activation='relu', alpha=1e-05, batch_size='auto', beta_1=0.9,\n",
      "       beta_2=0.999, early_stopping=False, epsilon=1e-08,\n",
      "       hidden_layer_sizes=13, learning_rate='constant',\n",
      "       learning_rate_init=0.001, max_iter=1400, momentum=0.9,\n",
      "       nesterovs_momentum=True, power_t=0.5, random_state=0, shuffle=True,\n",
      "       solver='lbfgs', tol=0.0001, validation_fraction=0.1, verbose=False,\n",
      "       warm_start=False)\n"
     ]
    },
    {
     "data": {
      "image/png": "[encoded data removed]",
      "text/plain": [
       "<Figure size 432x288 with 1 Axes>"
      ]
     },
     "metadata": {},
     "output_type": "display_data"
    },
    {
     "name": "stdout",
     "output_type": "stream",
     "text": [
      "mass= 750\n",
      "B_tag_train_prop \n",
      " 2.0    100.0\n",
      "dtype: float64\n",
      "X_train_shape (9300, 27)\n",
      "X_test_shape (4650, 27)\n",
      "Fitting 5 folds for each of 50 candidates, totalling 250 fits\n"
     ]
    },
    {
     "name": "stderr",
     "output_type": "stream",
     "text": [
      "[Parallel(n_jobs=-1)]: Done  18 tasks      | elapsed:  1.6min\n",
      "[Parallel(n_jobs=-1)]: Done 168 tasks      | elapsed: 15.4min\n",
      "[Parallel(n_jobs=-1)]: Done 250 out of 250 | elapsed: 23.3min finished\n"
     ]
    },
    {
     "name": "stdout",
     "output_type": "stream",
     "text": [
      "MLPClassifier(activation='relu', alpha=1e-05, batch_size='auto', beta_1=0.9,\n",
      "       beta_2=0.999, early_stopping=False, epsilon=1e-08,\n",
      "       hidden_layer_sizes=10, learning_rate='constant',\n",
      "       learning_rate_init=0.001, max_iter=600, momentum=0.9,\n",
      "       nesterovs_momentum=True, power_t=0.5, random_state=0, shuffle=True,\n",
      "       solver='lbfgs', tol=0.0001, validation_fraction=0.1, verbose=False,\n",
      "       warm_start=False)\n"
     ]
    },
    {
     "data": {
      "image/png": "[encoded data removed]",
      "text/plain": [
       "<Figure size 432x288 with 1 Axes>"
      ]
     },
     "metadata": {},
     "output_type": "display_data"
    },
    {
     "name": "stdout",
     "output_type": "stream",
     "text": [
      "mass= 1000\n",
      "B_tag_train_prop \n",
      " 2.0    100.0\n",
      "dtype: float64\n",
      "X_train_shape (9300, 27)\n",
      "X_test_shape (4650, 27)\n",
      "Fitting 5 folds for each of 50 candidates, totalling 250 fits\n"
     ]
    },
    {
     "name": "stderr",
     "output_type": "stream",
     "text": [
      "[Parallel(n_jobs=-1)]: Done  18 tasks      | elapsed:  1.5min\n",
      "[Parallel(n_jobs=-1)]: Done 168 tasks      | elapsed: 14.8min\n",
      "[Parallel(n_jobs=-1)]: Done 250 out of 250 | elapsed: 22.3min finished\n"
     ]
    },
    {
     "name": "stdout",
     "output_type": "stream",
     "text": [
      "MLPClassifier(activation='relu', alpha=0.0001, batch_size='auto', beta_1=0.9,\n",
      "       beta_2=0.999, early_stopping=False, epsilon=1e-08,\n",
      "       hidden_layer_sizes=14, learning_rate='constant',\n",
      "       learning_rate_init=0.001, max_iter=200, momentum=0.9,\n",
      "       nesterovs_momentum=True, power_t=0.5, random_state=0, shuffle=True,\n",
      "       solver='lbfgs', tol=0.0001, validation_fraction=0.1, verbose=False,\n",
      "       warm_start=False)\n"
     ]
    },
    {
     "data": {
      "image/png": "[encoded data removed]",
      "text/plain": [
       "<Figure size 432x288 with 1 Axes>"
      ]
     },
     "metadata": {},
     "output_type": "display_data"
    },
    {
     "name": "stdout",
     "output_type": "stream",
     "text": [
      "mass= 1250\n",
      "B_tag_train_prop \n",
      " 2.0    100.0\n",
      "dtype: float64\n",
      "X_train_shape (9300, 27)\n",
      "X_test_shape (4650, 27)\n",
      "Fitting 5 folds for each of 50 candidates, totalling 250 fits\n"
     ]
    },
    {
     "name": "stderr",
     "output_type": "stream",
     "text": [
      "[Parallel(n_jobs=-1)]: Done  18 tasks      | elapsed:  1.7min\n",
      "[Parallel(n_jobs=-1)]: Done 168 tasks      | elapsed: 14.6min\n",
      "[Parallel(n_jobs=-1)]: Done 250 out of 250 | elapsed: 20.6min finished\n"
     ]
    },
    {
     "name": "stdout",
     "output_type": "stream",
     "text": [
      "MLPClassifier(activation='relu', alpha=1e-05, batch_size='auto', beta_1=0.9,\n",
      "       beta_2=0.999, early_stopping=False, epsilon=1e-08,\n",
      "       hidden_layer_sizes=14, learning_rate='constant',\n",
      "       learning_rate_init=0.001, max_iter=200, momentum=0.9,\n",
      "       nesterovs_momentum=True, power_t=0.5, random_state=0, shuffle=True,\n",
      "       solver='lbfgs', tol=0.0001, validation_fraction=0.1, verbose=False,\n",
      "       warm_start=False)\n"
     ]
    },
    {
     "data": {
      "image/png": "[encoded data removed]",
      "text/plain": [
       "<Figure size 432x288 with 1 Axes>"
      ]
     },
     "metadata": {},
     "output_type": "display_data"
    },
    {
     "name": "stdout",
     "output_type": "stream",
     "text": [
      "mass= 1500\n",
      "B_tag_train_prop \n",
      " 2.0    100.0\n",
      "dtype: float64\n",
      "X_train_shape (9300, 27)\n",
      "X_test_shape (4650, 27)\n",
      "Fitting 5 folds for each of 50 candidates, totalling 250 fits\n"
     ]
    },
    {
     "name": "stderr",
     "output_type": "stream",
     "text": [
      "[Parallel(n_jobs=-1)]: Done  18 tasks      | elapsed:  1.7min\n",
      "[Parallel(n_jobs=-1)]: Done 168 tasks      | elapsed: 12.6min\n",
      "[Parallel(n_jobs=-1)]: Done 250 out of 250 | elapsed: 17.7min finished\n"
     ]
    },
    {
     "name": "stdout",
     "output_type": "stream",
     "text": [
      "MLPClassifier(activation='relu', alpha=1e-05, batch_size='auto', beta_1=0.9,\n",
      "       beta_2=0.999, early_stopping=False, epsilon=1e-08,\n",
      "       hidden_layer_sizes=11, learning_rate='constant',\n",
      "       learning_rate_init=0.001, max_iter=200, momentum=0.9,\n",
      "       nesterovs_momentum=True, power_t=0.5, random_state=0, shuffle=True,\n",
      "       solver='lbfgs', tol=0.0001, validation_fraction=0.1, verbose=False,\n",
      "       warm_start=False)\n"
     ]
    },
    {
     "data": {
      "image/png": "[encoded data removed]",
      "text/plain": [
       "<Figure size 432x288 with 1 Axes>"
      ]
     },
     "metadata": {},
     "output_type": "display_data"
    },
    {
     "data": {
      "text/html": [
       "<div>\n",
       "<style scoped>\n",
       "    .dataframe tbody tr th:only-of-type {\n",
       "        vertical-align: middle;\n",
       "    }\n",
       "\n",
       "    .dataframe tbody tr th {\n",
       "        vertical-align: top;\n",
       "    }\n",
       "\n",
       "    .dataframe thead th {\n",
       "        text-align: right;\n",
       "    }\n",
       "</style>\n",
       "<table border=\"1\" class=\"dataframe\">\n",
       "  <thead>\n",
       "    <tr style=\"text-align: right;\">\n",
       "      <th></th>\n",
       "      <th>tn</th>\n",
       "      <th>fp</th>\n",
       "      <th>fn</th>\n",
       "      <th>tp</th>\n",
       "      <th>acc</th>\n",
       "      <th>prec</th>\n",
       "      <th>recall</th>\n",
       "      <th>F1_score</th>\n",
       "      <th>kappa_cohen</th>\n",
       "      <th>auc</th>\n",
       "    </tr>\n",
       "  </thead>\n",
       "  <tbody>\n",
       "    <tr>\n",
       "      <th>500</th>\n",
       "      <td>1437</td>\n",
       "      <td>933</td>\n",
       "      <td>810</td>\n",
       "      <td>1470</td>\n",
       "      <td>0.625161</td>\n",
       "      <td>0.611735</td>\n",
       "      <td>0.644737</td>\n",
       "      <td>0.627803</td>\n",
       "      <td>0.250809</td>\n",
       "      <td>0.672493</td>\n",
       "    </tr>\n",
       "    <tr>\n",
       "      <th>750</th>\n",
       "      <td>1852</td>\n",
       "      <td>439</td>\n",
       "      <td>304</td>\n",
       "      <td>2055</td>\n",
       "      <td>0.840215</td>\n",
       "      <td>0.823978</td>\n",
       "      <td>0.871132</td>\n",
       "      <td>0.846899</td>\n",
       "      <td>0.68009</td>\n",
       "      <td>0.905048</td>\n",
       "    </tr>\n",
       "    <tr>\n",
       "      <th>1000</th>\n",
       "      <td>2062</td>\n",
       "      <td>259</td>\n",
       "      <td>144</td>\n",
       "      <td>2185</td>\n",
       "      <td>0.913333</td>\n",
       "      <td>0.894026</td>\n",
       "      <td>0.938171</td>\n",
       "      <td>0.915567</td>\n",
       "      <td>0.826651</td>\n",
       "      <td>0.96821</td>\n",
       "    </tr>\n",
       "    <tr>\n",
       "      <th>1250</th>\n",
       "      <td>2163</td>\n",
       "      <td>147</td>\n",
       "      <td>97</td>\n",
       "      <td>2243</td>\n",
       "      <td>0.947527</td>\n",
       "      <td>0.938494</td>\n",
       "      <td>0.958547</td>\n",
       "      <td>0.948414</td>\n",
       "      <td>0.895035</td>\n",
       "      <td>0.987975</td>\n",
       "    </tr>\n",
       "    <tr>\n",
       "      <th>1500</th>\n",
       "      <td>2151</td>\n",
       "      <td>108</td>\n",
       "      <td>87</td>\n",
       "      <td>2304</td>\n",
       "      <td>0.958065</td>\n",
       "      <td>0.955224</td>\n",
       "      <td>0.963614</td>\n",
       "      <td>0.9594</td>\n",
       "      <td>0.91604</td>\n",
       "      <td>0.991705</td>\n",
       "    </tr>\n",
       "  </tbody>\n",
       "</table>\n",
       "</div>"
      ],
      "text/plain": [
       "        tn   fp   fn    tp       acc      prec    recall  F1_score  \\\n",
       "500   1437  933  810  1470  0.625161  0.611735  0.644737  0.627803   \n",
       "750   1852  439  304  2055  0.840215  0.823978  0.871132  0.846899   \n",
       "1000  2062  259  144  2185  0.913333  0.894026  0.938171  0.915567   \n",
       "1250  2163  147   97  2243  0.947527  0.938494  0.958547  0.948414   \n",
       "1500  2151  108   87  2304  0.958065  0.955224  0.963614    0.9594   \n",
       "\n",
       "     kappa_cohen       auc  \n",
       "500     0.250809  0.672493  \n",
       "750      0.68009  0.905048  \n",
       "1000    0.826651   0.96821  \n",
       "1250    0.895035  0.987975  \n",
       "1500     0.91604  0.991705  "
      ]
     },
     "metadata": {},
     "output_type": "display_data"
    },
    {
     "name": "stdout",
     "output_type": "stream",
     "text": [
      "BTAG = orig\n",
      "mass= 500\n",
      "B_tag_train_prop \n",
      " 2.0    86.471414\n",
      "1.0    12.954186\n",
      "0.0     0.574400\n",
      "dtype: float64\n",
      "X_train_shape (9300, 27)\n",
      "X_test_shape (4650, 27)\n",
      "Fitting 5 folds for each of 50 candidates, totalling 250 fits\n"
     ]
    },
    {
     "name": "stderr",
     "output_type": "stream",
     "text": [
      "[Parallel(n_jobs=-1)]: Done  18 tasks      | elapsed:  1.7min\n",
      "[Parallel(n_jobs=-1)]: Done 168 tasks      | elapsed: 16.0min\n",
      "[Parallel(n_jobs=-1)]: Done 250 out of 250 | elapsed: 24.0min finished\n"
     ]
    },
    {
     "name": "stdout",
     "output_type": "stream",
     "text": [
      "MLPClassifier(activation='relu', alpha=1e-05, batch_size='auto', beta_1=0.9,\n",
      "       beta_2=0.999, early_stopping=False, epsilon=1e-08,\n",
      "       hidden_layer_sizes=13, learning_rate='constant',\n",
      "       learning_rate_init=0.001, max_iter=200, momentum=0.9,\n",
      "       nesterovs_momentum=True, power_t=0.5, random_state=0, shuffle=True,\n",
      "       solver='lbfgs', tol=0.0001, validation_fraction=0.1, verbose=False,\n",
      "       warm_start=False)\n"
     ]
    },
    {
     "data": {
      "image/png": "[encoded data removed]",
      "text/plain": [
       "<Figure size 432x288 with 1 Axes>"
      ]
     },
     "metadata": {},
     "output_type": "display_data"
    },
    {
     "name": "stdout",
     "output_type": "stream",
     "text": [
      "mass= 750\n",
      "B_tag_train_prop \n",
      " 2.0    86.471414\n",
      "1.0    12.954186\n",
      "0.0     0.574400\n",
      "dtype: float64\n",
      "X_train_shape (9300, 27)\n",
      "X_test_shape (4650, 27)\n",
      "Fitting 5 folds for each of 50 candidates, totalling 250 fits\n"
     ]
    },
    {
     "name": "stderr",
     "output_type": "stream",
     "text": [
      "[Parallel(n_jobs=-1)]: Done  18 tasks      | elapsed:  1.5min\n",
      "[Parallel(n_jobs=-1)]: Done 168 tasks      | elapsed: 15.0min\n",
      "[Parallel(n_jobs=-1)]: Done 250 out of 250 | elapsed: 22.5min finished\n"
     ]
    },
    {
     "name": "stdout",
     "output_type": "stream",
     "text": [
      "MLPClassifier(activation='relu', alpha=1e-05, batch_size='auto', beta_1=0.9,\n",
      "       beta_2=0.999, early_stopping=False, epsilon=1e-08,\n",
      "       hidden_layer_sizes=10, learning_rate='constant',\n",
      "       learning_rate_init=0.001, max_iter=600, momentum=0.9,\n",
      "       nesterovs_momentum=True, power_t=0.5, random_state=0, shuffle=True,\n",
      "       solver='lbfgs', tol=0.0001, validation_fraction=0.1, verbose=False,\n",
      "       warm_start=False)\n"
     ]
    },
    {
     "data": {
      "image/png": "[encoded data removed]",
      "text/plain": [
       "<Figure size 432x288 with 1 Axes>"
      ]
     },
     "metadata": {},
     "output_type": "display_data"
    },
    {
     "name": "stdout",
     "output_type": "stream",
     "text": [
      "mass= 1000\n",
      "B_tag_train_prop \n",
      " 2.0    86.471414\n",
      "1.0    12.954186\n",
      "0.0     0.574400\n",
      "dtype: float64\n",
      "X_train_shape (9300, 27)\n",
      "X_test_shape (4650, 27)\n",
      "Fitting 5 folds for each of 50 candidates, totalling 250 fits\n"
     ]
    },
    {
     "name": "stderr",
     "output_type": "stream",
     "text": [
      "[Parallel(n_jobs=-1)]: Done  18 tasks      | elapsed:  1.7min\n",
      "[Parallel(n_jobs=-1)]: Done 168 tasks      | elapsed: 14.9min\n",
      "[Parallel(n_jobs=-1)]: Done 250 out of 250 | elapsed: 22.3min finished\n"
     ]
    },
    {
     "name": "stdout",
     "output_type": "stream",
     "text": [
      "MLPClassifier(activation='relu', alpha=1e-05, batch_size='auto', beta_1=0.9,\n",
      "       beta_2=0.999, early_stopping=False, epsilon=1e-08,\n",
      "       hidden_layer_sizes=13, learning_rate='constant',\n",
      "       learning_rate_init=0.001, max_iter=200, momentum=0.9,\n",
      "       nesterovs_momentum=True, power_t=0.5, random_state=0, shuffle=True,\n",
      "       solver='lbfgs', tol=0.0001, validation_fraction=0.1, verbose=False,\n",
      "       warm_start=False)\n"
     ]
    },
    {
     "data": {
      "image/png": "[encoded data removed]",
      "text/plain": [
       "<Figure size 432x288 with 1 Axes>"
      ]
     },
     "metadata": {},
     "output_type": "display_data"
    },
    {
     "name": "stdout",
     "output_type": "stream",
     "text": [
      "mass= 1250\n",
      "B_tag_train_prop \n",
      " 2.0    86.471414\n",
      "1.0    12.954186\n",
      "0.0     0.574400\n",
      "dtype: float64\n",
      "X_train_shape (9300, 27)\n",
      "X_test_shape (4650, 27)\n",
      "Fitting 5 folds for each of 50 candidates, totalling 250 fits\n"
     ]
    },
    {
     "name": "stderr",
     "output_type": "stream",
     "text": [
      "[Parallel(n_jobs=-1)]: Done  18 tasks      | elapsed:  1.7min\n",
      "[Parallel(n_jobs=-1)]: Done 168 tasks      | elapsed: 14.0min\n",
      "[Parallel(n_jobs=-1)]: Done 250 out of 250 | elapsed: 20.6min finished\n"
     ]
    },
    {
     "name": "stdout",
     "output_type": "stream",
     "text": [
      "MLPClassifier(activation='relu', alpha=0.0001, batch_size='auto', beta_1=0.9,\n",
      "       beta_2=0.999, early_stopping=False, epsilon=1e-08,\n",
      "       hidden_layer_sizes=14, learning_rate='constant',\n",
      "       learning_rate_init=0.001, max_iter=1400, momentum=0.9,\n",
      "       nesterovs_momentum=True, power_t=0.5, random_state=0, shuffle=True,\n",
      "       solver='lbfgs', tol=0.0001, validation_fraction=0.1, verbose=False,\n",
      "       warm_start=False)\n"
     ]
    },
    {
     "data": {
      "image/png": "[encoded data removed]",
      "text/plain": [
       "<Figure size 432x288 with 1 Axes>"
      ]
     },
     "metadata": {},
     "output_type": "display_data"
    },
    {
     "name": "stdout",
     "output_type": "stream",
     "text": [
      "mass= 1500\n",
      "B_tag_train_prop \n",
      " 2.0    86.471414\n",
      "1.0    12.954186\n",
      "0.0     0.574400\n",
      "dtype: float64\n",
      "X_train_shape (9300, 27)\n",
      "X_test_shape (4650, 27)\n",
      "Fitting 5 folds for each of 50 candidates, totalling 250 fits\n"
     ]
    },
    {
     "name": "stderr",
     "output_type": "stream",
     "text": [
      "[Parallel(n_jobs=-1)]: Done  18 tasks      | elapsed:  1.7min\n",
      "[Parallel(n_jobs=-1)]: Done 168 tasks      | elapsed: 13.4min\n",
      "[Parallel(n_jobs=-1)]: Done 250 out of 250 | elapsed: 20.4min finished\n"
     ]
    },
    {
     "name": "stdout",
     "output_type": "stream",
     "text": [
      "MLPClassifier(activation='relu', alpha=0.0001, batch_size='auto', beta_1=0.9,\n",
      "       beta_2=0.999, early_stopping=False, epsilon=1e-08,\n",
      "       hidden_layer_sizes=14, learning_rate='constant',\n",
      "       learning_rate_init=0.001, max_iter=200, momentum=0.9,\n",
      "       nesterovs_momentum=True, power_t=0.5, random_state=0, shuffle=True,\n",
      "       solver='lbfgs', tol=0.0001, validation_fraction=0.1, verbose=False,\n",
      "       warm_start=False)\n"
     ]
    },
    {
     "data": {
      "image/png": "[encoded data removed]",
      "text/plain": [
       "<Figure size 432x288 with 1 Axes>"
      ]
     },
     "metadata": {},
     "output_type": "display_data"
    },
    {
     "data": {
      "text/html": [
       "<div>\n",
       "<style scoped>\n",
       "    .dataframe tbody tr th:only-of-type {\n",
       "        vertical-align: middle;\n",
       "    }\n",
       "\n",
       "    .dataframe tbody tr th {\n",
       "        vertical-align: top;\n",
       "    }\n",
       "\n",
       "    .dataframe thead th {\n",
       "        text-align: right;\n",
       "    }\n",
       "</style>\n",
       "<table border=\"1\" class=\"dataframe\">\n",
       "  <thead>\n",
       "    <tr style=\"text-align: right;\">\n",
       "      <th></th>\n",
       "      <th>tn</th>\n",
       "      <th>fp</th>\n",
       "      <th>fn</th>\n",
       "      <th>tp</th>\n",
       "      <th>acc</th>\n",
       "      <th>prec</th>\n",
       "      <th>recall</th>\n",
       "      <th>F1_score</th>\n",
       "      <th>kappa_cohen</th>\n",
       "      <th>auc</th>\n",
       "    </tr>\n",
       "  </thead>\n",
       "  <tbody>\n",
       "    <tr>\n",
       "      <th>500</th>\n",
       "      <td>1272</td>\n",
       "      <td>1098</td>\n",
       "      <td>646</td>\n",
       "      <td>1634</td>\n",
       "      <td>0.624946</td>\n",
       "      <td>0.598097</td>\n",
       "      <td>0.716667</td>\n",
       "      <td>0.652035</td>\n",
       "      <td>0.252425</td>\n",
       "      <td>0.66874</td>\n",
       "    </tr>\n",
       "    <tr>\n",
       "      <th>750</th>\n",
       "      <td>1837</td>\n",
       "      <td>454</td>\n",
       "      <td>280</td>\n",
       "      <td>2079</td>\n",
       "      <td>0.842151</td>\n",
       "      <td>0.820766</td>\n",
       "      <td>0.881306</td>\n",
       "      <td>0.849959</td>\n",
       "      <td>0.683888</td>\n",
       "      <td>0.904599</td>\n",
       "    </tr>\n",
       "    <tr>\n",
       "      <th>1000</th>\n",
       "      <td>2094</td>\n",
       "      <td>227</td>\n",
       "      <td>162</td>\n",
       "      <td>2167</td>\n",
       "      <td>0.916344</td>\n",
       "      <td>0.90518</td>\n",
       "      <td>0.930442</td>\n",
       "      <td>0.917637</td>\n",
       "      <td>0.83268</td>\n",
       "      <td>0.970143</td>\n",
       "    </tr>\n",
       "    <tr>\n",
       "      <th>1250</th>\n",
       "      <td>2165</td>\n",
       "      <td>145</td>\n",
       "      <td>99</td>\n",
       "      <td>2241</td>\n",
       "      <td>0.947527</td>\n",
       "      <td>0.939229</td>\n",
       "      <td>0.957692</td>\n",
       "      <td>0.948371</td>\n",
       "      <td>0.895036</td>\n",
       "      <td>0.987961</td>\n",
       "    </tr>\n",
       "    <tr>\n",
       "      <th>1500</th>\n",
       "      <td>2158</td>\n",
       "      <td>101</td>\n",
       "      <td>83</td>\n",
       "      <td>2308</td>\n",
       "      <td>0.96043</td>\n",
       "      <td>0.958074</td>\n",
       "      <td>0.965286</td>\n",
       "      <td>0.961667</td>\n",
       "      <td>0.920779</td>\n",
       "      <td>0.990783</td>\n",
       "    </tr>\n",
       "  </tbody>\n",
       "</table>\n",
       "</div>"
      ],
      "text/plain": [
       "        tn    fp   fn    tp       acc      prec    recall  F1_score  \\\n",
       "500   1272  1098  646  1634  0.624946  0.598097  0.716667  0.652035   \n",
       "750   1837   454  280  2079  0.842151  0.820766  0.881306  0.849959   \n",
       "1000  2094   227  162  2167  0.916344   0.90518  0.930442  0.917637   \n",
       "1250  2165   145   99  2241  0.947527  0.939229  0.957692  0.948371   \n",
       "1500  2158   101   83  2308   0.96043  0.958074  0.965286  0.961667   \n",
       "\n",
       "     kappa_cohen       auc  \n",
       "500     0.252425   0.66874  \n",
       "750     0.683888  0.904599  \n",
       "1000     0.83268  0.970143  \n",
       "1250    0.895036  0.987961  \n",
       "1500    0.920779  0.990783  "
      ]
     },
     "metadata": {},
     "output_type": "display_data"
    },
    {
     "name": "stdout",
     "output_type": "stream",
     "text": [
      "BTAG = real\n",
      "mass= 500\n",
      "B_tag_train_prop \n",
      " 2.0    65.0\n",
      "1.0    33.0\n",
      "0.0     2.0\n",
      "dtype: float64\n",
      "X_train_shape (9300, 27)\n",
      "X_test_shape (4650, 27)\n",
      "Fitting 5 folds for each of 50 candidates, totalling 250 fits\n"
     ]
    },
    {
     "name": "stderr",
     "output_type": "stream",
     "text": [
      "[Parallel(n_jobs=-1)]: Done  18 tasks      | elapsed:  1.8min\n",
      "[Parallel(n_jobs=-1)]: Done 168 tasks      | elapsed: 15.6min\n",
      "[Parallel(n_jobs=-1)]: Done 250 out of 250 | elapsed: 23.6min finished\n"
     ]
    },
    {
     "name": "stdout",
     "output_type": "stream",
     "text": [
      "MLPClassifier(activation='relu', alpha=0.0001, batch_size='auto', beta_1=0.9,\n",
      "       beta_2=0.999, early_stopping=False, epsilon=1e-08,\n",
      "       hidden_layer_sizes=11, learning_rate='constant',\n",
      "       learning_rate_init=0.001, max_iter=1800, momentum=0.9,\n",
      "       nesterovs_momentum=True, power_t=0.5, random_state=0, shuffle=True,\n",
      "       solver='lbfgs', tol=0.0001, validation_fraction=0.1, verbose=False,\n",
      "       warm_start=False)\n"
     ]
    },
    {
     "data": {
      "image/png": "[encoded data removed]",
      "text/plain": [
       "<Figure size 432x288 with 1 Axes>"
      ]
     },
     "metadata": {},
     "output_type": "display_data"
    },
    {
     "name": "stdout",
     "output_type": "stream",
     "text": [
      "mass= 750\n",
      "B_tag_train_prop \n",
      " 2.0    65.0\n",
      "1.0    33.0\n",
      "0.0     2.0\n",
      "dtype: float64\n",
      "X_train_shape (9300, 27)\n",
      "X_test_shape (4650, 27)\n",
      "Fitting 5 folds for each of 50 candidates, totalling 250 fits\n"
     ]
    },
    {
     "name": "stderr",
     "output_type": "stream",
     "text": [
      "[Parallel(n_jobs=-1)]: Done  18 tasks      | elapsed:  1.7min\n",
      "[Parallel(n_jobs=-1)]: Done 168 tasks      | elapsed: 14.8min\n",
      "[Parallel(n_jobs=-1)]: Done 250 out of 250 | elapsed: 22.6min finished\n"
     ]
    },
    {
     "name": "stdout",
     "output_type": "stream",
     "text": [
      "MLPClassifier(activation='relu', alpha=0.0001, batch_size='auto', beta_1=0.9,\n",
      "       beta_2=0.999, early_stopping=False, epsilon=1e-08,\n",
      "       hidden_layer_sizes=11, learning_rate='constant',\n",
      "       learning_rate_init=0.001, max_iter=200, momentum=0.9,\n",
      "       nesterovs_momentum=True, power_t=0.5, random_state=0, shuffle=True,\n",
      "       solver='lbfgs', tol=0.0001, validation_fraction=0.1, verbose=False,\n",
      "       warm_start=False)\n"
     ]
    },
    {
     "data": {
      "image/png": "[encoded data removed]",
      "text/plain": [
       "<Figure size 432x288 with 1 Axes>"
      ]
     },
     "metadata": {},
     "output_type": "display_data"
    },
    {
     "name": "stdout",
     "output_type": "stream",
     "text": [
      "mass= 1000\n",
      "B_tag_train_prop \n",
      " 2.0    65.0\n",
      "1.0    33.0\n",
      "0.0     2.0\n",
      "dtype: float64\n",
      "X_train_shape (9300, 27)\n",
      "X_test_shape (4650, 27)\n",
      "Fitting 5 folds for each of 50 candidates, totalling 250 fits\n"
     ]
    },
    {
     "name": "stderr",
     "output_type": "stream",
     "text": [
      "[Parallel(n_jobs=-1)]: Done  18 tasks      | elapsed:  1.7min\n",
      "[Parallel(n_jobs=-1)]: Done 168 tasks      | elapsed: 14.8min\n",
      "[Parallel(n_jobs=-1)]: Done 250 out of 250 | elapsed: 21.7min finished\n"
     ]
    },
    {
     "name": "stdout",
     "output_type": "stream",
     "text": [
      "MLPClassifier(activation='relu', alpha=1e-05, batch_size='auto', beta_1=0.9,\n",
      "       beta_2=0.999, early_stopping=False, epsilon=1e-08,\n",
      "       hidden_layer_sizes=14, learning_rate='constant',\n",
      "       learning_rate_init=0.001, max_iter=1800, momentum=0.9,\n",
      "       nesterovs_momentum=True, power_t=0.5, random_state=0, shuffle=True,\n",
      "       solver='lbfgs', tol=0.0001, validation_fraction=0.1, verbose=False,\n",
      "       warm_start=False)\n"
     ]
    },
    {
     "data": {
      "image/png": "[encoded data removed]",
      "text/plain": [
       "<Figure size 432x288 with 1 Axes>"
      ]
     },
     "metadata": {},
     "output_type": "display_data"
    },
    {
     "name": "stdout",
     "output_type": "stream",
     "text": [
      "mass= 1250\n",
      "B_tag_train_prop \n",
      " 2.0    65.0\n",
      "1.0    33.0\n",
      "0.0     2.0\n",
      "dtype: float64\n",
      "X_train_shape (9300, 27)\n",
      "X_test_shape (4650, 27)\n",
      "Fitting 5 folds for each of 50 candidates, totalling 250 fits\n"
     ]
    },
    {
     "name": "stderr",
     "output_type": "stream",
     "text": [
      "[Parallel(n_jobs=-1)]: Done  18 tasks      | elapsed:  1.7min\n",
      "[Parallel(n_jobs=-1)]: Done 168 tasks      | elapsed: 14.1min\n",
      "[Parallel(n_jobs=-1)]: Done 250 out of 250 | elapsed: 21.3min finished\n"
     ]
    },
    {
     "name": "stdout",
     "output_type": "stream",
     "text": [
      "MLPClassifier(activation='relu', alpha=1e-05, batch_size='auto', beta_1=0.9,\n",
      "       beta_2=0.999, early_stopping=False, epsilon=1e-08,\n",
      "       hidden_layer_sizes=13, learning_rate='constant',\n",
      "       learning_rate_init=0.001, max_iter=1400, momentum=0.9,\n",
      "       nesterovs_momentum=True, power_t=0.5, random_state=0, shuffle=True,\n",
      "       solver='lbfgs', tol=0.0001, validation_fraction=0.1, verbose=False,\n",
      "       warm_start=False)\n"
     ]
    },
    {
     "data": {
      "image/png": "[encoded data removed]",
      "text/plain": [
       "<Figure size 432x288 with 1 Axes>"
      ]
     },
     "metadata": {},
     "output_type": "display_data"
    },
    {
     "name": "stdout",
     "output_type": "stream",
     "text": [
      "mass= 1500\n",
      "B_tag_train_prop \n",
      " 2.0    65.0\n",
      "1.0    33.0\n",
      "0.0     2.0\n",
      "dtype: float64\n",
      "X_train_shape (9300, 27)\n",
      "X_test_shape (4650, 27)\n",
      "Fitting 5 folds for each of 50 candidates, totalling 250 fits\n"
     ]
    },
    {
     "name": "stderr",
     "output_type": "stream",
     "text": [
      "[Parallel(n_jobs=-1)]: Done  18 tasks      | elapsed:  1.7min\n",
      "[Parallel(n_jobs=-1)]: Done 168 tasks      | elapsed: 14.0min\n",
      "[Parallel(n_jobs=-1)]: Done 250 out of 250 | elapsed: 20.5min finished\n"
     ]
    },
    {
     "name": "stdout",
     "output_type": "stream",
     "text": [
      "MLPClassifier(activation='relu', alpha=1e-05, batch_size='auto', beta_1=0.9,\n",
      "       beta_2=0.999, early_stopping=False, epsilon=1e-08,\n",
      "       hidden_layer_sizes=11, learning_rate='constant',\n",
      "       learning_rate_init=0.001, max_iter=200, momentum=0.9,\n",
      "       nesterovs_momentum=True, power_t=0.5, random_state=0, shuffle=True,\n",
      "       solver='lbfgs', tol=0.0001, validation_fraction=0.1, verbose=False,\n",
      "       warm_start=False)\n"
     ]
    },
    {
     "data": {
      "image/png": "[encoded data removed]",
      "text/plain": [
       "<Figure size 432x288 with 1 Axes>"
      ]
     },
     "metadata": {},
     "output_type": "display_data"
    },
    {
     "data": {
      "text/html": [
       "<div>\n",
       "<style scoped>\n",
       "    .dataframe tbody tr th:only-of-type {\n",
       "        vertical-align: middle;\n",
       "    }\n",
       "\n",
       "    .dataframe tbody tr th {\n",
       "        vertical-align: top;\n",
       "    }\n",
       "\n",
       "    .dataframe thead th {\n",
       "        text-align: right;\n",
       "    }\n",
       "</style>\n",
       "<table border=\"1\" class=\"dataframe\">\n",
       "  <thead>\n",
       "    <tr style=\"text-align: right;\">\n",
       "      <th></th>\n",
       "      <th>tn</th>\n",
       "      <th>fp</th>\n",
       "      <th>fn</th>\n",
       "      <th>tp</th>\n",
       "      <th>acc</th>\n",
       "      <th>prec</th>\n",
       "      <th>recall</th>\n",
       "      <th>F1_score</th>\n",
       "      <th>kappa_cohen</th>\n",
       "      <th>auc</th>\n",
       "    </tr>\n",
       "  </thead>\n",
       "  <tbody>\n",
       "    <tr>\n",
       "      <th>500</th>\n",
       "      <td>1529</td>\n",
       "      <td>841</td>\n",
       "      <td>886</td>\n",
       "      <td>1394</td>\n",
       "      <td>0.628602</td>\n",
       "      <td>0.623714</td>\n",
       "      <td>0.611404</td>\n",
       "      <td>0.617497</td>\n",
       "      <td>0.256647</td>\n",
       "      <td>0.681418</td>\n",
       "    </tr>\n",
       "    <tr>\n",
       "      <th>750</th>\n",
       "      <td>1835</td>\n",
       "      <td>456</td>\n",
       "      <td>288</td>\n",
       "      <td>2071</td>\n",
       "      <td>0.84</td>\n",
       "      <td>0.819549</td>\n",
       "      <td>0.877914</td>\n",
       "      <td>0.847728</td>\n",
       "      <td>0.679593</td>\n",
       "      <td>0.906591</td>\n",
       "    </tr>\n",
       "    <tr>\n",
       "      <th>1000</th>\n",
       "      <td>2093</td>\n",
       "      <td>228</td>\n",
       "      <td>174</td>\n",
       "      <td>2155</td>\n",
       "      <td>0.913548</td>\n",
       "      <td>0.904322</td>\n",
       "      <td>0.92529</td>\n",
       "      <td>0.914686</td>\n",
       "      <td>0.827089</td>\n",
       "      <td>0.967138</td>\n",
       "    </tr>\n",
       "    <tr>\n",
       "      <th>1250</th>\n",
       "      <td>2169</td>\n",
       "      <td>141</td>\n",
       "      <td>99</td>\n",
       "      <td>2241</td>\n",
       "      <td>0.948387</td>\n",
       "      <td>0.940806</td>\n",
       "      <td>0.957692</td>\n",
       "      <td>0.949174</td>\n",
       "      <td>0.896758</td>\n",
       "      <td>0.987249</td>\n",
       "    </tr>\n",
       "    <tr>\n",
       "      <th>1500</th>\n",
       "      <td>2155</td>\n",
       "      <td>104</td>\n",
       "      <td>73</td>\n",
       "      <td>2318</td>\n",
       "      <td>0.961935</td>\n",
       "      <td>0.95706</td>\n",
       "      <td>0.969469</td>\n",
       "      <td>0.963225</td>\n",
       "      <td>0.923781</td>\n",
       "      <td>0.991343</td>\n",
       "    </tr>\n",
       "  </tbody>\n",
       "</table>\n",
       "</div>"
      ],
      "text/plain": [
       "        tn   fp   fn    tp       acc      prec    recall  F1_score  \\\n",
       "500   1529  841  886  1394  0.628602  0.623714  0.611404  0.617497   \n",
       "750   1835  456  288  2071      0.84  0.819549  0.877914  0.847728   \n",
       "1000  2093  228  174  2155  0.913548  0.904322   0.92529  0.914686   \n",
       "1250  2169  141   99  2241  0.948387  0.940806  0.957692  0.949174   \n",
       "1500  2155  104   73  2318  0.961935   0.95706  0.969469  0.963225   \n",
       "\n",
       "     kappa_cohen       auc  \n",
       "500     0.256647  0.681418  \n",
       "750     0.679593  0.906591  \n",
       "1000    0.827089  0.967138  \n",
       "1250    0.896758  0.987249  \n",
       "1500    0.923781  0.991343  "
      ]
     },
     "metadata": {},
     "output_type": "display_data"
    },
    {
     "data": {
      "text/plain": [
       "<Figure size 432x288 with 0 Axes>"
      ]
     },
     "metadata": {},
     "output_type": "display_data"
    }
   ],
   "source": [
    "#Metric df: \n",
    "\n",
    "\n",
    "#CONSTRUCCIÓN DATAFRAME\n",
    "\n",
    "    \n",
    "for btag in [\"all0\",\"all1\",\"all2\",\"orig\",\"real\",]:\n",
    "    \n",
    "    df_metrics = pd.DataFrame(index=[500,750,1000,1250,1500], columns=[\"tn\", \"fp\", \"fn\", \"tp\", \"acc\", \"prec\",\"recall\",\n",
    "                                                                   \"F1_score\",\"kappa_cohen\",\"auc\"])\n",
    "    print(\"BTAG =\", btag)\n",
    "    \n",
    "    df_btag=df.copy()\n",
    "    \n",
    "    if btag==\"all0\":\n",
    "        df_btag=df_btag[df_btag.loc[:,['jet1_btag','jet2_btag',\"jet3_btag\",\"jet4_btag\"]].sum(axis=1)==0]\n",
    "    elif btag==\"all1\":\n",
    "        df_btag=df_btag[df_btag.loc[:,['jet1_btag','jet2_btag',\"jet3_btag\",\"jet4_btag\"]].sum(axis=1)==1]\n",
    "        df_btag=df_btag.sample(df_btag.shape[0], random_state=1).reset_index(drop=True)\n",
    "    elif btag==\"all2\":                          \n",
    "        df_btag=df_btag[df_btag.loc[:,['jet1_btag','jet2_btag',\"jet3_btag\",\"jet4_btag\"]].sum(axis=1)==2]\n",
    "        df_btag=df_btag.sample(df_btag.shape[0], random_state=1).reset_index(drop=True)\n",
    "\n",
    "    elif btag==\"orig\":                          \n",
    "        df_btag=df_btag.sample(df_btag.shape[0], random_state=1).reset_index(drop=True)\n",
    "\n",
    "    elif btag==\"real\": #65,33,2\n",
    "        df0=df_btag[df_btag.loc[:,['jet1_btag','jet2_btag',\"jet3_btag\",\"jet4_btag\"]].sum(axis=1)==0]\n",
    "        df1=df_btag[df_btag.loc[:,['jet1_btag','jet2_btag',\"jet3_btag\",\"jet4_btag\"]].sum(axis=1)==1].sample(n=int(df0.shape[0]*(33/2)), random_state=1, replace=False)\n",
    "        df2=df_btag[df_btag.loc[:,['jet1_btag','jet2_btag',\"jet3_btag\",\"jet4_btag\"]].sum(axis=1)==2].sample(n=int(df0.shape[0]*(65/2)), random_state=1, replace=False)\n",
    "        frames = [df1, df2, df0]\n",
    "        df_btag = pd.concat(frames)\n",
    "        df_btag=df_btag.sample(df_btag.shape[0], random_state=1).reset_index(drop=True)\n",
    "\n",
    "\n",
    "    for i in (500,750,1000,1250,1500):\n",
    "\n",
    "        print('mass=', i )\n",
    "\n",
    "        dfmass1000=df_btag.loc[df_btag['mass'] == i]\n",
    "        dfmass0=df_btag.loc[df_btag['mass'] == 0].sample(n=dfmass1000.shape[0], random_state=1, replace=False)        #0 same size of dfmass1000\n",
    "        dfmass1000=pd.concat([dfmass1000, dfmass0]).sample(frac=1).reset_index(drop=True)    #concatenating and shuffling\n",
    "        dfmass1000=dfmass1000.drop('mass', axis=1) \n",
    "\n",
    "        #test\n",
    "\n",
    "        \n",
    "        #test\n",
    "        dfmass1000test=df_originaltest.loc[df_originaltest['mass'] == i]\n",
    "        dfmass0test=df_originaltest.loc[df_originaltest['mass'] == 0].sample(random_state=1,n=dfmass1000test.shape[0])\n",
    "        np.random.seed(1)\n",
    "        dfmass1000test=pd.concat([dfmass1000test, dfmass0test]).sample(frac=1).reset_index(drop=True)\n",
    "        dfmass1000test=dfmass1000test.drop('mass', axis=1)\n",
    "        \n",
    "\n",
    "\n",
    "        dfmass1000=dfmass1000.sample(n=9300, random_state=1)\n",
    "        dfmass1000test=dfmass1000test.sample(n=4650, random_state=1)\n",
    "        \n",
    "        print(\"B_tag_train_prop\", \"\\n\" ,df_btag.loc[:,['jet1_btag','jet2_btag',\"jet3_btag\",\"jet4_btag\"]].sum(axis=1).value_counts()/df_btag.shape[0]*100)\n",
    "\n",
    "\n",
    "        X_train=dfmass1000.drop(['label'], axis=1)\n",
    "        y_train=dfmass1000.label\n",
    "\n",
    "        X_test=dfmass1000test.drop(['label'], axis=1)\n",
    "        y_test=dfmass1000test.label\n",
    "\n",
    "        print(\"X_train_shape\",X_train.shape)\n",
    "        print(\"X_test_shape\",X_test.shape)\n",
    "\n",
    "\n",
    "        grid,best_model,y_pred,y_pred_proba = model(X_train,y_train,X_test)\n",
    "        print(best_model)\n",
    "\n",
    "\n",
    "    #Roc curve construction\n",
    "\n",
    "        fpr, tpr, _ = metrics.roc_curve(y_test,  y_pred_proba)\n",
    "        auc = metrics.roc_auc_score(y_test, y_pred_proba)\n",
    "        plt.plot(fpr,tpr,label=\"data 1, auc=\"+str(auc))\n",
    "        plt.legend(loc=4)\n",
    "        #plt.savefig(cwd2+'MASS=' + str(i) + 'ROC.png')\n",
    "        plt.show()\n",
    "        plt.clf() \n",
    "\n",
    "    #METRICS \n",
    "\n",
    "        tn, fp, fn, tp, acc, prec,recall, F1_score,kappa_cohen=Scores(y_test,y_pred)\n",
    "\n",
    "        df_metrics.tn[i]=tn\n",
    "        df_metrics.fp[i]=fp\n",
    "        df_metrics.fn[i]=fn\n",
    "        df_metrics.tp[i]=tp\n",
    "        df_metrics.acc[i]=acc\n",
    "        df_metrics.prec[i]=prec\n",
    "        df_metrics.recall[i]=recall\n",
    "        df_metrics.F1_score[i]=F1_score\n",
    "        df_metrics.kappa_cohen[i]=kappa_cohen\n",
    "        df_metrics.auc[i]=auc\n",
    "\n",
    "\n",
    "    display(df_metrics)"
   ]
  },
  {
   "cell_type": "code",
   "execution_count": 10,
   "metadata": {},
   "outputs": [
    {
     "data": {
      "text/plain": [
       "'print(X_train.shape)\\nprint(X_test.shape)\\ny_test.value_counts()'"
      ]
     },
     "execution_count": 10,
     "metadata": {},
     "output_type": "execute_result"
    }
   ],
   "source": [
    "'''print(X_train.shape)\n",
    "print(X_test.shape)\n",
    "y_test.value_counts()'''"
   ]
  },
  {
   "cell_type": "code",
   "execution_count": null,
   "metadata": {},
   "outputs": [],
   "source": []
  },
  {
   "cell_type": "code",
   "execution_count": 11,
   "metadata": {
    "scrolled": false
   },
   "outputs": [
    {
     "data": {
      "text/plain": [
       "'fig, ax = plt.subplots()\\nax.plot([\"500\",\"750\",\"1000\",\"1250\",\"1500\"], df_metrics[\"accuracy\"], label=\"accuracy\")\\nax.plot([\"500\",\"750\",\"1000\",\"1250\",\"1500\"], df_metrics[\"sensitibity\"], label=\"sensitibity\")\\nax.plot([\"500\",\"750\",\"1000\",\"1250\",\"1500\"], df_metrics[\"specifity\"], label=\"specifity\")\\nax.plot([\"500\",\"750\",\"1000\",\"1250\",\"1500\"], df_metrics[\"auc\"], label=\"auc\")\\nax.plot([\"500\",\"750\",\"1000\",\"1250\",\"1500\"], df_metrics[\"kappa\"], label=\"kappa\")\\n\\nax.set_xlabel(\\'mass\\')\\nax.set_ylabel(\\'Metric\\')\\nlegend = ax.legend(fontsize=\\'x-large\\')\\nplt.show()\\n#plt.savefig(cwd+ \\'metrics_comparation.png\\')'"
      ]
     },
     "execution_count": 11,
     "metadata": {},
     "output_type": "execute_result"
    }
   ],
   "source": [
    "'''fig, ax = plt.subplots()\n",
    "ax.plot([\"500\",\"750\",\"1000\",\"1250\",\"1500\"], df_metrics[\"accuracy\"], label=\"accuracy\")\n",
    "ax.plot([\"500\",\"750\",\"1000\",\"1250\",\"1500\"], df_metrics[\"sensitibity\"], label=\"sensitibity\")\n",
    "ax.plot([\"500\",\"750\",\"1000\",\"1250\",\"1500\"], df_metrics[\"specifity\"], label=\"specifity\")\n",
    "ax.plot([\"500\",\"750\",\"1000\",\"1250\",\"1500\"], df_metrics[\"auc\"], label=\"auc\")\n",
    "ax.plot([\"500\",\"750\",\"1000\",\"1250\",\"1500\"], df_metrics[\"kappa\"], label=\"kappa\")\n",
    "\n",
    "ax.set_xlabel('mass')\n",
    "ax.set_ylabel('Metric')\n",
    "legend = ax.legend(fontsize='x-large')\n",
    "plt.show()\n",
    "#plt.savefig(cwd+ 'metrics_comparation.png')'''"
   ]
  },
  {
   "cell_type": "code",
   "execution_count": null,
   "metadata": {},
   "outputs": [],
   "source": []
  }
 ],
 "metadata": {
  "kernelspec": {
   "display_name": "Python 3",
   "language": "python",
   "name": "python3"
  },
  "language_info": {
   "codemirror_mode": {
    "name": "ipython",
    "version": 3
   },
   "file_extension": ".py",
   "mimetype": "text/x-python",
   "name": "python",
   "nbconvert_exporter": "python",
   "pygments_lexer": "ipython3",
   "version": "3.5.2"
  }
 },
 "nbformat": 4,
 "nbformat_minor": 2
}
