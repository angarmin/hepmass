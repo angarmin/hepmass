{
 "cells": [
  {
   "cell_type": "markdown",
   "metadata": {},
   "source": [
    "**Libraries**"
   ]
  },
  {
   "cell_type": "code",
   "execution_count": 64,
   "metadata": {},
   "outputs": [],
   "source": [
    "import pandas as pd\n",
    "import numpy as np\n",
    "\n",
    "import warnings\n",
    "\n",
    "import matplotlib as mpl\n",
    "import matplotlib.pyplot as plt\n",
    "import seaborn as sns\n",
    "from plotnine import *\n",
    "import joypy #el de las densidades guays\n",
    "\n",
    "from sklearn import manifold\n",
    "from sklearn.linear_model import LogisticRegression\n",
    "from sklearn.ensemble import RandomForestClassifier\n",
    "from sklearn.svm import SVC  \n",
    "\n",
    "\n",
    "from sklearn.model_selection import train_test_split\n",
    "from sklearn.model_selection import cross_val_score\n",
    "from sklearn.model_selection import GridSearchCV\n",
    "import os \n",
    "#cwd = os.getcwd()\n",
    "cwd=\"/home/angela/Notebook/machine_learning/normalizados/SVM/\"\n",
    "\n",
    "from sklearn import metrics\n",
    "\n",
    "\n",
    "warnings.filterwarnings('ignore') #ATENCION QUE ESTO CREO QUE FUNCIONA PARA TODO EL NOTEBOOK\n"
   ]
  },
  {
   "cell_type": "markdown",
   "metadata": {},
   "source": [
    "**LOAD**"
   ]
  },
  {
   "cell_type": "code",
   "execution_count": 65,
   "metadata": {},
   "outputs": [],
   "source": [
    "#ALL THE DATASET\n",
    "\n",
    "df=pd.read_pickle(\"/home/angela/Notebook/data/normalizados/trainpickle\")\n",
    "df_originaltest=pd.read_pickle(\"/home/angela/Notebook/data/normalizados/testpickle\")"
   ]
  },
  {
   "cell_type": "code",
   "execution_count": 66,
   "metadata": {},
   "outputs": [],
   "source": [
    "#SIMPLe DATASET\n",
    "#df=pd.read_pickle(\"/home/angela/Notebook/data/normalizados/trainsimplepickle\")\n",
    "#df_originaltest=pd.read_pickle(\"/home/angela/Notebook/data/normalizados/testsimplepickle\")\n"
   ]
  },
  {
   "cell_type": "markdown",
   "metadata": {},
   "source": [
    "# Machine learning"
   ]
  },
  {
   "cell_type": "markdown",
   "metadata": {},
   "source": [
    "**We will follow the scikit-learn schema to train and validate the model**\n",
    "\n",
    "\n",
    "https://scikit-learn.org/stable/modules/cross_validation.html\n"
   ]
  },
  {
   "cell_type": "markdown",
   "metadata": {},
   "source": [
    "## SVM"
   ]
  },
  {
   "cell_type": "code",
   "execution_count": 67,
   "metadata": {},
   "outputs": [],
   "source": [
    "#Scores\n",
    "\n",
    "def Scores(y_true,y_pred):\n",
    "    \n",
    "    tn, fp, fn, tp = metrics.confusion_matrix(y_true, y_pred).ravel()\n",
    "    spec = tn / (tn+fp)\n",
    "    sens=tp/(tp+fn)\n",
    "    acc=metrics.accuracy_score(y_true,y_pred)\n",
    "    kappa_cohen=metrics.cohen_kappa_score(y_true,y_pred)\n",
    "        \n",
    "    return(sens,spec,acc,kappa_cohen)\n",
    "\n",
    "def model(X_train,y_train,X_test):\n",
    "\n",
    "\n",
    "\n",
    "    params = {'C':[0.1,1,10],'kernel':['rbf','linear']}  #SVM\n",
    "    model = SVC(probability=True) \n",
    "    #Important, SVC does not work with a big training set, it would be useful to obtain the support vectors\n",
    "    #in order to select specific samples for working with the whole dataset. \n",
    "\n",
    "        \n",
    "    grid = GridSearchCV(estimator=model, \n",
    "                           param_grid=params,\n",
    "                           cv=5,\n",
    "                           verbose=1,\n",
    "                           n_jobs=-1)\n",
    "\n",
    "    grid.fit(X_train,y_train)\n",
    "    best_model = grid.best_estimator_\n",
    "\n",
    "    # Predict test set labels\n",
    "    y_pred = best_model.predict(X_test)    \n",
    "    y_pred_proba = best_model.predict_proba(X_test)[::,1] #Neccesary to make the ROC curve \n",
    "    index_sup_vec= best_model.support_ \n",
    "    n_support=best_model.n_support_ \n",
    "    \n",
    "    print(n_support)\n",
    "    return(grid, best_model,y_pred,y_pred_proba,index_sup_vec,n_support )"
   ]
  },
  {
   "cell_type": "code",
   "execution_count": 88,
   "metadata": {},
   "outputs": [
    {
     "name": "stdout",
     "output_type": "stream",
     "text": [
      "mass= 500\n",
      "Fitting 5 folds for each of 6 candidates, totalling 30 fits\n"
     ]
    },
    {
     "name": "stderr",
     "output_type": "stream",
     "text": [
      "[Parallel(n_jobs=-1)]: Done  30 out of  30 | elapsed:    1.0s remaining:    0.0s\n",
      "[Parallel(n_jobs=-1)]: Done  30 out of  30 | elapsed:    1.0s finished\n"
     ]
    },
    {
     "name": "stdout",
     "output_type": "stream",
     "text": [
      "[204 202]\n",
      "SVC(C=10, cache_size=200, class_weight=None, coef0=0.0,\n",
      "  decision_function_shape='ovr', degree=3, gamma='auto', kernel='linear',\n",
      "  max_iter=-1, probability=True, random_state=None, shrinking=True,\n",
      "  tol=0.001, verbose=False)\n",
      "accuracy 0.568\n",
      "sensitibity 0.48760330578512395\n",
      "specifity 0.6434108527131783\n",
      "kappa 0.13155355419749126\n"
     ]
    },
    {
     "data": {
      "image/png": "[encoded data removed]",
      "text/plain": [
       "<Figure size 432x288 with 1 Axes>"
      ]
     },
     "metadata": {},
     "output_type": "display_data"
    },
    {
     "name": "stdout",
     "output_type": "stream",
     "text": [
      "AUC 0.6190018579024921\n",
      "suport_vectors shape: 406\n",
      "number of each class:\n",
      "[204 202]\n",
      "mass= 750\n",
      "Fitting 5 folds for each of 6 candidates, totalling 30 fits\n"
     ]
    },
    {
     "name": "stderr",
     "output_type": "stream",
     "text": [
      "[Parallel(n_jobs=-1)]: Done  30 out of  30 | elapsed:    0.8s remaining:    0.0s\n",
      "[Parallel(n_jobs=-1)]: Done  30 out of  30 | elapsed:    0.8s finished\n"
     ]
    },
    {
     "name": "stdout",
     "output_type": "stream",
     "text": [
      "[89 95]\n",
      "SVC(C=1, cache_size=200, class_weight=None, coef0=0.0,\n",
      "  decision_function_shape='ovr', degree=3, gamma='auto', kernel='linear',\n",
      "  max_iter=-1, probability=True, random_state=None, shrinking=True,\n",
      "  tol=0.001, verbose=False)\n",
      "accuracy 0.836\n",
      "sensitibity 0.8449612403100775\n",
      "specifity 0.8264462809917356\n",
      "kappa 0.6715796219160526\n"
     ]
    },
    {
     "data": {
      "image/png": "[encoded data removed]",
      "text/plain": [
       "<Figure size 432x288 with 1 Axes>"
      ]
     },
     "metadata": {},
     "output_type": "display_data"
    },
    {
     "name": "stdout",
     "output_type": "stream",
     "text": [
      "AUC 0.8992248062015503\n",
      "suport_vectors shape: 184\n",
      "number of each class:\n",
      "[89 95]\n",
      "mass= 1000\n",
      "Fitting 5 folds for each of 6 candidates, totalling 30 fits\n"
     ]
    },
    {
     "name": "stderr",
     "output_type": "stream",
     "text": [
      "[Parallel(n_jobs=-1)]: Done  30 out of  30 | elapsed:    0.7s remaining:    0.0s\n",
      "[Parallel(n_jobs=-1)]: Done  30 out of  30 | elapsed:    0.7s finished\n"
     ]
    },
    {
     "name": "stdout",
     "output_type": "stream",
     "text": [
      "[177 178]\n",
      "SVC(C=0.1, cache_size=200, class_weight=None, coef0=0.0,\n",
      "  decision_function_shape='ovr', degree=3, gamma='auto', kernel='rbf',\n",
      "  max_iter=-1, probability=True, random_state=None, shrinking=True,\n",
      "  tol=0.001, verbose=False)\n",
      "accuracy 0.876\n",
      "sensitibity 0.9402985074626866\n",
      "specifity 0.8017241379310345\n",
      "kappa 0.7485235901096761\n"
     ]
    },
    {
     "data": {
      "image/png": "[encoded data removed]",
      "text/plain": [
       "<Figure size 432x288 with 1 Axes>"
      ]
     },
     "metadata": {},
     "output_type": "display_data"
    },
    {
     "name": "stdout",
     "output_type": "stream",
     "text": [
      "AUC 0.944480185280494\n",
      "suport_vectors shape: 355\n",
      "number of each class:\n",
      "[177 178]\n",
      "mass= 1250\n",
      "Fitting 5 folds for each of 6 candidates, totalling 30 fits\n"
     ]
    },
    {
     "name": "stderr",
     "output_type": "stream",
     "text": [
      "[Parallel(n_jobs=-1)]: Done  30 out of  30 | elapsed:    0.5s remaining:    0.0s\n",
      "[Parallel(n_jobs=-1)]: Done  30 out of  30 | elapsed:    0.5s finished\n"
     ]
    },
    {
     "name": "stdout",
     "output_type": "stream",
     "text": [
      "[79 95]\n",
      "SVC(C=1, cache_size=200, class_weight=None, coef0=0.0,\n",
      "  decision_function_shape='ovr', degree=3, gamma='auto', kernel='rbf',\n",
      "  max_iter=-1, probability=True, random_state=None, shrinking=True,\n",
      "  tol=0.001, verbose=False)\n",
      "accuracy 0.928\n",
      "sensitibity 0.9504132231404959\n",
      "specifity 0.9069767441860465\n",
      "kappa 0.8560736902705814\n"
     ]
    },
    {
     "data": {
      "image/png": "[encoded data removed]",
      "text/plain": [
       "<Figure size 432x288 with 1 Axes>"
      ]
     },
     "metadata": {},
     "output_type": "display_data"
    },
    {
     "name": "stdout",
     "output_type": "stream",
     "text": [
      "AUC 0.982061631110257\n",
      "suport_vectors shape: 174\n",
      "number of each class:\n",
      "[79 95]\n",
      "mass= 1500\n",
      "Fitting 5 folds for each of 6 candidates, totalling 30 fits\n"
     ]
    },
    {
     "name": "stderr",
     "output_type": "stream",
     "text": [
      "[Parallel(n_jobs=-1)]: Done  30 out of  30 | elapsed:    0.4s remaining:    0.0s\n",
      "[Parallel(n_jobs=-1)]: Done  30 out of  30 | elapsed:    0.4s finished\n"
     ]
    },
    {
     "name": "stdout",
     "output_type": "stream",
     "text": [
      "[42 45]\n",
      "SVC(C=0.1, cache_size=200, class_weight=None, coef0=0.0,\n",
      "  decision_function_shape='ovr', degree=3, gamma='auto', kernel='linear',\n",
      "  max_iter=-1, probability=True, random_state=None, shrinking=True,\n",
      "  tol=0.001, verbose=False)\n",
      "accuracy 0.964\n",
      "sensitibity 0.9824561403508771\n",
      "specifity 0.9485294117647058\n",
      "kappa 0.9276945819140048\n"
     ]
    },
    {
     "data": {
      "image/png": "[encoded data removed]",
      "text/plain": [
       "<Figure size 432x288 with 1 Axes>"
      ]
     },
     "metadata": {},
     "output_type": "display_data"
    },
    {
     "name": "stdout",
     "output_type": "stream",
     "text": [
      "AUC 0.9909055727554179\n",
      "suport_vectors shape: 87\n",
      "number of each class:\n",
      "[42 45]\n"
     ]
    },
    {
     "data": {
      "text/plain": [
       "<Figure size 432x288 with 0 Axes>"
      ]
     },
     "metadata": {},
     "output_type": "display_data"
    }
   ],
   "source": [
    "#Metric df: \n",
    "df_metrics = pd.DataFrame(index=[500,750,1000,1250,1500], columns=['accuracy','sensitibity','specifity','kappa','auc'])\n",
    "\n",
    "#supportvectors dict: \n",
    "index_sup_vec=dict.fromkeys([500,750,1000,1250,1500])\n",
    "\n",
    "for i in (500,750,1000,1250,1500):\n",
    "\n",
    "    print('mass=', i )\n",
    "\n",
    "    #train\n",
    "    dfmass1000=df.loc[df['mass'] == i]                                                   #to separate the masses. \n",
    "    dfmass0=df.loc[df['mass'] == 0].sample(n=dfmass1000.shape[0], random_state=1)        #0 same size of dfmass1000\n",
    "    dfmass1000=pd.concat([dfmass1000, dfmass0]).sample(frac=1).reset_index(drop=True)    #concatenating and shuffling\n",
    "    dfmass1000=dfmass1000.drop('mass', axis=1).sample(n=5000, random_state=1)         #deleting mass\n",
    "\n",
    "    #test\n",
    "    dfmass1000test=df_originaltest.loc[df_originaltest['mass'] == i]\n",
    "    dfmass0test=df_originaltest.loc[df_originaltest['mass'] == 0].sample(n=dfmass1000test.shape[0], random_state=1)\n",
    "    dfmass1000test=pd.concat([dfmass1000test, dfmass0test]).sample(frac=1).reset_index(drop=True)\n",
    "    dfmass1000test=dfmass1000test.drop('mass', axis=1).sample(n=2500, random_state=1)\n",
    "    \n",
    "    X_train=dfmass1000.drop(['label'], axis=1)\n",
    "    y_train=dfmass1000.label\n",
    "    \n",
    "    X_test=dfmass1000test.drop(['label'], axis=1)\n",
    "    y_test=dfmass1000test.label\n",
    "        \n",
    "    grid,best_model,y_pred,y_pred_proba,index_sup_vec[i],n_support_  = model(X_train,y_train,X_test)\n",
    "    print(best_model)\n",
    "\n",
    "    sens,spec,acc,kappa=Scores(y_test,y_pred)\n",
    "    print('accuracy', acc)\n",
    "    print('sensitibity', sens)\n",
    "    print('specifity', spec)\n",
    "    print('kappa', kappa)\n",
    "\n",
    "\n",
    "    #Roc curve construction\n",
    "\n",
    "    fpr, tpr, _ = metrics.roc_curve(y_test,  y_pred_proba)\n",
    "    auc = metrics.roc_auc_score(y_test, y_pred_proba)\n",
    "    plt.plot(fpr,tpr,label=\"data 1, auc=\"+str(auc))\n",
    "    plt.legend(loc=4)\n",
    "    plt.savefig(cwd+'MASS=' + str(i) + 'ROC.png')\n",
    "    plt.show()\n",
    "    plt.clf() \n",
    "    print('AUC', auc)\n",
    "    \n",
    "    print(\"suport_vectors shape:\",  index_sup_vec[i].shape[0])\n",
    "    print(\"number of each class:\")\n",
    "    print(n_support_)\n",
    "    \n",
    "    df_metrics.accuracy[i]=acc\n",
    "    df_metrics.sensitibity[i]=sens\n",
    "    df_metrics.specifity[i]=spec\n",
    "    df_metrics.kappa[i]=kappa\n",
    "    df_metrics.auc[i]=auc"
   ]
  },
  {
   "cell_type": "code",
   "execution_count": 89,
   "metadata": {},
   "outputs": [
    {
     "name": "stdout",
     "output_type": "stream",
     "text": [
      "(500, 27)\n",
      "(250, 27)\n"
     ]
    },
    {
     "data": {
      "text/plain": [
       "0    136\n",
       "1    114\n",
       "Name: label, dtype: int64"
      ]
     },
     "execution_count": 89,
     "metadata": {},
     "output_type": "execute_result"
    }
   ],
   "source": [
    "print(X_train.shape)\n",
    "print(X_test.shape)\n",
    "y_test.value_counts()\n",
    "\n",
    "#print(\"shape suport vectors\")\n",
    "#[print(i,index_sup_vec[i].shape[0]) for i in index_sup_vec.keys()]"
   ]
  },
  {
   "cell_type": "code",
   "execution_count": 96,
   "metadata": {},
   "outputs": [
    {
     "data": {
      "image/png": "[encoded data removed]",
      "text/plain": [
       "<Figure size 432x288 with 1 Axes>"
      ]
     },
     "metadata": {},
     "output_type": "display_data"
    },
    {
     "data": {
      "text/plain": [
       "<Figure size 432x288 with 0 Axes>"
      ]
     },
     "metadata": {},
     "output_type": "display_data"
    }
   ],
   "source": [
    "fig, ax = plt.subplots()\n",
    "ax.plot([\"500\",\"750\",\"1000\",\"1250\",\"1500\"], df_metrics[\"accuracy\"], label=\"accuracy\")\n",
    "ax.plot([\"500\",\"750\",\"1000\",\"1250\",\"1500\"], df_metrics[\"sensitibity\"], label=\"sensitibity\")\n",
    "ax.plot([\"500\",\"750\",\"1000\",\"1250\",\"1500\"], df_metrics[\"specifity\"], label=\"specifity\")\n",
    "ax.plot([\"500\",\"750\",\"1000\",\"1250\",\"1500\"], df_metrics[\"auc\"], label=\"auc\")\n",
    "ax.plot([\"500\",\"750\",\"1000\",\"1250\",\"1500\"], df_metrics[\"kappa\"], label=\"kappa\")\n",
    "\n",
    "ax.set_xlabel('mass')\n",
    "ax.set_ylabel('Metric')\n",
    "legend = ax.legend(fontsize='x-large')\n",
    "plt.show()\n",
    "plt.savefig(cwd+ 'metrics_comparation.png')"
   ]
  },
  {
   "cell_type": "code",
   "execution_count": null,
   "metadata": {},
   "outputs": [],
   "source": []
  },
  {
   "cell_type": "code",
   "execution_count": null,
   "metadata": {},
   "outputs": [],
   "source": []
  }
 ],
 "metadata": {
  "kernelspec": {
   "display_name": "Python 3",
   "language": "python",
   "name": "python3"
  },
  "language_info": {
   "codemirror_mode": {
    "name": "ipython",
    "version": 3
   },
   "file_extension": ".py",
   "mimetype": "text/x-python",
   "name": "python",
   "nbconvert_exporter": "python",
   "pygments_lexer": "ipython3",
   "version": "3.5.2"
  }
 },
 "nbformat": 4,
 "nbformat_minor": 2
}
