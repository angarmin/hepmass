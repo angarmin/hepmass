{
 "cells": [
  {
   "cell_type": "markdown",
   "metadata": {},
   "source": [
    "**Libraries**"
   ]
  },
  {
   "cell_type": "code",
   "execution_count": 1,
   "metadata": {},
   "outputs": [],
   "source": [
    "import pandas as pd\n",
    "import numpy as np\n",
    "\n",
    "import warnings\n",
    "\n",
    "import matplotlib as mpl\n",
    "import matplotlib.pyplot as plt\n",
    "import seaborn as sns\n",
    "from plotnine import *\n",
    "import joypy #el de las densidades guays\n",
    "\n",
    "from sklearn import manifold  \n",
    "from sklearn.svm import SVC  \n",
    "\n",
    "\n",
    "\n",
    "from sklearn.model_selection import train_test_split\n",
    "from sklearn.model_selection import cross_val_score\n",
    "from sklearn.model_selection import GridSearchCV\n",
    "from sklearn.linear_model import LogisticRegression\n",
    "\n",
    "import os \n",
    "cwd = os.getcwd() + \"/\"\n",
    "#cwd=\"/home/angela/Notebook/machine_learning/normalizados/NN_simple_param/\"\n",
    "from sklearn import metrics\n",
    "\n",
    "from sklearn.neural_network import MLPClassifier\n",
    "\n",
    "\n",
    "warnings.filterwarnings('ignore') #ATENCION QUE ESTO CREO QUE FUNCIONA PARA TODO EL NOTEBOOK\n",
    "\n",
    "import random\n",
    "random.seed(1)\n",
    "np.random.seed(1)\n",
    "np.random.RandomState(1)\n",
    "\n",
    "from sklearn.preprocessing import MinMaxScaler\n",
    "\n",
    "\n"
   ]
  },
  {
   "cell_type": "markdown",
   "metadata": {},
   "source": [
    "**LOAD**"
   ]
  },
  {
   "cell_type": "code",
   "execution_count": 2,
   "metadata": {},
   "outputs": [],
   "source": [
    "#ALL THE DATASET\n",
    "\n",
    "df=pd.read_pickle(\"/home/angela/Notebook/data/normalizados/trainpickle\")\n",
    "df_originaltest=pd.read_pickle(\"/home/angela/Notebook/data/normalizados/testpickle\")"
   ]
  },
  {
   "cell_type": "code",
   "execution_count": 3,
   "metadata": {},
   "outputs": [],
   "source": [
    "#SIMPLe DATASET\n",
    "#df=pd.read_pickle(\"/home/angela/Notebook/data/normalizados/trainsimplepickle\")\n",
    "#df_originaltest=pd.read_pickle(\"/home/angela/Notebook/data/normalizados/testsimplepickle\")\n"
   ]
  },
  {
   "cell_type": "markdown",
   "metadata": {},
   "source": [
    "# Machine learning"
   ]
  },
  {
   "cell_type": "markdown",
   "metadata": {},
   "source": [
    "**We will follow the scikit-learn schema to train and validate the model**\n",
    "\n",
    "\n",
    "https://scikit-learn.org/stable/modules/cross_validation.html\n"
   ]
  },
  {
   "cell_type": "markdown",
   "metadata": {},
   "source": [
    "## SVM"
   ]
  },
  {
   "cell_type": "code",
   "execution_count": 4,
   "metadata": {},
   "outputs": [],
   "source": [
    "#Scores\n",
    "\n",
    "\n",
    "def Scores(y_true,y_pred):\n",
    "    \n",
    "    tn, fp, fn, tp = metrics.confusion_matrix(y_true, y_pred).ravel()\n",
    "    prec=tp / (tp + fp)\n",
    "    recall= tp / (tp + fn)\n",
    "    F1_score= 2 * (prec * recall) / (prec + recall)\n",
    "    acc=metrics.accuracy_score(y_true,y_pred)\n",
    "    kappa_cohen=metrics.cohen_kappa_score(y_true,y_pred)\n",
    "        \n",
    "    return(tn, fp, fn, tp, acc, prec,recall, F1_score,kappa_cohen)\n",
    "\n",
    "\n",
    "\n",
    "\n",
    "def model(X_train,y_train,X_test):\n",
    "    \n",
    "    scaler = MinMaxScaler()\n",
    "    scaler=scaler.fit(X_train)\n",
    "    \n",
    "    \n",
    "    X_train = scaler.transform(X_train)\n",
    "    X_test = scaler.transform(X_test)\n",
    "    \n",
    "    \n",
    "    params = {'C':[0.8,1,3,5],'kernel':['rbf']}  #SVM\n",
    "    \n",
    "\n",
    "    model = SVC(probability=True) \n",
    "    \n",
    "    grid = GridSearchCV(estimator=model, param_grid=params,cv=5,verbose=1, n_jobs=-1)\n",
    "\n",
    "    grid.fit(X_train,y_train)\n",
    "    best_model = grid.best_estimator_\n",
    "    \n",
    "    best_model.fit(X_train,y_train)\n",
    "    # Predict test set labels\n",
    "    y_pred = best_model.predict(X_test)    \n",
    "    y_pred_proba = best_model.predict_proba(X_test)[::,1] #Neccesary to make the ROC curve \n",
    "\n",
    "    index_sup_vec= best_model.support_ \n",
    "    n_support=best_model.n_support_ \n",
    "    \n",
    "    return(grid, best_model,y_pred,y_pred_proba,index_sup_vec,n_support )\n"
   ]
  },
  {
   "cell_type": "code",
   "execution_count": 5,
   "metadata": {},
   "outputs": [
    {
     "name": "stdout",
     "output_type": "stream",
     "text": [
      "mass= 500\n",
      "train mass   0.0    500.0\n",
      "label              \n",
      "0       5039      0\n",
      "1          0   4961\n",
      "test mass    0     500\n",
      "label            \n",
      "0      2500     0\n",
      "1         0  2500\n",
      "Fitting 5 folds for each of 4 candidates, totalling 20 fits\n"
     ]
    },
    {
     "name": "stderr",
     "output_type": "stream",
     "text": [
      "[Parallel(n_jobs=-1)]: Done  10 out of  20 | elapsed:  1.8min remaining:  1.8min\n",
      "[Parallel(n_jobs=-1)]: Done  20 out of  20 | elapsed:  3.1min finished\n"
     ]
    },
    {
     "name": "stdout",
     "output_type": "stream",
     "text": [
      "SVC(C=5, cache_size=200, class_weight=None, coef0=0.0,\n",
      "  decision_function_shape='ovr', degree=3, gamma='auto', kernel='rbf',\n",
      "  max_iter=-1, probability=True, random_state=None, shrinking=True,\n",
      "  tol=0.001, verbose=False)\n",
      "suport_vectors shape: 8572\n",
      "number of each class:\n",
      "[4287 4285]\n",
      "mass= 750\n",
      "train mass   0.0    750.0\n",
      "label              \n",
      "0       4994      0\n",
      "1          0   5006\n",
      "test mass    0     750\n",
      "label            \n",
      "0      2521     0\n",
      "1         0  2479\n",
      "Fitting 5 folds for each of 4 candidates, totalling 20 fits\n"
     ]
    },
    {
     "name": "stderr",
     "output_type": "stream",
     "text": [
      "[Parallel(n_jobs=-1)]: Done  10 out of  20 | elapsed:  1.9min remaining:  1.9min\n",
      "[Parallel(n_jobs=-1)]: Done  20 out of  20 | elapsed:  2.6min finished\n"
     ]
    },
    {
     "name": "stdout",
     "output_type": "stream",
     "text": [
      "SVC(C=3, cache_size=200, class_weight=None, coef0=0.0,\n",
      "  decision_function_shape='ovr', degree=3, gamma='auto', kernel='rbf',\n",
      "  max_iter=-1, probability=True, random_state=None, shrinking=True,\n",
      "  tol=0.001, verbose=False)\n",
      "suport_vectors shape: 4604\n",
      "number of each class:\n",
      "[2298 2306]\n",
      "mass= 1000\n",
      "train mass   0.0     1000.0\n",
      "label                \n",
      "0        5007       0\n",
      "1           0    4993\n",
      "test mass   0     1000\n",
      "label            \n",
      "0      2566     0\n",
      "1         0  2434\n",
      "Fitting 5 folds for each of 4 candidates, totalling 20 fits\n"
     ]
    },
    {
     "name": "stderr",
     "output_type": "stream",
     "text": [
      "[Parallel(n_jobs=-1)]: Done  10 out of  20 | elapsed:   52.5s remaining:   52.5s\n",
      "[Parallel(n_jobs=-1)]: Done  20 out of  20 | elapsed:  1.3min finished\n"
     ]
    },
    {
     "name": "stdout",
     "output_type": "stream",
     "text": [
      "SVC(C=5, cache_size=200, class_weight=None, coef0=0.0,\n",
      "  decision_function_shape='ovr', degree=3, gamma='auto', kernel='rbf',\n",
      "  max_iter=-1, probability=True, random_state=None, shrinking=True,\n",
      "  tol=0.001, verbose=False)\n",
      "suport_vectors shape: 2636\n",
      "number of each class:\n",
      "[1318 1318]\n",
      "mass= 1250\n",
      "train mass   0.0     1250.0\n",
      "label                \n",
      "0        4992       0\n",
      "1           0    5008\n",
      "test mass   0     1250\n",
      "label            \n",
      "0      2461     0\n",
      "1         0  2539\n",
      "Fitting 5 folds for each of 4 candidates, totalling 20 fits\n"
     ]
    },
    {
     "name": "stderr",
     "output_type": "stream",
     "text": [
      "[Parallel(n_jobs=-1)]: Done  10 out of  20 | elapsed:  1.2min remaining:  1.2min\n",
      "[Parallel(n_jobs=-1)]: Done  20 out of  20 | elapsed:  1.5min finished\n"
     ]
    },
    {
     "name": "stdout",
     "output_type": "stream",
     "text": [
      "SVC(C=5, cache_size=200, class_weight=None, coef0=0.0,\n",
      "  decision_function_shape='ovr', degree=3, gamma='auto', kernel='rbf',\n",
      "  max_iter=-1, probability=True, random_state=None, shrinking=True,\n",
      "  tol=0.001, verbose=False)\n",
      "suport_vectors shape: 1811\n",
      "number of each class:\n",
      "[902 909]\n",
      "mass= 1500\n",
      "train mass   0.0     1500.0\n",
      "label                \n",
      "0        5036       0\n",
      "1           0    4964\n",
      "test mass   0     1500\n",
      "label            \n",
      "0      2474     0\n",
      "1         0  2526\n",
      "Fitting 5 folds for each of 4 candidates, totalling 20 fits\n"
     ]
    },
    {
     "name": "stderr",
     "output_type": "stream",
     "text": [
      "[Parallel(n_jobs=-1)]: Done  10 out of  20 | elapsed:   36.4s remaining:   36.4s\n",
      "[Parallel(n_jobs=-1)]: Done  20 out of  20 | elapsed:   45.0s finished\n"
     ]
    },
    {
     "name": "stdout",
     "output_type": "stream",
     "text": [
      "SVC(C=5, cache_size=200, class_weight=None, coef0=0.0,\n",
      "  decision_function_shape='ovr', degree=3, gamma='auto', kernel='rbf',\n",
      "  max_iter=-1, probability=True, random_state=None, shrinking=True,\n",
      "  tol=0.001, verbose=False)\n",
      "suport_vectors shape: 1424\n",
      "number of each class:\n",
      "[710 714]\n",
      "X_train_shape (10000, 27)\n",
      "X_test_shape (5000, 27)\n"
     ]
    },
    {
     "data": {
      "text/html": [
       "<div>\n",
       "<style scoped>\n",
       "    .dataframe tbody tr th:only-of-type {\n",
       "        vertical-align: middle;\n",
       "    }\n",
       "\n",
       "    .dataframe tbody tr th {\n",
       "        vertical-align: top;\n",
       "    }\n",
       "\n",
       "    .dataframe thead th {\n",
       "        text-align: right;\n",
       "    }\n",
       "</style>\n",
       "<table border=\"1\" class=\"dataframe\">\n",
       "  <thead>\n",
       "    <tr style=\"text-align: right;\">\n",
       "      <th></th>\n",
       "      <th>tn</th>\n",
       "      <th>fp</th>\n",
       "      <th>fn</th>\n",
       "      <th>tp</th>\n",
       "      <th>acc</th>\n",
       "      <th>prec</th>\n",
       "      <th>recall</th>\n",
       "      <th>F1_score</th>\n",
       "      <th>kappa_cohen</th>\n",
       "      <th>auc</th>\n",
       "    </tr>\n",
       "  </thead>\n",
       "  <tbody>\n",
       "    <tr>\n",
       "      <th>500</th>\n",
       "      <td>1446</td>\n",
       "      <td>1054</td>\n",
       "      <td>886</td>\n",
       "      <td>1614</td>\n",
       "      <td>0.612</td>\n",
       "      <td>0.604948</td>\n",
       "      <td>0.6456</td>\n",
       "      <td>0.624613</td>\n",
       "      <td>0.224</td>\n",
       "      <td>0.65765</td>\n",
       "    </tr>\n",
       "    <tr>\n",
       "      <th>750</th>\n",
       "      <td>2035</td>\n",
       "      <td>486</td>\n",
       "      <td>345</td>\n",
       "      <td>2134</td>\n",
       "      <td>0.8338</td>\n",
       "      <td>0.814504</td>\n",
       "      <td>0.860831</td>\n",
       "      <td>0.837027</td>\n",
       "      <td>0.667734</td>\n",
       "      <td>0.899191</td>\n",
       "    </tr>\n",
       "    <tr>\n",
       "      <th>1000</th>\n",
       "      <td>2296</td>\n",
       "      <td>270</td>\n",
       "      <td>223</td>\n",
       "      <td>2211</td>\n",
       "      <td>0.9014</td>\n",
       "      <td>0.891173</td>\n",
       "      <td>0.908381</td>\n",
       "      <td>0.899695</td>\n",
       "      <td>0.80276</td>\n",
       "      <td>0.957436</td>\n",
       "    </tr>\n",
       "    <tr>\n",
       "      <th>1250</th>\n",
       "      <td>2251</td>\n",
       "      <td>210</td>\n",
       "      <td>136</td>\n",
       "      <td>2403</td>\n",
       "      <td>0.9308</td>\n",
       "      <td>0.919633</td>\n",
       "      <td>0.946436</td>\n",
       "      <td>0.932842</td>\n",
       "      <td>0.861502</td>\n",
       "      <td>0.97467</td>\n",
       "    </tr>\n",
       "    <tr>\n",
       "      <th>1500</th>\n",
       "      <td>2356</td>\n",
       "      <td>118</td>\n",
       "      <td>86</td>\n",
       "      <td>2440</td>\n",
       "      <td>0.9592</td>\n",
       "      <td>0.95387</td>\n",
       "      <td>0.965954</td>\n",
       "      <td>0.959874</td>\n",
       "      <td>0.91838</td>\n",
       "      <td>0.988084</td>\n",
       "    </tr>\n",
       "  </tbody>\n",
       "</table>\n",
       "</div>"
      ],
      "text/plain": [
       "        tn    fp   fn    tp     acc      prec    recall  F1_score kappa_cohen  \\\n",
       "500   1446  1054  886  1614   0.612  0.604948    0.6456  0.624613       0.224   \n",
       "750   2035   486  345  2134  0.8338  0.814504  0.860831  0.837027    0.667734   \n",
       "1000  2296   270  223  2211  0.9014  0.891173  0.908381  0.899695     0.80276   \n",
       "1250  2251   210  136  2403  0.9308  0.919633  0.946436  0.932842    0.861502   \n",
       "1500  2356   118   86  2440  0.9592   0.95387  0.965954  0.959874     0.91838   \n",
       "\n",
       "           auc  \n",
       "500    0.65765  \n",
       "750   0.899191  \n",
       "1000  0.957436  \n",
       "1250   0.97467  \n",
       "1500  0.988084  "
      ]
     },
     "metadata": {},
     "output_type": "display_data"
    }
   ],
   "source": [
    "#Metric df: \n",
    "df_metrics =  pd.DataFrame(index=[500,750,1000,1250,1500], columns=[\"tn\", \"fp\", \"fn\", \"tp\", \"acc\", \"prec\",\"recall\",\"F1_score\",\"kappa_cohen\",\"auc\"])\n",
    "\n",
    "#supportvectors dict: \n",
    "df_sup_vec=pd.DataFrame(index=[500,750,1000,1250,1500], columns=[\"total_num\", \"num_señal\"])\n",
    "\n",
    "for i in (500,750,1000,1250,1500):\n",
    "\n",
    "    print('mass=', i )\n",
    "\n",
    "    #train\n",
    "      #0 same size of dfmass1000 #TENER EN CUENTA QUE AQUI QUE LA DE 0 SEA MAYOR SIZE ES CASUALIDAD\n",
    "    #EN OTRO PICKE PODRIA SER AL REVES, ESTO SE DEBERIA DE ARREGLAR\n",
    "    np.random.seed(1)\n",
    "    #dfmass0['mass'] = np.random.choice([500,750,1000,1250,1500], dfmass0.shape[0])#las cambio para queno sean 0 porque entonces sabría el label\n",
    "    dfmass1000=df.loc[df['mass'] ==i]        \n",
    "    dfmass0=df.loc[df['mass'] == 0].sample(random_state=1,n=dfmass1000.shape[0])   #cojo todos!!!!!!!!!!!!!! \n",
    "    dfmass1000=pd.concat([dfmass1000, dfmass0]).sample(random_state=1,frac=1).reset_index(drop=True)    #concatenating and shuffling\n",
    "    dfmass1000['mass']=dfmass1000['mass'].astype(float)\n",
    "    dfmass1000=dfmass1000.sample(random_state=1,n=2000*5)\n",
    "    print(\"train\", pd.crosstab(dfmass1000['label'],dfmass1000['mass']))\n",
    "    dfmass1000=dfmass1000.drop('mass', axis=1)        #la masa es una caracterísitca\n",
    "    \n",
    "    \n",
    "    #test\n",
    "    dfmass1000test=df_originaltest.loc[df_originaltest['mass'] == i]\n",
    "    dfmass0test=df_originaltest.loc[df_originaltest['mass'] == 0].sample(random_state=1,n=dfmass1000test.shape[0])\n",
    "    dfmass1000test=pd.concat([dfmass1000test, dfmass0test]).sample(frac=1).reset_index(drop=True)\n",
    "    dfmass1000test=dfmass1000test.sample(random_state=1,n=1000*5)\n",
    "\n",
    "    print(\"test\", pd.crosstab(dfmass1000test['label'],dfmass1000test['mass']))  \n",
    "    \n",
    "    dfmass1000test=dfmass1000test.drop('mass', axis=1)  \n",
    "    \n",
    "    \n",
    "\n",
    "    X_train=dfmass1000.drop(['label'], axis=1)\n",
    "    y_train=dfmass1000.label\n",
    "    \n",
    "    X_test=dfmass1000test.drop(['label'], axis=1)\n",
    "    y_test=dfmass1000test.label\n",
    "        \n",
    "   # print(X_train)\n",
    "   # print(y_test)\n",
    "\n",
    "    grid,best_model,y_pred,y_pred_proba,index_sup_vec,n_support_  = model(X_train,y_train,X_test)\n",
    "    print(best_model)\n",
    "\n",
    "#Roc curve construction\n",
    "\n",
    "    auc = metrics.roc_auc_score(y_test, y_pred_proba)\n",
    "\n",
    "#METRICS \n",
    "\n",
    "    print(\"suport_vectors shape:\",  index_sup_vec.shape[0])\n",
    "    print(\"number of each class:\")\n",
    "    print(n_support_)\n",
    "\n",
    "    tn, fp, fn, tp, acc, prec,recall, F1_score,kappa_cohen=Scores(y_test,y_pred)\n",
    "\n",
    "    df_metrics.tn[i]=tn\n",
    "    df_metrics.fp[i]=fp\n",
    "    df_metrics.fn[i]=fn\n",
    "    df_metrics.tp[i]=tp\n",
    "    df_metrics.acc[i]=acc\n",
    "    df_metrics.prec[i]=prec\n",
    "    df_metrics.recall[i]=recall\n",
    "    df_metrics.F1_score[i]=F1_score\n",
    "    df_metrics.kappa_cohen[i]=kappa_cohen\n",
    "    df_metrics.auc[i]=auc\n",
    "                        \n",
    "    df_sup_vec.total_num[i]=index_sup_vec.shape[0]\n",
    "    df_sup_vec.num_señal[i]=n_support_[0]\n",
    "                        \n",
    "                        \n",
    "\n",
    "\n",
    "\n",
    "print(\"X_train_shape\",X_train.shape)\n",
    "print(\"X_test_shape\",X_test.shape)\n",
    "\n",
    "\n",
    "display(df_metrics)"
   ]
  },
  {
   "cell_type": "code",
   "execution_count": 9,
   "metadata": {},
   "outputs": [
    {
     "name": "stdout",
     "output_type": "stream",
     "text": [
      "(10000, 27)\n",
      "(5000, 27)\n"
     ]
    },
    {
     "data": {
      "text/plain": [
       "1    2526\n",
       "0    2474\n",
       "Name: label, dtype: int64"
      ]
     },
     "execution_count": 9,
     "metadata": {},
     "output_type": "execute_result"
    }
   ],
   "source": [
    "print(X_train.shape)\n",
    "print(X_test.shape)\n",
    "y_test.value_counts()"
   ]
  },
  {
   "cell_type": "code",
   "execution_count": 10,
   "metadata": {},
   "outputs": [
    {
     "data": {
      "image/png": "[encoded data removed]",
      "text/plain": [
       "<Figure size 432x288 with 1 Axes>"
      ]
     },
     "metadata": {},
     "output_type": "display_data"
    },
    {
     "data": {
      "text/plain": [
       "<Figure size 432x288 with 0 Axes>"
      ]
     },
     "metadata": {},
     "output_type": "display_data"
    }
   ],
   "source": [
    "fig, ax = plt.subplots()\n",
    "ax.plot([\"500\",\"750\",\"1000\",\"1250\",\"1500\"], df_metrics[\"acc\"], label=\"accuracy\")\n",
    "ax.plot([\"500\",\"750\",\"1000\",\"1250\",\"1500\"], df_metrics[\"F1_score\"], label=\"F1_score\")\n",
    "ax.plot([\"500\",\"750\",\"1000\",\"1250\",\"1500\"], df_metrics[\"kappa_cohen\"], label=\"kappa\")\n",
    "\n",
    "ax.set_xlabel('mass')\n",
    "ax.set_ylabel('Metric')\n",
    "legend = ax.legend(fontsize='x-large')\n",
    "plt.show()\n",
    "plt.savefig(cwd+ 'metrics_comparation.png')"
   ]
  },
  {
   "cell_type": "code",
   "execution_count": 11,
   "metadata": {},
   "outputs": [],
   "source": [
    "df_metrics.to_pickle(\"resultados.pkl\")"
   ]
  },
  {
   "cell_type": "code",
   "execution_count": null,
   "metadata": {},
   "outputs": [],
   "source": []
  },
  {
   "cell_type": "code",
   "execution_count": null,
   "metadata": {},
   "outputs": [],
   "source": []
  },
  {
   "cell_type": "code",
   "execution_count": null,
   "metadata": {},
   "outputs": [],
   "source": []
  }
 ],
 "metadata": {
  "kernelspec": {
   "display_name": "Python 3",
   "language": "python",
   "name": "python3"
  },
  "language_info": {
   "codemirror_mode": {
    "name": "ipython",
    "version": 3
   },
   "file_extension": ".py",
   "mimetype": "text/x-python",
   "name": "python",
   "nbconvert_exporter": "python",
   "pygments_lexer": "ipython3",
   "version": "3.5.2"
  }
 },
 "nbformat": 4,
 "nbformat_minor": 2
}
