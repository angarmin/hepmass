{
 "cells": [
  {
   "cell_type": "code",
   "execution_count": 2,
   "metadata": {},
   "outputs": [],
   "source": [
    "import numpy as np\n",
    "import pandas as pd"
   ]
  },
  {
   "cell_type": "markdown",
   "metadata": {},
   "source": [
    "## PARSING"
   ]
  },
  {
   "cell_type": "code",
   "execution_count": 3,
   "metadata": {},
   "outputs": [
    {
     "name": "stdout",
     "output_type": "stream",
     "text": [
      "train_shape:  (7000000, 29)\n",
      "test_shape:  (3500000, 29)\n",
      "1\n",
      "train_shape:  (7000000, 29)\n",
      "test_shape:  (3500000, 29)\n"
     ]
    }
   ],
   "source": [
    "df=pd.read_csv(\"../data/normalizados/all_train.csv\") \n",
    "df_originaltest=pd.read_csv(\"../data/normalizados/all_test.csv\") \n",
    "print('train_shape: ', df.shape)\n",
    "print('test_shape: ', df_originaltest.shape)\n",
    "\n",
    "#Renaming: \n",
    "\n",
    "columns=['label',   #LL:\n",
    "            'lep_pt', 'lep_eta','lep_phi',      #lepton\n",
    "            'met_miss', 'met_phi'  ,            #neutrino\n",
    "            'jets_no',                          #number of jets\n",
    "            'jet1_pt', 'jet1_eta','jet1_phi','jet1_btag',\n",
    "            'jet2_pt', 'jet2_eta','jet2_phi','jet2_btag',\n",
    "            'jet3_pt', 'jet3_eta','jet3_phi','jet3_btag',\n",
    "            'jet4_pt', 'jet4_eta','jet4_phi','jet4_btag',    #jets with more energy, HL:\n",
    "            'm_jj', 'm_jjj', 'm_lv', 'm_jlv', 'm_wwbb', #invariant mass\n",
    "            'mass']\n",
    "df.columns=columns\n",
    "df_originaltest.columns=columns\n",
    "\n",
    "\n",
    "#Making background mass to 0: \n",
    "df.loc[df['label'] == 0, 'mass'] = 0\n",
    "df_originaltest.loc[df_originaltest['label'] == 0, 'mass'] = 0\n",
    "\n",
    "\n",
    "#Making categorical variables are necessary:\n",
    "\n",
    "#Optimizar: \n",
    "for col in ['jet1_btag', 'jet2_btag', 'jet3_btag','jet4_btag']:\n",
    "    df[col] = df[col].astype('category')\n",
    "    df_originaltest[col] = df_originaltest[col].astype('category')\n",
    "    df[col]=df[col].cat.rename_categories([0,1])\n",
    "    df_originaltest[col]=df_originaltest[col].cat.rename_categories([0,1])\n",
    "  \n",
    "\n",
    "\n",
    "for col in ['label','jets_no','mass']:\n",
    "    df[col] = df[col].astype('category')\n",
    "    df_originaltest[col] = df_originaltest[col].astype('category')\n",
    "    \n",
    "\n",
    "for col in ['jet1_btag', 'jet2_btag', 'jet3_btag','jet4_btag','jets_no']:\n",
    "    df[col] = df[col].astype('float')\n",
    "    df_originaltest[col] = df_originaltest[col].astype('float')\n",
    "\n",
    "    \n",
    "    \n",
    "df.mass=df.mass.cat.rename_categories([0,500,750,1000,1250,1500]) #AQUI AÚN NO HE CAMBIADO EL 0\n",
    "df.label=df.label.cat.rename_categories([0,1])\n",
    "  \n",
    "df_originaltest.mass=df_originaltest.mass.cat.rename_categories([0,500,750,1000,1250,1500])\n",
    "df_originaltest.label=df_originaltest.label.cat.rename_categories([0,1])\n",
    "\n",
    "#Saving: \n",
    "df.to_pickle(\"../data/normalizados/trainpickle\")\n",
    "df_originaltest.to_pickle(\"../data/normalizados/testpickle\")\n",
    "\n",
    "#Saving a simply version: \n",
    "dfsimple=df.sample(n=140000, random_state=1)\n",
    "df_originaltestsimple=df_originaltest.sample(n=70000, random_state=1)\n",
    "\n",
    "\n",
    "dfsimple.to_pickle(\"../data/normalizados/trainsimplepickle\")\n",
    "df_originaltestsimple.to_pickle(\"../data/normalizados/testsimplepickle\")    \n",
    "\n",
    "print(1)\n",
    "\n",
    "#CAMBIAR DIRECTORIO ALL \n",
    "\n",
    "print('train_shape: ', df.shape)\n",
    "print('test_shape: ', df_originaltest.shape)"
   ]
  },
  {
   "cell_type": "code",
   "execution_count": 4,
   "metadata": {},
   "outputs": [
    {
     "name": "stdout",
     "output_type": "stream",
     "text": [
      "1\n"
     ]
    }
   ],
   "source": [
    "print(1)"
   ]
  },
  {
   "cell_type": "code",
   "execution_count": null,
   "metadata": {},
   "outputs": [],
   "source": []
  }
 ],
 "metadata": {
  "kernelspec": {
   "display_name": "Python 3",
   "language": "python",
   "name": "python3"
  },
  "language_info": {
   "codemirror_mode": {
    "name": "ipython",
    "version": 3
   },
   "file_extension": ".py",
   "mimetype": "text/x-python",
   "name": "python",
   "nbconvert_exporter": "python",
   "pygments_lexer": "ipython3",
   "version": "3.5.2"
  }
 },
 "nbformat": 4,
 "nbformat_minor": 2
}
